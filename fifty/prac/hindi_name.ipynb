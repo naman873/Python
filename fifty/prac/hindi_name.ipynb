{
 "cells": [
  {
   "cell_type": "code",
   "execution_count": 59,
   "metadata": {},
   "outputs": [],
   "source": [
    "from tensorflow.keras.preprocessing import sequence\n",
    "from tensorflow.keras.layers import Dense,Input,SimpleRNN,Embedding\n",
    "from tensorflow.keras.models import Model"
   ]
  },
  {
   "cell_type": "code",
   "execution_count": 55,
   "metadata": {},
   "outputs": [],
   "source": [
    "import numpy as np\n",
    "import pandas as pd\n",
    "import string\n",
    "import re\n",
    "from sklearn.model_selection import train_test_split"
   ]
  },
  {
   "cell_type": "code",
   "execution_count": 95,
   "metadata": {},
   "outputs": [],
   "source": [
    "from sklearn.utils import shuffle\n",
    "from sklearn.preprocessing import LabelEncoder"
   ]
  },
  {
   "cell_type": "code",
   "execution_count": 96,
   "metadata": {},
   "outputs": [],
   "source": [
    "men=pd.read_csv(\"../hindi_rev/Indian-Male-Names.csv\")\n",
    "female=pd.read_csv(\"../hindi_rev/Indian-Female-Names.csv\")"
   ]
  },
  {
   "cell_type": "code",
   "execution_count": 97,
   "metadata": {},
   "outputs": [],
   "source": [
    "total=men[:]\n",
    "total=total.append(female[:])"
   ]
  },
  {
   "cell_type": "code",
   "execution_count": null,
   "metadata": {},
   "outputs": [],
   "source": []
  },
  {
   "cell_type": "code",
   "execution_count": 98,
   "metadata": {},
   "outputs": [],
   "source": [
    "total=shuffle(total)"
   ]
  },
  {
   "cell_type": "code",
   "execution_count": 99,
   "metadata": {},
   "outputs": [],
   "source": [
    "total.reset_index(drop=True,inplace=True)"
   ]
  },
  {
   "cell_type": "code",
   "execution_count": 100,
   "metadata": {},
   "outputs": [],
   "source": [
    "X,y=total.iloc[:,0].values,total.iloc[:,1].values"
   ]
  },
  {
   "cell_type": "code",
   "execution_count": 101,
   "metadata": {},
   "outputs": [],
   "source": [
    "y=LabelEncoder().fit_transform(y)"
   ]
  },
  {
   "cell_type": "code",
   "execution_count": null,
   "metadata": {},
   "outputs": [],
   "source": []
  },
  {
   "cell_type": "code",
   "execution_count": 102,
   "metadata": {},
   "outputs": [],
   "source": [
    "def final(mod):\n",
    "    result=re.sub(r\"\\^w+\",\"\",str(mod))\n",
    "    return result"
   ]
  },
  {
   "cell_type": "code",
   "execution_count": 103,
   "metadata": {},
   "outputs": [],
   "source": [
    "X_final=[]\n",
    "for mod in X:\n",
    "    X_final.append(final(mod))"
   ]
  },
  {
   "cell_type": "code",
   "execution_count": null,
   "metadata": {},
   "outputs": [],
   "source": []
  },
  {
   "cell_type": "code",
   "execution_count": null,
   "metadata": {},
   "outputs": [],
   "source": []
  },
  {
   "cell_type": "code",
   "execution_count": 104,
   "metadata": {},
   "outputs": [],
   "source": [
    "letter=string.ascii_lowercase"
   ]
  },
  {
   "cell_type": "code",
   "execution_count": 105,
   "metadata": {},
   "outputs": [],
   "source": [
    "vocab=dict(zip(letter,range(3,29)))"
   ]
  },
  {
   "cell_type": "code",
   "execution_count": null,
   "metadata": {},
   "outputs": [],
   "source": []
  },
  {
   "cell_type": "code",
   "execution_count": 106,
   "metadata": {},
   "outputs": [],
   "source": [
    "X_mod=[]\n",
    "for mod in X_final:\n",
    "    res=[vocab[w] for w in mod.lower() if w in vocab]\n",
    "    res.insert(0,1)\n",
    "    res.append(2)\n",
    "    X_mod.append(res)"
   ]
  },
  {
   "cell_type": "code",
   "execution_count": null,
   "metadata": {},
   "outputs": [],
   "source": []
  },
  {
   "cell_type": "code",
   "execution_count": 107,
   "metadata": {},
   "outputs": [],
   "source": [
    "X_pad=sequence.pad_sequences(X_mod,maxlen=15)"
   ]
  },
  {
   "cell_type": "code",
   "execution_count": 108,
   "metadata": {},
   "outputs": [],
   "source": [
    "X_train, X_test, y_train, y_test = train_test_split(\n",
    "...     X_pad, y, test_size=0.33, random_state=42)"
   ]
  },
  {
   "cell_type": "code",
   "execution_count": null,
   "metadata": {},
   "outputs": [],
   "source": []
  },
  {
   "cell_type": "code",
   "execution_count": 109,
   "metadata": {},
   "outputs": [],
   "source": [
    "in_layer=Input(shape=(15,))\n",
    "embad=Embedding(input_dim=29,output_dim=3)(in_layer)\n",
    "rnn=SimpleRNN(units=10)(embad)\n",
    "out=Dense(units=1)(rnn)"
   ]
  },
  {
   "cell_type": "code",
   "execution_count": 110,
   "metadata": {},
   "outputs": [],
   "source": [
    "model=Model(inputs=in_layer,outputs=out)"
   ]
  },
  {
   "cell_type": "code",
   "execution_count": null,
   "metadata": {},
   "outputs": [],
   "source": []
  },
  {
   "cell_type": "code",
   "execution_count": 111,
   "metadata": {},
   "outputs": [],
   "source": [
    "model.compile(    optimizer='rmsprop',\n",
    "    loss=\"binary_crossentropy\",\n",
    "    metrics=[\"accuracy\"])"
   ]
  },
  {
   "cell_type": "code",
   "execution_count": 114,
   "metadata": {},
   "outputs": [
    {
     "name": "stdout",
     "output_type": "stream",
     "text": [
      "Train on 20252 samples\n",
      "Epoch 1/10\n",
      "20252/20252 [==============================] - 0s 6us/sample - loss: 0.5772 - accuracy: 0.7091\n",
      "Epoch 2/10\n",
      "20252/20252 [==============================] - 0s 5us/sample - loss: 0.5677 - accuracy: 0.7128\n",
      "Epoch 3/10\n",
      "20252/20252 [==============================] - 0s 5us/sample - loss: 0.5624 - accuracy: 0.7169\n",
      "Epoch 4/10\n",
      "20252/20252 [==============================] - 0s 5us/sample - loss: 0.5574 - accuracy: 0.7206\n",
      "Epoch 5/10\n",
      "20252/20252 [==============================] - 0s 5us/sample - loss: 0.5484 - accuracy: 0.7282\n",
      "Epoch 6/10\n",
      "20252/20252 [==============================] - 0s 5us/sample - loss: 0.5515 - accuracy: 0.7129\n",
      "Epoch 7/10\n",
      "20252/20252 [==============================] - 0s 4us/sample - loss: 0.5377 - accuracy: 0.7303\n",
      "Epoch 8/10\n",
      "20252/20252 [==============================] - 0s 5us/sample - loss: 0.5336 - accuracy: 0.7384\n",
      "Epoch 9/10\n",
      "20252/20252 [==============================] - 0s 5us/sample - loss: 0.5380 - accuracy: 0.7232\n",
      "Epoch 10/10\n",
      "20252/20252 [==============================] - 0s 5us/sample - loss: 0.5279 - accuracy: 0.7444\n"
     ]
    },
    {
     "data": {
      "text/plain": [
       "<tensorflow.python.keras.callbacks.History at 0x23d52c39860>"
      ]
     },
     "execution_count": 114,
     "metadata": {},
     "output_type": "execute_result"
    }
   ],
   "source": [
    "model.fit(X_train,y_train,batch_size=10000,epochs=10)"
   ]
  },
  {
   "cell_type": "code",
   "execution_count": 115,
   "metadata": {},
   "outputs": [
    {
     "data": {
      "text/plain": [
       "array([[0.08650785],\n",
       "       [0.18559138],\n",
       "       [0.6627695 ],\n",
       "       [0.13636576],\n",
       "       [0.5750902 ],\n",
       "       [0.5300484 ],\n",
       "       [0.16302143],\n",
       "       [0.0919134 ],\n",
       "       [0.358668  ],\n",
       "       [0.74168026]], dtype=float32)"
      ]
     },
     "execution_count": 115,
     "metadata": {},
     "output_type": "execute_result"
    }
   ],
   "source": [
    "model.predict(X_test_pad[:10])"
   ]
  },
  {
   "cell_type": "code",
   "execution_count": 116,
   "metadata": {},
   "outputs": [
    {
     "data": {
      "text/plain": [
       "array([1, 0, 0, 0, 0, 1, 0, 0, 1, 1])"
      ]
     },
     "execution_count": 116,
     "metadata": {},
     "output_type": "execute_result"
    }
   ],
   "source": [
    "y_test[:10]"
   ]
  },
  {
   "cell_type": "code",
   "execution_count": null,
   "metadata": {},
   "outputs": [],
   "source": []
  },
  {
   "cell_type": "code",
   "execution_count": 117,
   "metadata": {},
   "outputs": [
    {
     "data": {
      "text/plain": [
       "array([[0.5415192]], dtype=float32)"
      ]
     },
     "execution_count": 117,
     "metadata": {},
     "output_type": "execute_result"
    }
   ],
   "source": [
    "name=\"naman\"\n",
    "op=re.sub(r\"\\^w+\",\"\",name)\n",
    "gen=[vocab[index] for index in name.lower() if index in vocab]\n",
    "gen.insert(0,1)\n",
    "gen.append(2)\n",
    "f_name=gen\n",
    "\n",
    "f_name\n",
    "\n",
    "f_name=sequence.pad_sequences([f_name],maxlen=15)\n",
    "\n",
    "model.predict(f_name)"
   ]
  },
  {
   "cell_type": "code",
   "execution_count": null,
   "metadata": {},
   "outputs": [],
   "source": []
  }
 ],
 "metadata": {
  "kernelspec": {
   "display_name": "Python 3",
   "language": "python",
   "name": "python3"
  },
  "language_info": {
   "codemirror_mode": {
    "name": "ipython",
    "version": 3
   },
   "file_extension": ".py",
   "mimetype": "text/x-python",
   "name": "python",
   "nbconvert_exporter": "python",
   "pygments_lexer": "ipython3",
   "version": "3.6.10"
  }
 },
 "nbformat": 4,
 "nbformat_minor": 4
}
