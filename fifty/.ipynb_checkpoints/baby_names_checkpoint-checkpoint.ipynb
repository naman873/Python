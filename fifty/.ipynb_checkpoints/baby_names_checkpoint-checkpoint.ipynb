{
 "cells": [
  {
   "cell_type": "code",
   "execution_count": 1,
   "metadata": {},
   "outputs": [],
   "source": [
    "from tensorflow.keras.layers import Dense,Embedding,SimpleRNN,Input\n",
    "from tensorflow.keras.models import Model\n",
    "from tensorflow.keras.preprocessing import sequence\n",
    "\n",
    "from sklearn.model_selection import train_test_split\n",
    "import string\n",
    "\n",
    "from sklearn.preprocessing import LabelEncoder\n",
    "import numpy as np\n",
    "import pandas as pd"
   ]
  },
  {
   "cell_type": "code",
   "execution_count": 2,
   "metadata": {},
   "outputs": [],
   "source": [
    "data=pd.read_csv(\"NationalNames.csv\")"
   ]
  },
  {
   "cell_type": "code",
   "execution_count": 3,
   "metadata": {},
   "outputs": [
    {
     "data": {
      "text/html": [
       "<div>\n",
       "<style scoped>\n",
       "    .dataframe tbody tr th:only-of-type {\n",
       "        vertical-align: middle;\n",
       "    }\n",
       "\n",
       "    .dataframe tbody tr th {\n",
       "        vertical-align: top;\n",
       "    }\n",
       "\n",
       "    .dataframe thead th {\n",
       "        text-align: right;\n",
       "    }\n",
       "</style>\n",
       "<table border=\"1\" class=\"dataframe\">\n",
       "  <thead>\n",
       "    <tr style=\"text-align: right;\">\n",
       "      <th></th>\n",
       "      <th>Id</th>\n",
       "      <th>Name</th>\n",
       "      <th>Year</th>\n",
       "      <th>Gender</th>\n",
       "      <th>Count</th>\n",
       "    </tr>\n",
       "  </thead>\n",
       "  <tbody>\n",
       "    <tr>\n",
       "      <th>0</th>\n",
       "      <td>1</td>\n",
       "      <td>Mary</td>\n",
       "      <td>1880</td>\n",
       "      <td>F</td>\n",
       "      <td>7065</td>\n",
       "    </tr>\n",
       "    <tr>\n",
       "      <th>1</th>\n",
       "      <td>2</td>\n",
       "      <td>Anna</td>\n",
       "      <td>1880</td>\n",
       "      <td>F</td>\n",
       "      <td>2604</td>\n",
       "    </tr>\n",
       "    <tr>\n",
       "      <th>2</th>\n",
       "      <td>3</td>\n",
       "      <td>Emma</td>\n",
       "      <td>1880</td>\n",
       "      <td>F</td>\n",
       "      <td>2003</td>\n",
       "    </tr>\n",
       "    <tr>\n",
       "      <th>3</th>\n",
       "      <td>4</td>\n",
       "      <td>Elizabeth</td>\n",
       "      <td>1880</td>\n",
       "      <td>F</td>\n",
       "      <td>1939</td>\n",
       "    </tr>\n",
       "    <tr>\n",
       "      <th>4</th>\n",
       "      <td>5</td>\n",
       "      <td>Minnie</td>\n",
       "      <td>1880</td>\n",
       "      <td>F</td>\n",
       "      <td>1746</td>\n",
       "    </tr>\n",
       "  </tbody>\n",
       "</table>\n",
       "</div>"
      ],
      "text/plain": [
       "   Id       Name  Year Gender  Count\n",
       "0   1       Mary  1880      F   7065\n",
       "1   2       Anna  1880      F   2604\n",
       "2   3       Emma  1880      F   2003\n",
       "3   4  Elizabeth  1880      F   1939\n",
       "4   5     Minnie  1880      F   1746"
      ]
     },
     "execution_count": 3,
     "metadata": {},
     "output_type": "execute_result"
    }
   ],
   "source": [
    "data.head()"
   ]
  },
  {
   "cell_type": "code",
   "execution_count": 4,
   "metadata": {},
   "outputs": [],
   "source": [
    "X,y=data.iloc[:,1].values,data.iloc[:,3].values"
   ]
  },
  {
   "cell_type": "code",
   "execution_count": 5,
   "metadata": {},
   "outputs": [],
   "source": [
    "y=LabelEncoder().fit_transform(y)"
   ]
  },
  {
   "cell_type": "code",
   "execution_count": null,
   "metadata": {},
   "outputs": [],
   "source": []
  },
  {
   "cell_type": "code",
   "execution_count": 6,
   "metadata": {},
   "outputs": [],
   "source": [
    "let=string.ascii_lowercase"
   ]
  },
  {
   "cell_type": "code",
   "execution_count": 7,
   "metadata": {},
   "outputs": [],
   "source": [
    "vocab=dict(zip(let,range(3,29)))"
   ]
  },
  {
   "cell_type": "code",
   "execution_count": 8,
   "metadata": {},
   "outputs": [],
   "source": [
    "#final_let"
   ]
  },
  {
   "cell_type": "code",
   "execution_count": null,
   "metadata": {},
   "outputs": [],
   "source": []
  },
  {
   "cell_type": "code",
   "execution_count": 9,
   "metadata": {},
   "outputs": [],
   "source": [
    "#[final_let[index] for index in X[0].lower()]"
   ]
  },
  {
   "cell_type": "code",
   "execution_count": 10,
   "metadata": {},
   "outputs": [
    {
     "data": {
      "text/plain": [
       "'Mary'"
      ]
     },
     "execution_count": 10,
     "metadata": {},
     "output_type": "execute_result"
    }
   ],
   "source": [
    "X[0]"
   ]
  },
  {
   "cell_type": "code",
   "execution_count": 11,
   "metadata": {},
   "outputs": [],
   "source": [
    "X_mod=[]\n",
    "for mod in X:\n",
    "    gen=[vocab[index] for index in mod.lower()]\n",
    "    gen.insert(0,1)\n",
    "    gen.append(2)\n",
    "    X_mod.append(gen)"
   ]
  },
  {
   "cell_type": "code",
   "execution_count": 12,
   "metadata": {},
   "outputs": [
    {
     "data": {
      "text/plain": [
       "[1, 15, 3, 20, 27, 2]"
      ]
     },
     "execution_count": 12,
     "metadata": {},
     "output_type": "execute_result"
    }
   ],
   "source": [
    "X_mod[0]"
   ]
  },
  {
   "cell_type": "code",
   "execution_count": 13,
   "metadata": {},
   "outputs": [],
   "source": [
    "X_train, X_test, y_train, y_test = train_test_split(\n",
    "...     X_mod, y, test_size=0.33, random_state=42)"
   ]
  },
  {
   "cell_type": "code",
   "execution_count": 14,
   "metadata": {},
   "outputs": [],
   "source": [
    "X_train_padded=sequence.pad_sequences(X_train,maxlen=15)\n",
    "X_test_padded=sequence.pad_sequences(X_test,maxlen=15)"
   ]
  },
  {
   "cell_type": "code",
   "execution_count": 15,
   "metadata": {},
   "outputs": [
    {
     "data": {
      "text/plain": [
       "(602393, 15)"
      ]
     },
     "execution_count": 15,
     "metadata": {},
     "output_type": "execute_result"
    }
   ],
   "source": [
    "X_test_padded.shape"
   ]
  },
  {
   "cell_type": "code",
   "execution_count": null,
   "metadata": {},
   "outputs": [],
   "source": []
  },
  {
   "cell_type": "code",
   "execution_count": 16,
   "metadata": {},
   "outputs": [],
   "source": [
    "in_layer=Input(shape=(15,))\n",
    "embad=Embedding(input_dim=29,output_dim=3)(in_layer)\n",
    "rnn=SimpleRNN(units=60)(embad)\n",
    "out=Dense(units=1,activation=\"sigmoid\")(rnn)"
   ]
  },
  {
   "cell_type": "code",
   "execution_count": 17,
   "metadata": {},
   "outputs": [],
   "source": [
    "model=Model(inputs=in_layer,outputs=out)"
   ]
  },
  {
   "cell_type": "code",
   "execution_count": 18,
   "metadata": {},
   "outputs": [
    {
     "name": "stdout",
     "output_type": "stream",
     "text": [
      "Model: \"model\"\n",
      "_________________________________________________________________\n",
      "Layer (type)                 Output Shape              Param #   \n",
      "=================================================================\n",
      "input_1 (InputLayer)         [(None, 15)]              0         \n",
      "_________________________________________________________________\n",
      "embedding (Embedding)        (None, 15, 3)             87        \n",
      "_________________________________________________________________\n",
      "simple_rnn (SimpleRNN)       (None, 60)                3840      \n",
      "_________________________________________________________________\n",
      "dense (Dense)                (None, 1)                 61        \n",
      "=================================================================\n",
      "Total params: 3,988\n",
      "Trainable params: 3,988\n",
      "Non-trainable params: 0\n",
      "_________________________________________________________________\n"
     ]
    }
   ],
   "source": [
    "model.summary()"
   ]
  },
  {
   "cell_type": "code",
   "execution_count": 19,
   "metadata": {},
   "outputs": [],
   "source": [
    "model.compile(optimizer='rmsprop',loss=\"binary_crossentropy\",metrics=[\"accuracy\"])"
   ]
  },
  {
   "cell_type": "code",
   "execution_count": 20,
   "metadata": {},
   "outputs": [
    {
     "name": "stdout",
     "output_type": "stream",
     "text": [
      "Train on 978432 samples, validate on 244608 samples\n",
      "Epoch 1/5\n",
      "978432/978432 [==============================] - 20s 20us/sample - loss: 0.5792 - accuracy: 0.6867 - val_loss: 0.5009 - val_accuracy: 0.7583\n",
      "Epoch 2/5\n",
      "978432/978432 [==============================] - 19s 19us/sample - loss: 0.4791 - accuracy: 0.7721 - val_loss: 0.4639 - val_accuracy: 0.7821\n",
      "Epoch 3/5\n",
      "978432/978432 [==============================] - 19s 20us/sample - loss: 0.4633 - accuracy: 0.7830 - val_loss: 0.4585 - val_accuracy: 0.7859\n",
      "Epoch 4/5\n",
      "978432/978432 [==============================] - 19s 20us/sample - loss: 0.4605 - accuracy: 0.7850 - val_loss: 0.4558 - val_accuracy: 0.7873\n",
      "Epoch 5/5\n",
      "978432/978432 [==============================] - 19s 20us/sample - loss: 0.4595 - accuracy: 0.7857 - val_loss: 0.4637 - val_accuracy: 0.7812\n"
     ]
    }
   ],
   "source": [
    "out=model.fit(X_train_padded,y_train,epochs=5,batch_size=10000,validation_split=0.2)"
   ]
  },
  {
   "cell_type": "code",
   "execution_count": 47,
   "metadata": {},
   "outputs": [
    {
     "data": {
      "text/plain": [
       "[0.46631525864339607, 0.7800572]"
      ]
     },
     "execution_count": 47,
     "metadata": {},
     "output_type": "execute_result"
    }
   ],
   "source": [
    "model.evaluate(X_test_padded,y_test,verbose=0)"
   ]
  },
  {
   "cell_type": "code",
   "execution_count": 29,
   "metadata": {},
   "outputs": [],
   "source": [
    "import matplotlib.pyplot as plt"
   ]
  },
  {
   "cell_type": "code",
   "execution_count": 39,
   "metadata": {},
   "outputs": [
    {
     "data": {
      "image/png": "[encoded data removed]",
      "text/plain": [
       "<Figure size 576x396 with 1 Axes>"
      ]
     },
     "metadata": {},
     "output_type": "display_data"
    }
   ],
   "source": [
    "plt.style.use(\"seaborn\")\n",
    "plt.plot(out.history[\"accuracy\"],label=\"accuracy\")\n",
    "plt.plot(out.history[\"loss\"],label=\"loss\")\n",
    "plt.plot(out.history[\"val_loss\"],label=\"val_loss\")\n",
    "plt.plot(out.history[\"val_accuracy\"],label=\"val_accuracy\")\n",
    "plt.legend()\n",
    "plt.show()"
   ]
  },
  {
   "cell_type": "code",
   "execution_count": 48,
   "metadata": {},
   "outputs": [],
   "source": [
    "import os"
   ]
  },
  {
   "cell_type": "code",
   "execution_count": 45,
   "metadata": {},
   "outputs": [],
   "source": [
    "model.save(\"my_model.h5\")"
   ]
  },
  {
   "cell_type": "code",
   "execution_count": 53,
   "metadata": {},
   "outputs": [
    {
     "name": "stdout",
     "output_type": "stream",
     "text": [
      " Volume in drive C is Windows\n",
      " Volume Serial Number is DAB0-DD6E\n",
      "\n",
      " Directory of C:\\Users\\Naman\\python\\fifty\n",
      "\n",
      "01-05-2020  18:28    <DIR>          .\n",
      "01-05-2020  18:28    <DIR>          ..\n",
      "26-04-2020  20:15    <DIR>          .ipynb_checkpoints\n",
      "26-04-2020  17:28            22,143 baby_by_nb.ipynb\n",
      "01-05-2020  18:28            40,147 baby_names.ipynb\n",
      "01-05-2020  02:13    <DIR>          hindi_rev\n",
      "01-05-2020  18:19            62,664 my_model.h5\n",
      "25-04-2020  22:12        44,350,518 NationalNames.csv\n",
      "26-04-2020  20:14            13,389 RNN_movie_revie.ipynb\n",
      "               5 File(s)     44,488,861 bytes\n",
      "               4 Dir(s)  52,579,151,872 bytes free\n"
     ]
    }
   ],
   "source": [
    "ls"
   ]
  },
  {
   "cell_type": "code",
   "execution_count": 58,
   "metadata": {},
   "outputs": [],
   "source": [
    "model.load_weights(\"my_model.h5\")"
   ]
  },
  {
   "cell_type": "code",
   "execution_count": 57,
   "metadata": {},
   "outputs": [
    {
     "name": "stdout",
     "output_type": "stream",
     "text": [
      "602393/602393 [==============================] - 44s 74us/sample - loss: 0.4663 - accuracy: 0.7801\n"
     ]
    },
    {
     "data": {
      "text/plain": [
       "[0.46631525864339607, 0.7800572]"
      ]
     },
     "execution_count": 57,
     "metadata": {},
     "output_type": "execute_result"
    }
   ],
   "source": [
    "model.evaluate(X_test_padded,y_test)"
   ]
  },
  {
   "cell_type": "code",
   "execution_count": null,
   "metadata": {},
   "outputs": [],
   "source": []
  },
  {
   "cell_type": "code",
   "execution_count": 60,
   "metadata": {},
   "outputs": [],
   "source": [
    "from keras.callbacks import ModelCheckpoint\n",
    "from keras.callbacks import EarlyStopping"
   ]
  },
  {
   "cell_type": "code",
   "execution_count": 64,
   "metadata": {},
   "outputs": [
    {
     "name": "stdout",
     "output_type": "stream",
     "text": [
      "Train on 978432 samples, validate on 244608 samples\n",
      "Epoch 1/10\n",
      "978432/978432 [==============================] - 18s 18us/sample - loss: 0.4547 - accuracy: 0.7872 - val_loss: 0.4529 - val_accuracy: 0.7864\n",
      "Epoch 2/10\n",
      "978432/978432 [==============================] - 18s 18us/sample - loss: 0.4523 - accuracy: 0.7880 - val_loss: 0.4464 - val_accuracy: 0.7914\n",
      "Epoch 3/10\n",
      "978432/978432 [==============================] - 19s 19us/sample - loss: 0.4502 - accuracy: 0.7886 - val_loss: 0.4445 - val_accuracy: 0.7919\n",
      "Epoch 4/10\n",
      "978432/978432 [==============================] - 19s 20us/sample - loss: 0.4482 - accuracy: 0.7897 - val_loss: 0.4422 - val_accuracy: 0.7931\n",
      "Epoch 5/10\n",
      "978432/978432 [==============================] - 20s 20us/sample - loss: 0.4468 - accuracy: 0.7909 - val_loss: 0.4420 - val_accuracy: 0.7937\n",
      "Epoch 6/10\n",
      "978432/978432 [==============================] - 20s 20us/sample - loss: 0.4447 - accuracy: 0.7920 - val_loss: 0.4395 - val_accuracy: 0.7952\n",
      "Epoch 7/10\n",
      "978432/978432 [==============================] - 20s 21us/sample - loss: 0.4430 - accuracy: 0.7934 - val_loss: 0.4371 - val_accuracy: 0.7957\n",
      "Epoch 8/10\n",
      "978432/978432 [==============================] - 20s 20us/sample - loss: 0.4413 - accuracy: 0.7941 - val_loss: 0.4352 - val_accuracy: 0.7980\n",
      "Epoch 9/10\n",
      "978432/978432 [==============================] - 20s 20us/sample - loss: 0.4394 - accuracy: 0.7955 - val_loss: 0.4341 - val_accuracy: 0.7968\n",
      "Epoch 10/10\n",
      "978432/978432 [==============================] - 23s 23us/sample - loss: 0.4374 - accuracy: 0.7966 - val_loss: 0.4333 - val_accuracy: 0.7990\n"
     ]
    }
   ],
   "source": [
    "checkpoint=ModelCheckpoint(\"my_model.h5\",monitor=\"val_loss\",verbose=0,save_best_only=True,mode=\"auto\",period=1)\n",
    "early=EarlyStopping(monitor=\"my_model.h5\",patience=2)\n",
    "\n",
    "hissttt=model.fit(X_train_padded,y_train,epochs=10,batch_size=10000,validation_split=0.2,callbacks=[checkpoint\n",
    "                                                                                                  ,early])"
   ]
  },
  {
   "cell_type": "code",
   "execution_count": null,
   "metadata": {},
   "outputs": [],
   "source": []
  },
  {
   "cell_type": "code",
   "execution_count": null,
   "metadata": {},
   "outputs": [],
   "source": []
  },
  {
   "cell_type": "code",
   "execution_count": null,
   "metadata": {},
   "outputs": [],
   "source": []
  },
  {
   "cell_type": "code",
   "execution_count": 40,
   "metadata": {},
   "outputs": [
    {
     "data": {
      "text/plain": [
       "array([[0.6349134]], dtype=float32)"
      ]
     },
     "execution_count": 40,
     "metadata": {},
     "output_type": "execute_result"
    }
   ],
   "source": [
    "## Prediction\n",
    "\n",
    "name=\"Naman\"\n",
    "\n",
    "dat=[vocab[index] for index in name.lower()]\n",
    "dat.insert(0,1)\n",
    "dat.append(2)\n",
    "\n",
    "padded_dat=sequence.pad_sequences([dat],maxlen=15)\n",
    "\n",
    "padded_dat\n",
    "\n",
    "model.predict(padded_dat)"
   ]
  },
  {
   "cell_type": "code",
   "execution_count": null,
   "metadata": {},
   "outputs": [],
   "source": []
  },
  {
   "cell_type": "code",
   "execution_count": null,
   "metadata": {},
   "outputs": [],
   "source": []
  }
 ],
 "metadata": {
  "kernelspec": {
   "display_name": "Python 3",
   "language": "python",
   "name": "python3"
  },
  "language_info": {
   "codemirror_mode": {
    "name": "ipython",
    "version": 3
   },
   "file_extension": ".py",
   "mimetype": "text/x-python",
   "name": "python",
   "nbconvert_exporter": "python",
   "pygments_lexer": "ipython3",
   "version": "3.6.10"
  }
 },
 "nbformat": 4,
 "nbformat_minor": 4
}
