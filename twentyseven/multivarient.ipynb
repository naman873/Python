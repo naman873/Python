{
 "cells": [
  {
   "cell_type": "code",
   "execution_count": 10,
   "metadata": {},
   "outputs": [],
   "source": [
    "import numpy as np\n",
    "import matplotlib.pylab as plt"
   ]
  },
  {
   "cell_type": "code",
   "execution_count": 11,
   "metadata": {},
   "outputs": [],
   "source": [
    "from sklearn.datasets import make_regression"
   ]
  },
  {
   "cell_type": "code",
   "execution_count": 12,
   "metadata": {},
   "outputs": [],
   "source": [
    "x,y,coef=make_regression(n_features=5,bias=100,noise=10,random_state=42,coef=True)"
   ]
  },
  {
   "cell_type": "code",
   "execution_count": 13,
   "metadata": {},
   "outputs": [
    {
     "data": {
      "text/plain": [
       "(100, 5)"
      ]
     },
     "execution_count": 13,
     "metadata": {},
     "output_type": "execute_result"
    }
   ],
   "source": [
    "x.shape"
   ]
  },
  {
   "cell_type": "code",
   "execution_count": 14,
   "metadata": {},
   "outputs": [
    {
     "data": {
      "text/plain": [
       "(100,)"
      ]
     },
     "execution_count": 14,
     "metadata": {},
     "output_type": "execute_result"
    }
   ],
   "source": [
    "y.shape"
   ]
  },
  {
   "cell_type": "code",
   "execution_count": 15,
   "metadata": {},
   "outputs": [],
   "source": [
    "class multi:\n",
    "    def __init__(self,lr=1,steps=20):\n",
    "        self.lr=lr\n",
    "        self.steps=steps\n",
    "    \n",
    "    def fit(self,x,y):\n",
    "        self.coef=np.random.randn(x.shape[1])\n",
    "        self.intercept=np.random.random()\n",
    "        for i in range(self.steps):\n",
    "            self.gradient_descent(x,y)\n",
    "        #print(self.coef)   \n",
    "    def gradient_descent(self,x,y):\n",
    "        delta_coef,delta_inter=self.gradient(x,y)\n",
    "        self.coef+=delta_coef\n",
    "        self.intercept+=delta_inter\n",
    "    \n",
    "    def gradient(self,x,y):\n",
    "        yp=self.top(x)\n",
    "        ya=y.reshape(-1,1)\n",
    "        \n",
    "        diff=(yp-ya)\n",
    "        #print(yp.shape)\n",
    "        de2m=np.dot(diff.T,x).flatten()/len(x)\n",
    "        de2c=np.mean(diff ,axis=0)\n",
    "        return -de2m*self.lr,-de2c*self.lr\n",
    "    \n",
    "    def top(self,x):\n",
    "        #print(x)\n",
    "        return np.sum((self.coef)*x,axis=1,keepdims=True) + self.intercept"
   ]
  },
  {
   "cell_type": "code",
   "execution_count": 16,
   "metadata": {},
   "outputs": [],
   "source": [
    "a=multi()"
   ]
  },
  {
   "cell_type": "code",
   "execution_count": 20,
   "metadata": {},
   "outputs": [],
   "source": [
    "a.fit(x,y)"
   ]
  },
  {
   "cell_type": "code",
   "execution_count": 21,
   "metadata": {},
   "outputs": [
    {
     "data": {
      "text/plain": [
       "array([[  45.81949191],\n",
       "       [  52.56495068],\n",
       "       [-156.22742622],\n",
       "       [ 210.71202046],\n",
       "       [ -17.87984231]])"
      ]
     },
     "execution_count": 21,
     "metadata": {},
     "output_type": "execute_result"
    }
   ],
   "source": [
    "a.top(x[:5])"
   ]
  },
  {
   "cell_type": "code",
   "execution_count": null,
   "metadata": {},
   "outputs": [],
   "source": []
  },
  {
   "cell_type": "code",
   "execution_count": null,
   "metadata": {},
   "outputs": [],
   "source": []
  },
  {
   "cell_type": "code",
   "execution_count": null,
   "metadata": {},
   "outputs": [],
   "source": []
  }
 ],
 "metadata": {
  "kernelspec": {
   "display_name": "Python 3",
   "language": "python",
   "name": "python3"
  },
  "language_info": {
   "codemirror_mode": {
    "name": "ipython",
    "version": 3
   },
   "file_extension": ".py",
   "mimetype": "text/x-python",
   "name": "python",
   "nbconvert_exporter": "python",
   "pygments_lexer": "ipython3",
   "version": "3.7.4"
  }
 },
 "nbformat": 4,
 "nbformat_minor": 4
}
