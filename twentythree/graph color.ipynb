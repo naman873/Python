{
 "cells": [
  {
   "cell_type": "code",
   "execution_count": 5,
   "metadata": {},
   "outputs": [],
   "source": [
    "class Vertex:\n",
    "    def __init__(self,value):\n",
    "        self.value=value\n",
    "        self.neighbour=[]\n",
    "        \n",
    "    def __repr__(self):\n",
    "        return str(self.value)"
   ]
  },
  {
   "cell_type": "code",
   "execution_count": 13,
   "metadata": {},
   "outputs": [],
   "source": [
    "class Graph:\n",
    "    def __init__(self):\n",
    "        self.vertices=[]\n",
    "        \n",
    "    def find(self,value):\n",
    "        for ele in self.vertices:\n",
    "            if ele.value==value:\n",
    "                return ele\n",
    "        \n",
    "        return None\n",
    "      \n",
    "        \n",
    "    def add(self,value):\n",
    "        if not self.find(value):\n",
    "            self.vertices.append(Vertex(value))\n",
    "        else:\n",
    "            print(\"value already exist\")\n",
    "            \n",
    "    def edge(self,source,target):\n",
    "        source_v=self.find(source)\n",
    "        target_v=self.find(target)\n",
    "        \n",
    "        if source_v and target_v:\n",
    "            source_v.neighbour.append(target_v)\n",
    "            target_v.neighbour.append(source_v)\n",
    "        else:\n",
    "            print(\"Some of\",source , target,\"are missing\")\n",
    "    \n",
    "    def display(self):\n",
    "        for vertex in self.vertices:\n",
    "            print(vertex,end=\" : \")\n",
    "            print(\" ,\".join([str(neig) for neig in vertex.neighbour]))\n",
    "            print()\n",
    "            \n",
    "    def connectd_component(self,source=None):\n",
    "            \n",
    "        stack=list()\n",
    "        visited=set()\n",
    "        \n",
    "        components=[]\n",
    "        \n",
    "        for vertex in self.vertices:\n",
    "        \n",
    "            component=set()\n",
    "            stack.append(vertex)\n",
    "            visited.add(vertex)\n",
    "        \n",
    "            while len(stack)>0:\n",
    "                vertex=stack.pop()\n",
    "                component.add(vertex)\n",
    "            \n",
    "                for neigh in vertex.neighbour:\n",
    "                    if neigh not  in visited:\n",
    "                        visited.add(neigh)\n",
    "                        stack.append(neigh)\n",
    "            components.append(component)\n",
    "        return components\n",
    "\n",
    "    def color(self,source=None):\n",
    "            \n",
    "        stack=list()\n",
    "        visited=set()\n",
    "        \n",
    "        red=set()\n",
    "        green=set()\n",
    "        \n",
    "        for vertex in self.vertices:\n",
    "        \n",
    "            if vertex not in visited:\n",
    "                stack.append(vertex)\n",
    "                visited.add(vertex)\n",
    "                red.add(vertex)\n",
    "            while len(stack)>0:\n",
    "                vertex=stack.pop(0)\n",
    "            \n",
    "                for neigh in vertex.neighbour:\n",
    "                    if neigh not  in visited:\n",
    "                        if vertex in red:\n",
    "                            green.add(neigh)\n",
    "                        if vertex in green:\n",
    "                            green.add(neigh)\n",
    "                            \n",
    "                        visited.add(neigh)\n",
    "                        stack.append(neigh)\n",
    "                        \n",
    "                    else:\n",
    "                        if vertex in red and neigh in red:\n",
    "                            return False\n",
    "                        if vertex in green and neigh in green:\n",
    "                            return False\n",
    "                return True\n",
    "\n",
    "    "
   ]
  },
  {
   "cell_type": "code",
   "execution_count": 14,
   "metadata": {},
   "outputs": [],
   "source": [
    "a=Graph()"
   ]
  },
  {
   "cell_type": "code",
   "execution_count": 15,
   "metadata": {},
   "outputs": [],
   "source": [
    "a.add(1)"
   ]
  },
  {
   "cell_type": "code",
   "execution_count": 16,
   "metadata": {},
   "outputs": [],
   "source": [
    "a.add(2)\n",
    "a.add(3)\n",
    "a.add(4)\n",
    "a.add(5)"
   ]
  },
  {
   "cell_type": "code",
   "execution_count": 17,
   "metadata": {},
   "outputs": [],
   "source": [
    "a.edge(1,2)\n",
    "a.edge(1,3)\n",
    "a.edge(4,5)\n",
    "a.edge(2,3)"
   ]
  },
  {
   "cell_type": "code",
   "execution_count": 18,
   "metadata": {},
   "outputs": [
    {
     "data": {
      "text/plain": [
       "[{1, 2, 3}, {2}, {3}, {4, 5}, {5}]"
      ]
     },
     "execution_count": 18,
     "metadata": {},
     "output_type": "execute_result"
    }
   ],
   "source": [
    "a.connectd_component()"
   ]
  },
  {
   "cell_type": "code",
   "execution_count": 19,
   "metadata": {},
   "outputs": [
    {
     "data": {
      "text/plain": [
       "True"
      ]
     },
     "execution_count": 19,
     "metadata": {},
     "output_type": "execute_result"
    }
   ],
   "source": [
    "a.color()"
   ]
  },
  {
   "cell_type": "code",
   "execution_count": null,
   "metadata": {},
   "outputs": [],
   "source": []
  },
  {
   "cell_type": "code",
   "execution_count": null,
   "metadata": {},
   "outputs": [],
   "source": []
  },
  {
   "cell_type": "code",
   "execution_count": 19,
   "metadata": {},
   "outputs": [],
   "source": []
  },
  {
   "cell_type": "code",
   "execution_count": null,
   "metadata": {},
   "outputs": [],
   "source": []
  },
  {
   "cell_type": "code",
   "execution_count": null,
   "metadata": {},
   "outputs": [],
   "source": []
  },
  {
   "cell_type": "code",
   "execution_count": null,
   "metadata": {},
   "outputs": [],
   "source": []
  }
 ],
 "metadata": {
  "kernelspec": {
   "display_name": "Python 3",
   "language": "python",
   "name": "python3"
  },
  "language_info": {
   "codemirror_mode": {
    "name": "ipython",
    "version": 3
   },
   "file_extension": ".py",
   "mimetype": "text/x-python",
   "name": "python",
   "nbconvert_exporter": "python",
   "pygments_lexer": "ipython3",
   "version": "3.6.10"
  }
 },
 "nbformat": 4,
 "nbformat_minor": 4
}
