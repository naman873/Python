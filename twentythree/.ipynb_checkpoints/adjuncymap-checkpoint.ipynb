{
 "cells": [
  {
   "cell_type": "code",
   "execution_count": 1,
   "metadata": {},
   "outputs": [],
   "source": [
    "class Vertex:\n",
    "    def __init__(self,value):\n",
    "        self.value=value\n",
    "        self.neighbour={}\n",
    "        \n",
    "    def __repr__(self):\n",
    "        return str(self.value)"
   ]
  },
  {
   "cell_type": "code",
   "execution_count": 6,
   "metadata": {},
   "outputs": [],
   "source": [
    "class Graph:\n",
    "    def __init__(self):\n",
    "        self.vertices={}\n",
    "    \n",
    "    def isfound(self,value):\n",
    "        return self.vertices.get(value)\n",
    "    \n",
    "    def add_vertex(self,value):\n",
    "        if not self.isfound(value):\n",
    "            self.vertices[value]=Vertex(value)\n",
    "        else:\n",
    "            print(\"already exist\")\n",
    "    def add_edge(self,source,target,weight=1):\n",
    "        source_v=self.isfound(source)\n",
    "        target_v=self.isfound(target)\n",
    "        \n",
    "        if source_v and target_v:\n",
    "            source_v.neighbour[target_v]=weight\n",
    "            target_v.neighbour[source_v]=weight\n",
    "        else:\n",
    "            print(\"some of\",vertex,target,\"are missing\")\n",
    "    def display(self):\n",
    "        for vertex in self.vertices.values():\n",
    "            print(vertex,\":\",vertex.neighbour)\n",
    "                    "
   ]
  },
  {
   "cell_type": "code",
   "execution_count": 12,
   "metadata": {},
   "outputs": [],
   "source": [
    "a=Graph()"
   ]
  },
  {
   "cell_type": "code",
   "execution_count": 13,
   "metadata": {},
   "outputs": [],
   "source": [
    "a.add_vertex(1)\n",
    "a.add_vertex(2)\n",
    "a.add_vertex(3)\n",
    "a.add_vertex(4)\n",
    "a.add_edge(1,2)\n",
    "a.add_edge(1,3)\n",
    "a.add_edge(2,3)"
   ]
  },
  {
   "cell_type": "code",
   "execution_count": 14,
   "metadata": {},
   "outputs": [
    {
     "name": "stdout",
     "output_type": "stream",
     "text": [
      "1 : {2: 1, 3: 1}\n",
      "2 : {1: 1, 3: 1}\n",
      "3 : {1: 1, 2: 1}\n",
      "4 : {}\n"
     ]
    }
   ],
   "source": [
    "a.display()"
   ]
  },
  {
   "cell_type": "code",
   "execution_count": null,
   "metadata": {},
   "outputs": [],
   "source": []
  }
 ],
 "metadata": {
  "kernelspec": {
   "display_name": "Python 3",
   "language": "python",
   "name": "python3"
  },
  "language_info": {
   "codemirror_mode": {
    "name": "ipython",
    "version": 3
   },
   "file_extension": ".py",
   "mimetype": "text/x-python",
   "name": "python",
   "nbconvert_exporter": "python",
   "pygments_lexer": "ipython3",
   "version": "3.6.10"
  }
 },
 "nbformat": 4,
 "nbformat_minor": 4
}
