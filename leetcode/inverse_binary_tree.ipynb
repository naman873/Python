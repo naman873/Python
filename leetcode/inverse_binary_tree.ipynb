{
 "cells": [
  {
   "cell_type": "code",
   "execution_count": 143,
   "metadata": {},
   "outputs": [
    {
     "name": "stdout",
     "output_type": "stream",
     "text": [
      "[4,7,2,9,6,3,1]\n"
     ]
    }
   ],
   "source": [
    "# Definition for a binary tree node.\n",
    "class TreeNode(object):\n",
    "    def __init__(self, val=0, left=None, right=None):\n",
    "        self.val = val\n",
    "        self.left = left\n",
    "        self.right = right\n",
    "        \n",
    "class Solution(object):\n",
    "    def __init__(self):\n",
    "        self.root=None\n",
    "        \n",
    "    def add(self,value):\n",
    "        self.root= self.__add(value,self.root)\n",
    "    \n",
    "    def __add(self,value,node):\n",
    "        \n",
    "        if node==None:\n",
    "            node=TreeNode(value)\n",
    "            \n",
    "        else:\n",
    "            if node.val>=value:\n",
    "                node.left=self.__add(value,node.left)\n",
    "        \n",
    "            else:\n",
    "                node.right=self.__add(value,node.right)\n",
    "\n",
    "        return node\n",
    "        \n",
    "    def invertTree(self,root):\n",
    "        self.__inverseTree(root)\n",
    "        \n",
    "    def __inverseTree(self,node):\n",
    "        \n",
    "        if node==None:\n",
    "            return\n",
    "        \n",
    "        temp=node.left\n",
    "        node.left=node.right\n",
    "        node.right=temp\n",
    "        self.__inverseTree(node.left)\n",
    "        self.__inverseTree(node.right)\n",
    "        \n",
    "        \n",
    "    def display(self):\n",
    "        h=self.height(self.root)\n",
    "        a=[]\n",
    "        for i in range(1, h+1): \n",
    "            self.printGivenLevel(self.root, i,a)\n",
    "        \n",
    "        return str(a).replace(\" \",\"\")\n",
    "    \n",
    "    def printGivenLevel(self, root,level,b):\n",
    "\n",
    "        if root is None: \n",
    "            return\n",
    "        \n",
    "        if level == 1: \n",
    "            b.extend([root.val])\n",
    "            #print(b)\n",
    "            \n",
    "        elif level > 1 : \n",
    "            self.printGivenLevel(root.left , level-1,b) \n",
    "            self.printGivenLevel(root.right , level-1,b) \n",
    "        \n",
    "        \n",
    "    \n",
    "    def height(self,node):\n",
    "        if node==None:\n",
    "            return 0\n",
    "        \n",
    "        lheight=self.height(node.left)\n",
    "        rheight=self.height(node.right)\n",
    "        \n",
    "        if lheight>rheight:\n",
    "            return lheight+1\n",
    "        \n",
    "        else:\n",
    "            return rheight+1\n",
    "            \n",
    "        \n",
    "a=Solution()\n",
    "\n",
    "a.add(4)\n",
    "a.add(2)\n",
    "a.add(7)\n",
    "a.add(1)\n",
    "a.add(3)\n",
    "a.add(6)\n",
    "a.add(9)\n",
    "a.invertTree(a.root)\n",
    "print(a.display())"
   ]
  },
  {
   "cell_type": "code",
   "execution_count": 115,
   "metadata": {},
   "outputs": [
    {
     "name": "stdout",
     "output_type": "stream",
     "text": [
      "4 2 7 1 3 6 9 "
     ]
    }
   ],
   "source": [
    "a.display()"
   ]
  },
  {
   "cell_type": "code",
   "execution_count": 116,
   "metadata": {},
   "outputs": [
    {
     "name": "stdout",
     "output_type": "stream",
     "text": [
      "4 7 2 9 6 3 1 "
     ]
    }
   ],
   "source": [
    "a.invertTree(a.root)\n",
    "\n",
    "a.display()"
   ]
  },
  {
   "cell_type": "code",
   "execution_count": null,
   "metadata": {},
   "outputs": [],
   "source": []
  },
  {
   "cell_type": "code",
   "execution_count": null,
   "metadata": {},
   "outputs": [],
   "source": []
  },
  {
   "cell_type": "code",
   "execution_count": 120,
   "metadata": {},
   "outputs": [
    {
     "name": "stdout",
     "output_type": "stream",
     "text": [
      "['hello']\n"
     ]
    }
   ],
   "source": [
    "print([\"hello\"])"
   ]
  },
  {
   "cell_type": "code",
   "execution_count": null,
   "metadata": {},
   "outputs": [],
   "source": []
  }
 ],
 "metadata": {
  "kernelspec": {
   "display_name": "Python 3",
   "language": "python",
   "name": "python3"
  },
  "language_info": {
   "codemirror_mode": {
    "name": "ipython",
    "version": 3
   },
   "file_extension": ".py",
   "mimetype": "text/x-python",
   "name": "python",
   "nbconvert_exporter": "python",
   "pygments_lexer": "ipython3",
   "version": "3.7.4"
  }
 },
 "nbformat": 4,
 "nbformat_minor": 4
}
