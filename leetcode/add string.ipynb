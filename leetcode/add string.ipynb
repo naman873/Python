{
 "cells": [
  {
   "cell_type": "code",
   "execution_count": 18,
   "metadata": {},
   "outputs": [
    {
     "name": "stdout",
     "output_type": "stream",
     "text": [
      "110320130230\n"
     ]
    }
   ],
   "source": [
    "class Solution:\n",
    "    def addStrings(self, num1, num2):\n",
    "        \n",
    "        max_len=max(len(num1),len(num2))\n",
    "        \n",
    "        result=\"\"\n",
    "        carry='0'\n",
    "        \n",
    "        \n",
    "        for i in range(max_len-1,-1,-1):\n",
    "            #c=carry\n",
    "            if num1[i] =='0' and num2[i] =='0':\n",
    "                result= carry +result\n",
    "                \n",
    "            elif num1[i]=='0':\n",
    "                result= num2[i]+carry +result\n",
    "                \n",
    "            elif num2[i]=='0':\n",
    "                result= num1[i]+carry +result\n",
    "            \n",
    "            elif num1[i]>\"5\" and num2[i]>\"5\":\n",
    "                res=num1[i]+num2[i]\n",
    "                result=res[0] +carry + result\n",
    "                carry=res[1]\n",
    "            \n",
    "            else:\n",
    "                result=num1[i]+num2[i]+carry+result\n",
    "        \n",
    "        return result\n",
    "    \n",
    "a=Solution()\n",
    "print(a.addStrings(\"1312\",\"1233\"))"
   ]
  },
  {
   "cell_type": "code",
   "execution_count": null,
   "metadata": {},
   "outputs": [],
   "source": []
  },
  {
   "cell_type": "code",
   "execution_count": null,
   "metadata": {},
   "outputs": [],
   "source": []
  },
  {
   "cell_type": "code",
   "execution_count": null,
   "metadata": {},
   "outputs": [],
   "source": []
  },
  {
   "cell_type": "code",
   "execution_count": null,
   "metadata": {},
   "outputs": [],
   "source": []
  },
  {
   "cell_type": "code",
   "execution_count": null,
   "metadata": {},
   "outputs": [],
   "source": []
  },
  {
   "cell_type": "code",
   "execution_count": 39,
   "metadata": {},
   "outputs": [
    {
     "name": "stdout",
     "output_type": "stream",
     "text": [
      "[5, 4.5, 5.45, 2.545, 0.2545]\n"
     ]
    }
   ],
   "source": [
    "class Solution:\n",
    "    def addStrings(self, num1, num2):\n",
    "        \n",
    "        max_len=max(len(num1),len(num2))\n",
    "        if len(num1)>len(num2):\n",
    "            num2=num2.zfill(len(num1))\n",
    "        elif len(num2)>len(num1):\n",
    "            num1=num1.zfill(len(num2))\n",
    "        result=[]\n",
    "        carry=0\n",
    "        \n",
    "        \n",
    "        for i in range(max_len-1,-1,-1):\n",
    "           \n",
    "            summ=int(num1[i])+int(num2[i]) + carry\n",
    "            result.append(summ%10)\n",
    "            carry=(summ/10)\n",
    "        \n",
    "        if carry is not 0:\n",
    "            result.append(carry)\n",
    "        #result=reversed(result)\n",
    "        return str(result)\n",
    "    \n",
    "a=Solution()\n",
    "print(a.addStrings(\"1312\",\"1233\"))"
   ]
  },
  {
   "cell_type": "code",
   "execution_count": 32,
   "metadata": {},
   "outputs": [],
   "source": [
    "class Solution(object):\n",
    "    def addStrings(self, num1, num2):\n",
    "        \"\"\"\n",
    "        :type num1: str\n",
    "        :type num2: str\n",
    "        :rtype: str\n",
    "        \"\"\"\n",
    "        ans=[]\n",
    "        if len(num1)>len(num2):\n",
    "            num2=num2.zfill(len(num1))\n",
    "        elif len(num2)>len(num1):\n",
    "            num1=num1.zfill(len(num2))\n",
    "        listnum1=list(num1)\n",
    "        listnum2=list(num2)\n",
    "        carry =0\n",
    "        length = len(listnum1)\n",
    "        for x in range(length-1,-1,-1):\n",
    "            print(x)\n",
    "            anslist=[]\n",
    "            sum = int(listnum1[x])+int(listnum2[x])+carry\n",
    "            ans.append(sum%10)\n",
    "            carry = (sum/10)\n",
    "        if carry is not 0:\n",
    "            ans.append(carry)\n",
    "        ans=reversed(ans)\n",
    "        return ''.join(str(e) for e in ans)"
   ]
  },
  {
   "cell_type": "code",
   "execution_count": 33,
   "metadata": {},
   "outputs": [
    {
     "name": "stdout",
     "output_type": "stream",
     "text": [
      "3\n",
      "2\n",
      "1\n",
      "0\n",
      "0.25452.5455.454.55\n"
     ]
    }
   ],
   "source": [
    "a=Solution()\n",
    "print(a.addStrings(\"1312\",\"1233\"))"
   ]
  },
  {
   "cell_type": "code",
   "execution_count": 38,
   "metadata": {},
   "outputs": [
    {
     "data": {
      "text/plain": [
       "1.9"
      ]
     },
     "execution_count": 38,
     "metadata": {},
     "output_type": "execute_result"
    }
   ],
   "source": [
    "19/10"
   ]
  },
  {
   "cell_type": "code",
   "execution_count": null,
   "metadata": {},
   "outputs": [],
   "source": []
  }
 ],
 "metadata": {
  "kernelspec": {
   "display_name": "Python 3",
   "language": "python",
   "name": "python3"
  },
  "language_info": {
   "codemirror_mode": {
    "name": "ipython",
    "version": 3
   },
   "file_extension": ".py",
   "mimetype": "text/x-python",
   "name": "python",
   "nbconvert_exporter": "python",
   "pygments_lexer": "ipython3",
   "version": "3.7.4"
  }
 },
 "nbformat": 4,
 "nbformat_minor": 4
}
