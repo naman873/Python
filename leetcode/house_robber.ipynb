{
 "cells": [
  {
   "cell_type": "code",
   "execution_count": 14,
   "metadata": {},
   "outputs": [
    {
     "data": {
      "text/plain": [
       "2"
      ]
     },
     "execution_count": 14,
     "metadata": {},
     "output_type": "execute_result"
    }
   ],
   "source": [
    "class Solution:\n",
    "    def rob(self, nums):\n",
    "        rob=0\n",
    "        \n",
    "        if len(nums)==0:\n",
    "            return 0\n",
    "        \n",
    "        elif len(nums)==1:\n",
    "            return nums[0]\n",
    "        \n",
    "        elif len(nums)==2:\n",
    "            if nums[0]>nums[1]:\n",
    "                return nums[0]\n",
    "            else:\n",
    "                return nums[1]\n",
    "            \n",
    "        else:\n",
    "        \n",
    "            for i in range(0,len(nums),2):\n",
    "                rob+=nums[i]\n",
    "                i+=2\n",
    "\n",
    "\n",
    "        return rob\n",
    "    \n",
    "a=Solution()\n",
    "a.rob([1,2])"
   ]
  },
  {
   "cell_type": "code",
   "execution_count": null,
   "metadata": {},
   "outputs": [],
   "source": []
  },
  {
   "cell_type": "code",
   "execution_count": 34,
   "metadata": {},
   "outputs": [
    {
     "data": {
      "text/plain": [
       "2"
      ]
     },
     "execution_count": 34,
     "metadata": {},
     "output_type": "execute_result"
    }
   ],
   "source": [
    "class Solution:\n",
    "    def rob(self, nums):\n",
    "        rob_e=0\n",
    "        rob_o=0\n",
    "        \n",
    "        if len(nums)==0:\n",
    "            return 0\n",
    "        \n",
    "        elif len(nums)==1:\n",
    "            return nums[0]\n",
    "        \n",
    "        \n",
    "        for i in range(0,len(nums),2):\n",
    "                rob_e+=nums[i]\n",
    "                i+=2\n",
    "                \n",
    "        for i in range(1,len(nums),2):\n",
    "                rob_o+=nums[i]\n",
    "                i+=2\n",
    "        \n",
    "        if rob_e>rob_o:\n",
    "            return rob_e\n",
    "        \n",
    "        else:\n",
    "            return rob_o\n",
    "    \n",
    "a=Solution()\n",
    "a.rob([1,2])"
   ]
  },
  {
   "cell_type": "code",
   "execution_count": null,
   "metadata": {},
   "outputs": [],
   "source": []
  },
  {
   "cell_type": "code",
   "execution_count": 86,
   "metadata": {},
   "outputs": [],
   "source": [
    "class Solution():\n",
    "    def rob(self, nums):\n",
    "        prev = curr = 0\n",
    "        for value in nums:\n",
    "            prev, curr = curr, max(prev + value, curr)\n",
    "        return curr\n",
    "\n",
    "    def deleteAndEarn(self, nums):\n",
    "        points = [0] * 10\n",
    "        for num in nums:\n",
    "            points[num] += num\n",
    "        return points"
   ]
  },
  {
   "cell_type": "code",
   "execution_count": 87,
   "metadata": {},
   "outputs": [],
   "source": [
    "a=Solution()"
   ]
  },
  {
   "cell_type": "code",
   "execution_count": 88,
   "metadata": {},
   "outputs": [
    {
     "data": {
      "text/plain": [
       "[0, 1, 2, 3, 0, 0, 0, 7, 0, 9]"
      ]
     },
     "execution_count": 88,
     "metadata": {},
     "output_type": "execute_result"
    }
   ],
   "source": [
    "a.deleteAndEarn([2,7,9,3,1])"
   ]
  },
  {
   "cell_type": "code",
   "execution_count": null,
   "metadata": {},
   "outputs": [],
   "source": []
  },
  {
   "cell_type": "code",
   "execution_count": 89,
   "metadata": {},
   "outputs": [],
   "source": [
    "class Solution():\n",
    "    def rob(self, nums):\n",
    "        prev = curr = 0\n",
    "        for value in nums:\n",
    "            prev, curr = curr, max(prev + value, curr)\n",
    "            print(prev,curr)\n",
    "        return curr"
   ]
  },
  {
   "cell_type": "code",
   "execution_count": 90,
   "metadata": {},
   "outputs": [],
   "source": [
    "a=Solution()"
   ]
  },
  {
   "cell_type": "code",
   "execution_count": 92,
   "metadata": {},
   "outputs": [
    {
     "name": "stdout",
     "output_type": "stream",
     "text": [
      "0 2\n",
      "2 2\n",
      "2 3\n",
      "3 4\n"
     ]
    },
    {
     "data": {
      "text/plain": [
       "4"
      ]
     },
     "execution_count": 92,
     "metadata": {},
     "output_type": "execute_result"
    }
   ],
   "source": [
    "a.rob([2,1,1,2])"
   ]
  },
  {
   "cell_type": "code",
   "execution_count": 95,
   "metadata": {},
   "outputs": [],
   "source": [
    "def rob(nums):\n",
    "    curr=prev=0\n",
    "    for val in nums:\n",
    "        prev,curr=curr,max(val+prev,curr)\n",
    "        print(prev,curr)\n",
    "    return curr"
   ]
  },
  {
   "cell_type": "code",
   "execution_count": 96,
   "metadata": {},
   "outputs": [
    {
     "name": "stdout",
     "output_type": "stream",
     "text": [
      "0 2\n",
      "2 2\n",
      "2 3\n",
      "3 4\n"
     ]
    },
    {
     "data": {
      "text/plain": [
       "4"
      ]
     },
     "execution_count": 96,
     "metadata": {},
     "output_type": "execute_result"
    }
   ],
   "source": [
    "rob([2,1,1,2])"
   ]
  },
  {
   "cell_type": "code",
   "execution_count": null,
   "metadata": {},
   "outputs": [],
   "source": []
  }
 ],
 "metadata": {
  "kernelspec": {
   "display_name": "Python 3",
   "language": "python",
   "name": "python3"
  },
  "language_info": {
   "codemirror_mode": {
    "name": "ipython",
    "version": 3
   },
   "file_extension": ".py",
   "mimetype": "text/x-python",
   "name": "python",
   "nbconvert_exporter": "python",
   "pygments_lexer": "ipython3",
   "version": "3.7.4"
  }
 },
 "nbformat": 4,
 "nbformat_minor": 4
}
