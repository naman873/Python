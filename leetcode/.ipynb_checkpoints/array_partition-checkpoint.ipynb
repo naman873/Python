{
 "cells": [
  {
   "cell_type": "code",
   "execution_count": 8,
   "metadata": {},
   "outputs": [
    {
     "data": {
      "text/plain": [
       "4"
      ]
     },
     "execution_count": 8,
     "metadata": {},
     "output_type": "execute_result"
    }
   ],
   "source": [
    "class Solution:\n",
    "    def arrayPairSum(self, nums) :\n",
    "        #a=[]\n",
    "        #b=[]\n",
    "        #maxx=max(nums)\n",
    "        nums.sort()\n",
    "        ans=0\n",
    "        n=len(nums)\n",
    "        for i in range(0,n,2):\n",
    "            ans=ans+nums[i]\n",
    "            #print(nums[i])\n",
    "        return ans\n",
    "                \n",
    "\n",
    "a=Solution()\n",
    "a.arrayPairSum([1,4,3,2])"
   ]
  },
  {
   "cell_type": "code",
   "execution_count": null,
   "metadata": {},
   "outputs": [],
   "source": []
  },
  {
   "cell_type": "code",
   "execution_count": 12,
   "metadata": {},
   "outputs": [],
   "source": [
    "final=[]"
   ]
  },
  {
   "cell_type": "code",
   "execution_count": 15,
   "metadata": {},
   "outputs": [],
   "source": [
    "final.append([3])"
   ]
  },
  {
   "cell_type": "code",
   "execution_count": 16,
   "metadata": {},
   "outputs": [
    {
     "data": {
      "text/plain": [
       "[[2], [3]]"
      ]
     },
     "execution_count": 16,
     "metadata": {},
     "output_type": "execute_result"
    }
   ],
   "source": [
    "final\n"
   ]
  },
  {
   "cell_type": "code",
   "execution_count": 17,
   "metadata": {},
   "outputs": [],
   "source": [
    "final.append([])"
   ]
  },
  {
   "cell_type": "code",
   "execution_count": 19,
   "metadata": {},
   "outputs": [
    {
     "name": "stdout",
     "output_type": "stream",
     "text": [
      "yoo\n"
     ]
    }
   ],
   "source": [
    "if [] not in final:\n",
    "    print(\"bye\")\n",
    "else:\n",
    "    print(\"yoo\")"
   ]
  },
  {
   "cell_type": "code",
   "execution_count": 21,
   "metadata": {},
   "outputs": [],
   "source": [
    "a=[1,2,2,2]"
   ]
  },
  {
   "cell_type": "code",
   "execution_count": null,
   "metadata": {},
   "outputs": [],
   "source": []
  },
  {
   "cell_type": "code",
   "execution_count": null,
   "metadata": {},
   "outputs": [],
   "source": []
  },
  {
   "cell_type": "code",
   "execution_count": 61,
   "metadata": {},
   "outputs": [
    {
     "data": {
      "text/plain": [
       "[[1, 2, 2], [1, 2], [1], [2, 2], [2], []]"
      ]
     },
     "execution_count": 61,
     "metadata": {},
     "output_type": "execute_result"
    }
   ],
   "source": [
    "#class Solution:\n",
    "def subsetsWithDup(processed, nums):\n",
    "          \n",
    "        if len(nums)==0:\n",
    "            return [processed]\n",
    "        \n",
    "        acc=[]\n",
    "        index=nums[0]\n",
    "        \n",
    "        acc.extend(subsetsWithDup(processed+[index],nums[1:]))\n",
    "        acc.extend(subsetsWithDup(processed ,nums[1:]))\n",
    "        res = [] \n",
    "        for i in acc: \n",
    "            if i not in res: \n",
    "                res.append(i)\n",
    "            \n",
    "        return res\n",
    "    \n",
    "\n",
    "subsetsWithDup([],[1,2,2])"
   ]
  },
  {
   "cell_type": "code",
   "execution_count": null,
   "metadata": {},
   "outputs": [],
   "source": []
  },
  {
   "cell_type": "code",
   "execution_count": null,
   "metadata": {},
   "outputs": [],
   "source": []
  },
  {
   "cell_type": "code",
   "execution_count": 78,
   "metadata": {},
   "outputs": [],
   "source": [
    "class Solution():\n",
    "    def subsetsWithDup(self, nums):\n",
    "        \"\"\"\n",
    "        :type nums: List[int]\n",
    "        :rtype: List[List[int]]\n",
    "        \"\"\"\n",
    "        result = []\n",
    "        self.subsetsWithDupRecu(result, [], sorted(nums))\n",
    "        return result\n",
    "    \n",
    "    def subsetsWithDupRecu(self, result, cur, nums):\n",
    "        if not nums:\n",
    "            if cur not in result:\n",
    "                result.append(cur)\n",
    "        else:\n",
    "            self.subsetsWithDupRecu(result, cur, nums[1:])\n",
    "            self.subsetsWithDupRecu(result, cur + [nums[0]], nums[1:])\n",
    "\n",
    "a=Solution()\n",
    "\n",
    "a.subsetsWithDup(nums=[1,2,2])"
   ]
  },
  {
   "cell_type": "code",
   "execution_count": null,
   "metadata": {},
   "outputs": [],
   "source": []
  },
  {
   "cell_type": "code",
   "execution_count": null,
   "metadata": {},
   "outputs": [],
   "source": []
  },
  {
   "cell_type": "code",
   "execution_count": 108,
   "metadata": {},
   "outputs": [
    {
     "name": "stdout",
     "output_type": "stream",
     "text": [
      "[[1, 2, 2], [1, 2], [1], [2, 2], [2], []]\n"
     ]
    }
   ],
   "source": [
    "class Solution:\n",
    "\n",
    "    \n",
    "    def subsetsWithDup(self, nums):\n",
    "          \n",
    "        acc=[]\n",
    "        processed=[]\n",
    "        result=self.subsetsWithDuprec(processed,sorted(nums),acc)\n",
    "        \n",
    "        return acc\n",
    "        \n",
    "    def subsetsWithDuprec(self,processed,nums,acc):\n",
    "        if len(nums)==0:\n",
    "            if processed not in acc:\n",
    "                acc.append(processed)\n",
    "            \n",
    "        else:\n",
    "            index=nums[0]\n",
    "        \n",
    "            self.subsetsWithDuprec(processed+[index],nums[1:],acc)\n",
    "            self.subsetsWithDuprec(processed ,nums[1:],acc)\n",
    "    \n",
    "a=Solution()\n",
    "print(a.subsetsWithDup([1,2,2]))"
   ]
  },
  {
   "cell_type": "code",
   "execution_count": null,
   "metadata": {},
   "outputs": [],
   "source": []
  },
  {
   "cell_type": "code",
   "execution_count": null,
   "metadata": {},
   "outputs": [],
   "source": []
  },
  {
   "cell_type": "code",
   "execution_count": 100,
   "metadata": {},
   "outputs": [],
   "source": [
    "## corret but time exceed"
   ]
  },
  {
   "cell_type": "code",
   "execution_count": 107,
   "metadata": {},
   "outputs": [
    {
     "name": "stdout",
     "output_type": "stream",
     "text": [
      "[[1, 2, 2], [1, 2], [1], [2, 2], [2], []]\n"
     ]
    }
   ],
   "source": [
    "class Solution:\n",
    "\n",
    "    \n",
    "    def subsetsWithDup(self, nums):\n",
    "          \n",
    "        acc=[]\n",
    "        processed=[]\n",
    "        result=self.subsetsWithDuprec(processed,nums,acc)\n",
    "        \n",
    "        return result\n",
    "        \n",
    "    def subsetsWithDuprec(self,processed,nums,acc):\n",
    "        if len(nums)==0:\n",
    "            #if processed not in acc:\n",
    "            #acc.append(processed)\n",
    "            return [processed]\n",
    "            \n",
    "        index=nums[0]\n",
    "        \n",
    "        acc.extend(self.subsetsWithDuprec(processed+[index],nums[1:],acc))\n",
    "        acc.extend(self.subsetsWithDuprec(processed ,nums[1:],acc))\n",
    "        \n",
    "        res=[]    \n",
    "        \n",
    "        for i in acc:\n",
    "            if i not in res:\n",
    "                res.append(i)\n",
    "        return res\n",
    "    \n",
    "a=Solution()\n",
    "print(a.subsetsWithDup([1,2,2]))"
   ]
  },
  {
   "cell_type": "code",
   "execution_count": null,
   "metadata": {},
   "outputs": [],
   "source": []
  }
 ],
 "metadata": {
  "kernelspec": {
   "display_name": "Python 3",
   "language": "python",
   "name": "python3"
  },
  "language_info": {
   "codemirror_mode": {
    "name": "ipython",
    "version": 3
   },
   "file_extension": ".py",
   "mimetype": "text/x-python",
   "name": "python",
   "nbconvert_exporter": "python",
   "pygments_lexer": "ipython3",
   "version": "3.7.4"
  }
 },
 "nbformat": 4,
 "nbformat_minor": 4
}
