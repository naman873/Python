{
 "cells": [
  {
   "cell_type": "code",
   "execution_count": 6,
   "metadata": {},
   "outputs": [
    {
     "data": {
      "text/plain": [
       "5->10->15->20->25->30->"
      ]
     },
     "execution_count": 6,
     "metadata": {},
     "output_type": "execute_result"
    }
   ],
   "source": [
    "class Node:\n",
    "    def  __init__(self,value,nxt=None):\n",
    "        self.value=value\n",
    "        self.next=nxt\n",
    "\n",
    "class LinkedList:\n",
    "    def __init__(self):\n",
    "        self.head=None\n",
    "        self.tail=None\n",
    "        self.size=0\n",
    "        \n",
    "    def insertFirst(self,value):\n",
    "        node=Node(value,self.head)\n",
    "        self.head=node\n",
    "        \n",
    "        if self.tail==None:\n",
    "            self.tail=self.head\n",
    "            \n",
    "        self.size+=1\n",
    "        \n",
    "        \n",
    "    def sort(self,x,y):\n",
    "\n",
    "        acc=None\n",
    "        \n",
    "        if y==None:\n",
    "            return x\n",
    "        \n",
    "        if x==None:\n",
    "            return y\n",
    "        \n",
    "        if x.value <= y.value:\n",
    "            acc=x\n",
    "            acc.next=self.sort(x.next,y)\n",
    "            \n",
    "        else:\n",
    "            acc=y\n",
    "            acc.next=self.sort(x,y.next)\n",
    "        \n",
    "        return acc\n",
    "            \n",
    "        \n",
    "    def __repr__(self):\n",
    "        temp=self.head\n",
    "        \n",
    "        anw=\"\"\n",
    "        while temp!=None:\n",
    "            anw=anw+str(temp.value)+\"->\"\n",
    "            temp=temp.next\n",
    "        return anw    \n",
    "\n",
    "a=LinkedList()\n",
    "\n",
    "a.insertFirst(30)\n",
    "a.insertFirst(20)\n",
    "a.insertFirst(10)\n",
    "\n",
    "b=LinkedList()\n",
    "\n",
    "\n",
    "b.insertFirst(25)\n",
    "b.insertFirst(15)\n",
    "b.insertFirst(5)\n",
    "\n",
    "\n",
    "a\n",
    "\n",
    "b\n",
    "\n",
    "l3=LinkedList()\n",
    "\n",
    "l3.head=l3.sort(a.head,b.head)\n",
    "\n",
    "l3"
   ]
  },
  {
   "cell_type": "code",
   "execution_count": null,
   "metadata": {},
   "outputs": [],
   "source": []
  }
 ],
 "metadata": {
  "kernelspec": {
   "display_name": "Python 3",
   "language": "python",
   "name": "python3"
  },
  "language_info": {
   "codemirror_mode": {
    "name": "ipython",
    "version": 3
   },
   "file_extension": ".py",
   "mimetype": "text/x-python",
   "name": "python",
   "nbconvert_exporter": "python",
   "pygments_lexer": "ipython3",
   "version": "3.7.4"
  }
 },
 "nbformat": 4,
 "nbformat_minor": 4
}
