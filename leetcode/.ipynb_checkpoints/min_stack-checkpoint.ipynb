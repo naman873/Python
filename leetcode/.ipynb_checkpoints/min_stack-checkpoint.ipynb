{
 "cells": [
  {
   "cell_type": "code",
   "execution_count": 1,
   "metadata": {},
   "outputs": [],
   "source": [
    "import  numpy as np"
   ]
  },
  {
   "cell_type": "code",
   "execution_count": 8,
   "metadata": {},
   "outputs": [],
   "source": [
    "class MinStack:\n",
    "\n",
    "    def __init__(self):\n",
    "        \"\"\"\n",
    "        initialize your data structure here.\n",
    "        \"\"\"\n",
    "        self.topp=0\n",
    "        self.value=np.zeros((10000,),dtype=np.int)\n",
    "        \n",
    "\n",
    "    def push(self, x):\n",
    "        self.value[self.topp]=x\n",
    "        self.topp+=1\n",
    "        \n",
    "\n",
    "    def pop(self):\n",
    "        self.topp-=1\n",
    "        temp=self.value[self.topp]\n",
    "        return temp\n",
    "    \n",
    "    def top(self):\n",
    "        self.topp-=1\n",
    "        temp=self.value[self.topp]\n",
    "        self.topp+=1\n",
    "        return temp\n",
    "        \n",
    "    def getMin(self):\n",
    "        temp=self.value[0]\n",
    "        t=self.topp\n",
    "        for i in range(t):\n",
    "            if self.value[i]<temp:\n",
    "                temp=self.value[i]\n",
    "        return temp\n"
   ]
  },
  {
   "cell_type": "code",
   "execution_count": 9,
   "metadata": {},
   "outputs": [
    {
     "data": {
      "text/plain": [
       "-3"
      ]
     },
     "execution_count": 9,
     "metadata": {},
     "output_type": "execute_result"
    }
   ],
   "source": [
    "# Your MinStack object will be instantiated and called as such:\n",
    "obj = MinStack()\n",
    "obj.push(-2)\n",
    "obj.push(0)\n",
    "obj.push(-3)\n",
    "obj.getMin()\n",
    "#obj.pop()\n",
    "#obj.top()\n",
    "#obj.getMin()"
   ]
  },
  {
   "cell_type": "code",
   "execution_count": 10,
   "metadata": {},
   "outputs": [
    {
     "data": {
      "text/plain": [
       "-1"
      ]
     },
     "execution_count": 10,
     "metadata": {},
     "output_type": "execute_result"
    }
   ],
   "source": [
    "obj = MinStack()\n",
    "obj.push(-1)\n",
    "obj.top()\n",
    "obj.getMin()\n",
    "obj.push(1)\n",
    "obj.top()\n",
    "obj.getMin()"
   ]
  },
  {
   "cell_type": "code",
   "execution_count": 84,
   "metadata": {},
   "outputs": [
    {
     "data": {
      "text/plain": [
       "7"
      ]
     },
     "execution_count": 84,
     "metadata": {},
     "output_type": "execute_result"
    }
   ],
   "source": [
    "param_4"
   ]
  },
  {
   "cell_type": "code",
   "execution_count": null,
   "metadata": {},
   "outputs": [],
   "source": [
    "[\"MinStack\",\"push\",\"top\",\"getMin\",\"push\",\"top\",\"getMin\"]\n",
    "[[],[-1],[],[],[1],[],[]]"
   ]
  },
  {
   "cell_type": "code",
   "execution_count": null,
   "metadata": {},
   "outputs": [],
   "source": [
    "[null,null,-1,-1,null,1,1]\n",
    "\n",
    "Expected\n",
    "[null,null,-1,-1,null,1,-1]"
   ]
  },
  {
   "cell_type": "code",
   "execution_count": null,
   "metadata": {},
   "outputs": [],
   "source": []
  },
  {
   "cell_type": "code",
   "execution_count": null,
   "metadata": {},
   "outputs": [],
   "source": []
  },
  {
   "cell_type": "code",
   "execution_count": null,
   "metadata": {},
   "outputs": [],
   "source": []
  },
  {
   "cell_type": "code",
   "execution_count": 45,
   "metadata": {},
   "outputs": [],
   "source": [
    "class MinStack:\n",
    "\n",
    "    def __init__(self):\n",
    "        \"\"\"\n",
    "        initialize your data structure here.\n",
    "        \"\"\"\n",
    "        self.top=1\n",
    "        self.value=[range(0,10)]\n",
    "        \n",
    "\n",
    "    def push(self, x):\n",
    "        self.value.append(x)\n",
    "        self.top+=1\n",
    "        \n",
    "\n",
    "    def pop(self):\n",
    "        self.top-=1\n",
    "        temp=self.value[self.top]\n",
    "        return temp\n",
    "    \n",
    "    def top(self):\n",
    "        self.top-=1\n",
    "        temp=self.value[self.top]\n",
    "        return temp\n",
    "        \n",
    "    def getMin(self):\n",
    "        pass\n"
   ]
  },
  {
   "cell_type": "code",
   "execution_count": 46,
   "metadata": {},
   "outputs": [],
   "source": [
    "# Your MinStack object will be instantiated and called as such:\n",
    "a = MinStack()\n",
    "a.push(5)\n",
    "#obj.pop()\n",
    "a.push(7)\n",
    "# param_4 = obj.getMin()"
   ]
  },
  {
   "cell_type": "code",
   "execution_count": 47,
   "metadata": {},
   "outputs": [
    {
     "ename": "TypeError",
     "evalue": "'int' object is not callable",
     "output_type": "error",
     "traceback": [
      "\u001b[1;31m---------------------------------------------------------------------------\u001b[0m",
      "\u001b[1;31mTypeError\u001b[0m                                 Traceback (most recent call last)",
      "\u001b[1;32m<ipython-input-47-e04d2d9e58eb>\u001b[0m in \u001b[0;36m<module>\u001b[1;34m\u001b[0m\n\u001b[1;32m----> 1\u001b[1;33m \u001b[0ma\u001b[0m\u001b[1;33m.\u001b[0m\u001b[0mtop\u001b[0m\u001b[1;33m(\u001b[0m\u001b[1;33m)\u001b[0m\u001b[1;33m\u001b[0m\u001b[1;33m\u001b[0m\u001b[0m\n\u001b[0m",
      "\u001b[1;31mTypeError\u001b[0m: 'int' object is not callable"
     ]
    }
   ],
   "source": [
    "a.top()"
   ]
  },
  {
   "cell_type": "code",
   "execution_count": null,
   "metadata": {},
   "outputs": [],
   "source": []
  }
 ],
 "metadata": {
  "kernelspec": {
   "display_name": "Python 3",
   "language": "python",
   "name": "python3"
  },
  "language_info": {
   "codemirror_mode": {
    "name": "ipython",
    "version": 3
   },
   "file_extension": ".py",
   "mimetype": "text/x-python",
   "name": "python",
   "nbconvert_exporter": "python",
   "pygments_lexer": "ipython3",
   "version": "3.7.4"
  }
 },
 "nbformat": 4,
 "nbformat_minor": 4
}
