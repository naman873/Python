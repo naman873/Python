{
 "cells": [
  {
   "cell_type": "code",
   "execution_count": 38,
   "metadata": {},
   "outputs": [
    {
     "name": "stdout",
     "output_type": "stream",
     "text": [
      "4\n"
     ]
    }
   ],
   "source": [
    "class Solution:\n",
    "    def climbStairs(self, n):\n",
    "        \n",
    "        processed=0\n",
    "        \n",
    "        a=self.stair(n,processed,{})\n",
    "        \n",
    "        return a\n",
    "    \n",
    "    def stair(self,n,processed,memory):\n",
    "        if processed>n:\n",
    "            return 0\n",
    "        if processed==n:\n",
    "            return 1\n",
    "        \n",
    "        if memory.get(n):\n",
    "            return memory.get(n)\n",
    "        \n",
    "        acc=0\n",
    "        \n",
    "        acc+=self.stair(n,processed+1,memory)\n",
    "        acc+=self.stair(n,processed+2,memory)\n",
    "        memory[n]=acc\n",
    "        \n",
    "        return acc\n",
    "\n",
    "a=Solution()\n",
    "\n",
    "print(a.climbStairs(3))"
   ]
  },
  {
   "cell_type": "code",
   "execution_count": null,
   "metadata": {},
   "outputs": [],
   "source": []
  },
  {
   "cell_type": "code",
   "execution_count": 28,
   "metadata": {},
   "outputs": [],
   "source": [
    "class Solution:\n",
    "    def climbStairs(self, n):\n",
    "        cache={}\n",
    "        \n",
    "        def helper(n):\n",
    "            if n==1 or n==2:\n",
    "                return n\n",
    "            \n",
    "            elif n in cache:\n",
    "                return cache[n]\n",
    "            \n",
    "            else:\n",
    "                cache[n]=helper(n-1)+helper(n-2)\n",
    "                return cache[n]\n",
    "                            \n",
    "        return helper(n)"
   ]
  },
  {
   "cell_type": "code",
   "execution_count": 29,
   "metadata": {},
   "outputs": [
    {
     "name": "stdout",
     "output_type": "stream",
     "text": [
      "3\n"
     ]
    }
   ],
   "source": [
    "a=Solution()\n",
    "\n",
    "print(a.climbStairs(3))"
   ]
  },
  {
   "cell_type": "code",
   "execution_count": null,
   "metadata": {},
   "outputs": [],
   "source": []
  },
  {
   "cell_type": "code",
   "execution_count": 35,
   "metadata": {},
   "outputs": [
    {
     "name": "stdout",
     "output_type": "stream",
     "text": [
      "3\n"
     ]
    }
   ],
   "source": [
    "class Solution:\n",
    "    def climbStairs(self, n):\n",
    "\n",
    "        a=self.stair(n,{})\n",
    "        return a\n",
    "    \n",
    "    def stair(self,n,memory):\n",
    "        if n ==1 or n==2:\n",
    "            return n\n",
    "        \n",
    "        if memory.get(n):\n",
    "            return memory.get(n)    \n",
    "        \n",
    "        acc=self.stair(n-1,memory)+self.stair(n-2,memory)\n",
    "        memory[n]=acc\n",
    "        \n",
    "        return acc\n",
    "\n",
    "a=Solution()\n",
    "\n",
    "print(a.climbStairs(3))"
   ]
  },
  {
   "cell_type": "code",
   "execution_count": null,
   "metadata": {},
   "outputs": [],
   "source": []
  }
 ],
 "metadata": {
  "kernelspec": {
   "display_name": "Python 3",
   "language": "python",
   "name": "python3"
  },
  "language_info": {
   "codemirror_mode": {
    "name": "ipython",
    "version": 3
   },
   "file_extension": ".py",
   "mimetype": "text/x-python",
   "name": "python",
   "nbconvert_exporter": "python",
   "pygments_lexer": "ipython3",
   "version": "3.7.4"
  }
 },
 "nbformat": 4,
 "nbformat_minor": 4
}
