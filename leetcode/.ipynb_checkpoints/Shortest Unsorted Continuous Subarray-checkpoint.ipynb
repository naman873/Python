{
 "cells": [
  {
   "cell_type": "code",
   "execution_count": null,
   "metadata": {},
   "outputs": [],
   "source": []
  },
  {
   "cell_type": "code",
   "execution_count": 59,
   "metadata": {},
   "outputs": [],
   "source": [
    "class Solution:\n",
    "    def findUnsortedSubarray(self, nums):\n",
    "        l=len(nums)\n",
    "        if l==0:\n",
    "            return 0\n",
    "        \n",
    "        if l==1:\n",
    "            return 0\n",
    "        \n",
    "        #if l==2:\n",
    "         #   return max(nums)\n",
    "        \n",
    "        sort_li=sorted(nums)\n",
    "        \n",
    "        if sort_li==nums:\n",
    "            return 0\n",
    "        \n",
    "        final=[]\n",
    "        first=[]\n",
    "        last=[]\n",
    "        for i in range(len(nums)):\n",
    "            if nums[i]==sort_li[i]:\n",
    "                continue\n",
    "            else:\n",
    "                final.append(i)\n",
    "        \n",
    "        first=final[0]\n",
    "        \n",
    "        last=final[-1]\n",
    "        \n",
    "        ans=nums[first:last+1]\n",
    "        \n",
    "        ans1=len(ans)\n",
    "        return ans1\n",
    "        "
   ]
  },
  {
   "cell_type": "code",
   "execution_count": 60,
   "metadata": {},
   "outputs": [],
   "source": [
    "a=Solution()"
   ]
  },
  {
   "cell_type": "code",
   "execution_count": 61,
   "metadata": {},
   "outputs": [
    {
     "data": {
      "text/plain": [
       "0"
      ]
     },
     "execution_count": 61,
     "metadata": {},
     "output_type": "execute_result"
    }
   ],
   "source": [
    "li=[1,2,3,4]\n",
    "a.findUnsortedSubarray(li)"
   ]
  },
  {
   "cell_type": "code",
   "execution_count": null,
   "metadata": {},
   "outputs": [],
   "source": []
  },
  {
   "cell_type": "code",
   "execution_count": null,
   "metadata": {},
   "outputs": [],
   "source": []
  }
 ],
 "metadata": {
  "kernelspec": {
   "display_name": "Python 3",
   "language": "python",
   "name": "python3"
  },
  "language_info": {
   "codemirror_mode": {
    "name": "ipython",
    "version": 3
   },
   "file_extension": ".py",
   "mimetype": "text/x-python",
   "name": "python",
   "nbconvert_exporter": "python",
   "pygments_lexer": "ipython3",
   "version": "3.7.6"
  }
 },
 "nbformat": 4,
 "nbformat_minor": 4
}
