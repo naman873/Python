{
 "cells": [
  {
   "cell_type": "code",
   "execution_count": 19,
   "metadata": {},
   "outputs": [],
   "source": [
    "b=\"\""
   ]
  },
  {
   "cell_type": "code",
   "execution_count": 20,
   "metadata": {},
   "outputs": [
    {
     "data": {
      "text/plain": [
       "'1'"
      ]
     },
     "execution_count": 20,
     "metadata": {},
     "output_type": "execute_result"
    }
   ],
   "source": [
    "a[0]"
   ]
  },
  {
   "cell_type": "code",
   "execution_count": 22,
   "metadata": {},
   "outputs": [
    {
     "name": "stdout",
     "output_type": "stream",
     "text": [
      "bye\n"
     ]
    }
   ],
   "source": [
    "if a[0]!=\" \" and b[0]!=\" \":\n",
    "    print(\"hello\")\n",
    "    \n",
    "else:\n",
    "    print(\"bye\")"
   ]
  },
  {
   "cell_type": "code",
   "execution_count": null,
   "metadata": {},
   "outputs": [],
   "source": []
  },
  {
   "cell_type": "code",
   "execution_count": null,
   "metadata": {},
   "outputs": [],
   "source": []
  },
  {
   "cell_type": "code",
   "execution_count": 157,
   "metadata": {},
   "outputs": [],
   "source": [
    "class Solution:\n",
    "    def addBinary(self, a, b):\n",
    "        remainder=0\n",
    "        \n",
    "        alen=len(a)\n",
    "        blen=len(b)\n",
    "        totalsum=\"\"\n",
    "        \n",
    "        if alen>blen:\n",
    "            maxlen=alen\n",
    "        else:\n",
    "            maxlen=blen\n",
    "            \n",
    "        for i in range(maxlen):\n",
    "            \n",
    "            if a[i]!=\" \" and  b[i]!=\" \":\n",
    "                if remainder==0:\n",
    "                    if (a[i] == \"1\") and (b[i]== \"1\" ):\n",
    "                        totalsum = \"0\" +totalsum  \n",
    "                        remainder=1\n",
    "                \n",
    "                    elif (a[i]== \"1\" ) or (b[i]== \"1\"):\n",
    "                        totalsum=\"1\"+totalsum\n",
    "                        \n",
    "                    else:\n",
    "                        totalsum =\"0\"+ totalsum\n",
    "                    \n",
    "                else:\n",
    "                    if (a[i]== \"1\" ) and (b[i]== \"1\" ):\n",
    "                        totalsum = \"0\"+totalsum \n",
    "                        remainder=1\n",
    "                        \n",
    "                    elif (a[i]==\"1\") or (b[i]== \"1\"):\n",
    "                        totalsum=\"0\"+totalsum \n",
    "                        remainder=1\n",
    "                        \n",
    "                    else:\n",
    "                        totalsum =\"1\"+ totalsum\n",
    "                        remainder=0\n",
    "                    \n",
    "                \n",
    "            elif a[i] !=\" \" and b[i] ==\" \":\n",
    "                if remainder==0:\n",
    "                        totalsum = a[i]+ totalsum\n",
    "                    \n",
    "                else:\n",
    "                    if a[i]==\"1\":\n",
    "                        totalsum = \"0\"+ totalsum \n",
    "                        remainder=1\n",
    "                        \n",
    "                    else:\n",
    "                        totalsum =\"1\"+ totalsum\n",
    "                        remainder=0\n",
    "                \n",
    "                \n",
    "\n",
    "            elif b[i] !=\" \" and a[i] ==\" \":\n",
    "                if remainder==0:\n",
    "                        totalsum = b[i]+ totalsum \n",
    "                    \n",
    "                else:\n",
    "                    if b[i]==\"1\":\n",
    "                        totalsum = \"0\"+ totalsum \n",
    "                        remainder=1\n",
    "                        \n",
    "                    else:\n",
    "                        totalsum =\"1\" + totalsum\n",
    "                        remainder=0\n",
    "                        \n",
    "            if i == maxlen-1:\n",
    "                if remainder==1:\n",
    "                    totalsum=\"1\"+totalsum\n",
    " \n",
    "                \n",
    "        return totalsum,remainder\n"
   ]
  },
  {
   "cell_type": "code",
   "execution_count": null,
   "metadata": {},
   "outputs": [],
   "source": []
  },
  {
   "cell_type": "code",
   "execution_count": null,
   "metadata": {},
   "outputs": [],
   "source": []
  },
  {
   "cell_type": "code",
   "execution_count": 220,
   "metadata": {},
   "outputs": [],
   "source": [
    "class Solution:\n",
    "    def addBinary(self, a,b):\n",
    "        max_len=max(len(a),len(b))\n",
    "       \n",
    "        a=a.zfill(max_len)\n",
    "    \n",
    "        b=b.zfill(max_len)\n",
    "\n",
    "        result=''\n",
    "        carry=0\n",
    "        \n",
    "        for i in range(max_len-1,-1,-1):\n",
    "            r=carry\n",
    "            r += 1 if a[i] == '1' else 0\n",
    "            r += 1 if b[i] == '1' else 0\n",
    "            result = ('1' if r % 2 == 1 else '0') + result \n",
    "            carry = 0 if r < 2 else 1     # Compute the carry. \n",
    "        \n",
    "        if carry!=0:\n",
    "            result=\"1\" +result\n",
    "            \n",
    "        return result.zfill(max_len)"
   ]
  },
  {
   "cell_type": "code",
   "execution_count": 221,
   "metadata": {},
   "outputs": [],
   "source": [
    "a=Solution()"
   ]
  },
  {
   "cell_type": "code",
   "execution_count": 222,
   "metadata": {},
   "outputs": [
    {
     "data": {
      "text/plain": [
       "'100'"
      ]
     },
     "execution_count": 222,
     "metadata": {},
     "output_type": "execute_result"
    }
   ],
   "source": [
    "a.addBinary('11','1')"
   ]
  },
  {
   "cell_type": "code",
   "execution_count": null,
   "metadata": {},
   "outputs": [],
   "source": []
  },
  {
   "cell_type": "code",
   "execution_count": 6,
   "metadata": {},
   "outputs": [],
   "source": [
    "class Solution:\n",
    "    def addBinary(self, a,b):\n",
    "        max_len = max(len(a), len(b)) \n",
    "  \n",
    "        a = a.zfill(max_len) \n",
    "        b = b.zfill(max_len) \n",
    "          \n",
    "        # initialize the result \n",
    "        result = '' \n",
    "          \n",
    "        # initialize the carry \n",
    "        carry = 0\n",
    "  \n",
    "        # Traverse the string \n",
    "        for i in range(max_len - 1, -1, -1): \n",
    "            r = carry \n",
    "            r += 1 if a[i] == '1' else 0\n",
    "            r += 1 if b[i] == '1' else 0\n",
    "            result = ('1' if r % 2 == 1 else '0') + result \n",
    "            carry = 0 if r < 2 else 1     # Compute the carry. \n",
    "          \n",
    "        if carry !=0 :\n",
    "            result = '1' + result \n",
    "  \n",
    "        return result.zfill(max_len)"
   ]
  },
  {
   "cell_type": "code",
   "execution_count": 7,
   "metadata": {},
   "outputs": [
    {
     "name": "stdout",
     "output_type": "stream",
     "text": [
      "100\n"
     ]
    }
   ],
   "source": [
    "print(Solution().addBinary('11', '1')) "
   ]
  },
  {
   "cell_type": "code",
   "execution_count": null,
   "metadata": {},
   "outputs": [],
   "source": []
  },
  {
   "cell_type": "code",
   "execution_count": null,
   "metadata": {},
   "outputs": [],
   "source": []
  }
 ],
 "metadata": {
  "kernelspec": {
   "display_name": "Python 3",
   "language": "python",
   "name": "python3"
  },
  "language_info": {
   "codemirror_mode": {
    "name": "ipython",
    "version": 3
   },
   "file_extension": ".py",
   "mimetype": "text/x-python",
   "name": "python",
   "nbconvert_exporter": "python",
   "pygments_lexer": "ipython3",
   "version": "3.6.10"
  }
 },
 "nbformat": 4,
 "nbformat_minor": 4
}
