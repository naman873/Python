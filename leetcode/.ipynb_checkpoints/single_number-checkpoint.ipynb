{
 "cells": [
  {
   "cell_type": "code",
   "execution_count": 30,
   "metadata": {},
   "outputs": [],
   "source": [
    "import  numpy as np"
   ]
  },
  {
   "cell_type": "code",
   "execution_count": 184,
   "metadata": {},
   "outputs": [],
   "source": [
    "class Solution:\n",
    "    def singleNumber(self, nums):\n",
    "        \n",
    "        d={}\n",
    "        \n",
    "        for num in nums:\n",
    "            if num not in d:\n",
    "                d[num]={}\n",
    "                d[num]=1\n",
    "            else:\n",
    "                d[num]+=1\n",
    "                \n",
    "        val=d.values()\n",
    "        \n",
    "        a,count=np.unique(val,return_counts=True)\n",
    "        b=np.argmin(count)\n",
    "        #print(count)\n",
    "        ans=count[b]\n",
    "        \n",
    "        ans1=self.key(ans)\n",
    "        key = d.items()\n",
    "        \n",
    "        print(key)\n",
    "        return ans1\n",
    "    \n",
    "    def key(self,val):\n",
    "        for (key,value) in zip(d.items()):\n",
    "            if val==value:\n",
    "                return key\n",
    "            else:\n",
    "                return \"continue\""
   ]
  },
  {
   "cell_type": "code",
   "execution_count": 187,
   "metadata": {},
   "outputs": [],
   "source": [
    "a=Solution()\n",
    "\n",
    "#print(a.singleNumber([1,2,3,4,2,3,4,1,8]))"
   ]
  },
  {
   "cell_type": "code",
   "execution_count": null,
   "metadata": {},
   "outputs": [],
   "source": []
  },
  {
   "cell_type": "code",
   "execution_count": 47,
   "metadata": {},
   "outputs": [],
   "source": [
    "d={}"
   ]
  },
  {
   "cell_type": "code",
   "execution_count": 48,
   "metadata": {},
   "outputs": [],
   "source": [
    "nums=[1,2,3]"
   ]
  },
  {
   "cell_type": "code",
   "execution_count": 49,
   "metadata": {},
   "outputs": [],
   "source": [
    "d[nums[0]]={}"
   ]
  },
  {
   "cell_type": "code",
   "execution_count": 57,
   "metadata": {},
   "outputs": [],
   "source": [
    "d[nums[0]]+=9"
   ]
  },
  {
   "cell_type": "code",
   "execution_count": 58,
   "metadata": {},
   "outputs": [
    {
     "data": {
      "text/plain": [
       "{1: 11}"
      ]
     },
     "execution_count": 58,
     "metadata": {},
     "output_type": "execute_result"
    }
   ],
   "source": [
    "d"
   ]
  },
  {
   "cell_type": "code",
   "execution_count": null,
   "metadata": {},
   "outputs": [],
   "source": []
  },
  {
   "cell_type": "code",
   "execution_count": 189,
   "metadata": {},
   "outputs": [],
   "source": [
    "class Solution:\n",
    "    def singleNumber(self, nums):\n",
    "        \n",
    "        d={}\n",
    "        \n",
    "        for num in nums:\n",
    "            if num not in d:\n",
    "                d[num]={}\n",
    "                d[num]=1\n",
    "            else:\n",
    "                d[num]+=1\n",
    "                \n",
    "        val=d.values()\n",
    "        \n",
    "        a,count=np.unique(val,return_counts=True)\n",
    "        b=np.argmin(count)\n",
    "        #print(count)\n",
    "        ans=count[b]\n",
    "        \n",
    "        key_list=list(d.keys())\n",
    "        value_list=list(d.values())\n",
    "        \n",
    "        anss=key_list[value_list.index(ans)]\n",
    "        \n",
    "        return anss\n",
    "\n",
    "a=Solution()\n",
    "\n",
    "print(a.singleNumber([1,2,3,4,2,3,4,1,8]))"
   ]
  },
  {
   "cell_type": "code",
   "execution_count": null,
   "metadata": {},
   "outputs": [],
   "source": []
  }
 ],
 "metadata": {
  "kernelspec": {
   "display_name": "Python 3",
   "language": "python",
   "name": "python3"
  },
  "language_info": {
   "codemirror_mode": {
    "name": "ipython",
    "version": 3
   },
   "file_extension": ".py",
   "mimetype": "text/x-python",
   "name": "python",
   "nbconvert_exporter": "python",
   "pygments_lexer": "ipython3",
   "version": "3.7.4"
  }
 },
 "nbformat": 4,
 "nbformat_minor": 4
}
