{
 "cells": [
  {
   "cell_type": "code",
   "execution_count": 27,
   "metadata": {},
   "outputs": [
    {
     "data": {
      "text/plain": [
       "6"
      ]
     },
     "execution_count": 27,
     "metadata": {},
     "output_type": "execute_result"
    }
   ],
   "source": [
    "class Solution:\n",
    "    def maxSubArray(self, num):\n",
    "        max_sum=float('-inf')\n",
    "        \n",
    "        if len(num)==1:\n",
    "            return num[0]\n",
    "        \n",
    "        for i in range(len(num)):\n",
    "            for j in range(i,len(num)):\n",
    "                summ=0\n",
    "                for k in range(i,j+1):\n",
    "                    summ+=num[k]\n",
    "                    if summ>max_sum:\n",
    "                        max_sum=summ\n",
    "                \n",
    "        return max_sum\n",
    "\n",
    "a=Solution()\n",
    "\n",
    "a.maxSubArray([-2,1,-3,4,-1,2,1,-5,4])"
   ]
  },
  {
   "cell_type": "code",
   "execution_count": null,
   "metadata": {},
   "outputs": [],
   "source": []
  },
  {
   "cell_type": "code",
   "execution_count": 32,
   "metadata": {},
   "outputs": [],
   "source": [
    "class Solution:\n",
    "    def maxSubArray(self, num):\n",
    "        \n",
    "        if len(num)==1:\n",
    "            return num[0]\n",
    "        \n",
    "        sum_result = [0 for i in range(len(num))]\n",
    "        sum_result[0]=num[0]\n",
    "        \n",
    "        for i in range(1,len(num)):\n",
    "            if sum_result[i-1]<0:\n",
    "                sum_result[i]=num[i]\n",
    "            else:\n",
    "                sum_result[i]=sum_result[i-1] + num[i]\n",
    "        return max(sum_result)"
   ]
  },
  {
   "cell_type": "code",
   "execution_count": 34,
   "metadata": {},
   "outputs": [
    {
     "data": {
      "text/plain": [
       "6"
      ]
     },
     "execution_count": 34,
     "metadata": {},
     "output_type": "execute_result"
    }
   ],
   "source": [
    "a=Solution()\n",
    "\n",
    "a.maxSubArray([-2,1,-3,4,-1,2,1,-5,4])"
   ]
  },
  {
   "cell_type": "code",
   "execution_count": null,
   "metadata": {},
   "outputs": [],
   "source": []
  },
  {
   "cell_type": "code",
   "execution_count": 21,
   "metadata": {},
   "outputs": [
    {
     "data": {
      "text/plain": [
       "True"
      ]
     },
     "execution_count": 21,
     "metadata": {},
     "output_type": "execute_result"
    }
   ],
   "source": [
    "float('-inf')<-2103810293123"
   ]
  },
  {
   "cell_type": "code",
   "execution_count": null,
   "metadata": {},
   "outputs": [],
   "source": []
  }
 ],
 "metadata": {
  "kernelspec": {
   "display_name": "Python 3",
   "language": "python",
   "name": "python3"
  },
  "language_info": {
   "codemirror_mode": {
    "name": "ipython",
    "version": 3
   },
   "file_extension": ".py",
   "mimetype": "text/x-python",
   "name": "python",
   "nbconvert_exporter": "python",
   "pygments_lexer": "ipython3",
   "version": "3.6.10"
  }
 },
 "nbformat": 4,
 "nbformat_minor": 4
}
