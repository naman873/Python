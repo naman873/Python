{
 "cells": [
  {
   "cell_type": "code",
   "execution_count": 15,
   "metadata": {},
   "outputs": [],
   "source": [
    "import gym"
   ]
  },
  {
   "cell_type": "code",
   "execution_count": 16,
   "metadata": {},
   "outputs": [],
   "source": [
    "env = gym.make('CartPole-v0')"
   ]
  },
  {
   "cell_type": "code",
   "execution_count": 17,
   "metadata": {},
   "outputs": [],
   "source": [
    "env.unwrapped.state"
   ]
  },
  {
   "cell_type": "code",
   "execution_count": 18,
   "metadata": {},
   "outputs": [
    {
     "data": {
      "text/plain": [
       "array([-0.00714342,  0.04249469,  0.02983727,  0.01079474])"
      ]
     },
     "execution_count": 18,
     "metadata": {},
     "output_type": "execute_result"
    }
   ],
   "source": [
    "env.reset()"
   ]
  },
  {
   "cell_type": "code",
   "execution_count": 19,
   "metadata": {},
   "outputs": [
    {
     "data": {
      "text/plain": [
       "array([-0.00714342,  0.04249469,  0.02983727,  0.01079474])"
      ]
     },
     "execution_count": 19,
     "metadata": {},
     "output_type": "execute_result"
    }
   ],
   "source": [
    "env.unwrapped.state"
   ]
  },
  {
   "cell_type": "code",
   "execution_count": 20,
   "metadata": {},
   "outputs": [
    {
     "data": {
      "text/plain": [
       "Discrete(2)"
      ]
     },
     "execution_count": 20,
     "metadata": {},
     "output_type": "execute_result"
    }
   ],
   "source": [
    "env.unwrapped.action_space"
   ]
  },
  {
   "cell_type": "code",
   "execution_count": 21,
   "metadata": {},
   "outputs": [
    {
     "data": {
      "text/plain": [
       "9.8"
      ]
     },
     "execution_count": 21,
     "metadata": {},
     "output_type": "execute_result"
    }
   ],
   "source": [
    "env.unwrapped.gravity"
   ]
  },
  {
   "cell_type": "code",
   "execution_count": 24,
   "metadata": {},
   "outputs": [
    {
     "data": {
      "text/plain": [
       "array([-0.03309717, -0.0098418 , -0.0311697 , -0.01222653])"
      ]
     },
     "execution_count": 24,
     "metadata": {},
     "output_type": "execute_result"
    }
   ],
   "source": [
    "a=env.reset()\n",
    "a-[20.00,0,0,0]\n",
    "a\n",
    "#env.unwrapped.action_space=[7]\n",
    "#env.unwrapped.action_space\n",
    "#env.action_space.sample()"
   ]
  },
  {
   "cell_type": "code",
   "execution_count": 9,
   "metadata": {},
   "outputs": [],
   "source": [
    "#env.step(env.action_space.sample())"
   ]
  },
  {
   "cell_type": "code",
   "execution_count": 22,
   "metadata": {},
   "outputs": [
    {
     "data": {
      "text/plain": [
       "(array([-0.00629353,  0.23717631,  0.03005316, -0.27232685]), 1.0, False, {})"
      ]
     },
     "execution_count": 22,
     "metadata": {},
     "output_type": "execute_result"
    }
   ],
   "source": [
    "env.step(1)"
   ]
  },
  {
   "cell_type": "code",
   "execution_count": 25,
   "metadata": {},
   "outputs": [
    {
     "data": {
      "text/plain": [
       "array([-0.03309717, -0.0098418 , -0.0311697 , -0.01222653])"
      ]
     },
     "execution_count": 25,
     "metadata": {},
     "output_type": "execute_result"
    }
   ],
   "source": [
    "env.unwrapped.state"
   ]
  },
  {
   "cell_type": "code",
   "execution_count": 28,
   "metadata": {},
   "outputs": [],
   "source": [
    "for i in range(100):\n",
    "    state,reward,done,info=env.step(1)\n",
    "    #out=env.step(1)\n",
    "    #print(state)"
   ]
  },
  {
   "cell_type": "code",
   "execution_count": 34,
   "metadata": {},
   "outputs": [],
   "source": [
    "for episode in range(5):\n",
    "    done=False\n",
    "    env.reset()\n",
    "    env.unwrapped.gravity=10\n",
    "    for i in range(20):\n",
    "        state , reward , done , info=env.step(1)\n",
    "        env.render()\n",
    "        state , reward , done , info=env.step(0)\n",
    "        \n",
    "        env.render()\n",
    "env.close()"
   ]
  },
  {
   "cell_type": "code",
   "execution_count": 30,
   "metadata": {},
   "outputs": [],
   "source": [
    "for episode in range(10):\n",
    "    done=False\n",
    "    origin=env.reset()\n",
    "    env.unwrapped.gravity=10\n",
    "    position=[.1,0,0,0]\n",
    "    for i in range(50):\n",
    "        origin+=[.1,0,0,0]\n",
    "        env.unwrapped.state=origin\n",
    "        env.render()\n",
    "env.close()"
   ]
  },
  {
   "cell_type": "code",
   "execution_count": null,
   "metadata": {},
   "outputs": [],
   "source": []
  },
  {
   "cell_type": "code",
   "execution_count": null,
   "metadata": {},
   "outputs": [],
   "source": []
  },
  {
   "cell_type": "code",
   "execution_count": 32,
   "metadata": {},
   "outputs": [
    {
     "name": "stdout",
     "output_type": "stream",
     "text": [
      "game episode :0/20 High score:13\n",
      "game episode :1/20 High score:23\n",
      "game episode :2/20 High score:10\n",
      "game episode :3/20 High score:12\n",
      "game episode :4/20 High score:23\n",
      "game episode :5/20 High score:18\n",
      "game episode :6/20 High score:20\n",
      "game episode :7/20 High score:39\n",
      "game episode :8/20 High score:14\n",
      "game episode :9/20 High score:14\n",
      "game episode :10/20 High score:11\n",
      "game episode :11/20 High score:13\n",
      "game episode :12/20 High score:12\n",
      "game episode :13/20 High score:26\n",
      "game episode :14/20 High score:44\n",
      "game episode :15/20 High score:10\n",
      "game episode :16/20 High score:26\n",
      "game episode :17/20 High score:24\n",
      "game episode :19/20 High score:13\n"
     ]
    }
   ],
   "source": [
    "for e in range(20):\n",
    "\n",
    "    observation=env.reset()\n",
    "    #env.unwrapped.gravity=10\n",
    "    for i in range(50):\n",
    "    \n",
    "        env.render()\n",
    "        action=env.action_space.sample()\n",
    "        state , reward , done , info=env.step(action)\n",
    "        \n",
    "        if done:\n",
    "            \n",
    "            print(\"game episode :{}/{} High score:{}\".format(e,20,i))\n",
    "            break\n",
    "env.close()"
   ]
  },
  {
   "cell_type": "code",
   "execution_count": 33,
   "metadata": {},
   "outputs": [],
   "source": [
    "for episode in range(20):\n",
    "    done = False\n",
    "    env.reset()\n",
    "    env.unwrapped.gravity = 100\n",
    "    for i in range(200):\n",
    "        state, reward, done, info = env.step(1)\n",
    "        env.render()\n",
    "        state, reward, done, info = env.step(0)\n",
    "        env.render()\n",
    "\n",
    "env.close()"
   ]
  },
  {
   "cell_type": "code",
   "execution_count": null,
   "metadata": {},
   "outputs": [],
   "source": []
  }
 ],
 "metadata": {
  "kernelspec": {
   "display_name": "Python 3",
   "language": "python",
   "name": "python3"
  },
  "language_info": {
   "codemirror_mode": {
    "name": "ipython",
    "version": 3
   },
   "file_extension": ".py",
   "mimetype": "text/x-python",
   "name": "python",
   "nbconvert_exporter": "python",
   "pygments_lexer": "ipython3",
   "version": "3.7.6"
  }
 },
 "nbformat": 4,
 "nbformat_minor": 4
}
