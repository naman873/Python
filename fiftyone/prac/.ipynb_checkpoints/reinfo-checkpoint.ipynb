{
 "cells": [
  {
   "cell_type": "code",
   "execution_count": 2,
   "metadata": {},
   "outputs": [],
   "source": [
    "import gym"
   ]
  },
  {
   "cell_type": "code",
   "execution_count": 3,
   "metadata": {},
   "outputs": [],
   "source": [
    "env=gym.make(\"CartPole-v0\")"
   ]
  },
  {
   "cell_type": "code",
   "execution_count": 80,
   "metadata": {},
   "outputs": [],
   "source": [
    "a=env.reset()"
   ]
  },
  {
   "cell_type": "code",
   "execution_count": 81,
   "metadata": {},
   "outputs": [
    {
     "data": {
      "text/plain": [
       "array([-1.00130979, -0.98355652, -0.98260062, -0.97206317])"
      ]
     },
     "execution_count": 81,
     "metadata": {},
     "output_type": "execute_result"
    }
   ],
   "source": [
    "a-1"
   ]
  },
  {
   "cell_type": "code",
   "execution_count": 82,
   "metadata": {},
   "outputs": [
    {
     "data": {
      "text/plain": [
       "0"
      ]
     },
     "execution_count": 82,
     "metadata": {},
     "output_type": "execute_result"
    }
   ],
   "source": [
    "env.action_space.sample()"
   ]
  },
  {
   "cell_type": "code",
   "execution_count": 83,
   "metadata": {},
   "outputs": [
    {
     "data": {
      "text/plain": [
       "(array([-0.00098092,  0.21131165,  0.01795812, -0.25920602]), 1.0, False, {})"
      ]
     },
     "execution_count": 83,
     "metadata": {},
     "output_type": "execute_result"
    }
   ],
   "source": [
    "env.step(1)"
   ]
  },
  {
   "cell_type": "code",
   "execution_count": null,
   "metadata": {},
   "outputs": [],
   "source": []
  },
  {
   "cell_type": "code",
   "execution_count": 89,
   "metadata": {},
   "outputs": [],
   "source": [
    "for i in range(500):\n",
    "    env.reset()\n",
    "    env.render()\n",
    "    action=env.action_space.sample()\n",
    "    state,reward,done,info=env.step(action)\n",
    "    if done:\n",
    "        print(i)\n",
    "env.close()"
   ]
  },
  {
   "cell_type": "code",
   "execution_count": null,
   "metadata": {},
   "outputs": [],
   "source": []
  },
  {
   "cell_type": "code",
   "execution_count": 4,
   "metadata": {},
   "outputs": [],
   "source": [
    "for i in range(100):\n",
    "    env.unwrapped.gravity=10\n",
    "    env.reset()\n",
    "    env.render()\n",
    "    state, reward,done,info=env.step(1)\n",
    "    state, reward,done,info=env.step(1)\n",
    "    state, reward,done,info=env.step(1)  \n",
    "    env.render()\n",
    "    state, reward,done,info=env.step(0)\n",
    "    env.render()\n",
    "env.close()"
   ]
  },
  {
   "cell_type": "code",
   "execution_count": null,
   "metadata": {},
   "outputs": [],
   "source": []
  },
  {
   "cell_type": "code",
   "execution_count": 102,
   "metadata": {},
   "outputs": [],
   "source": [
    "for episode in range(1):\n",
    "    env.reset()\n",
    "    #env.unwrapped.gravity=10\n",
    "    \n",
    "    for i in range(100):\n",
    "        state, reward,done,info=env.step(0)\n",
    "        env.render()\n",
    "        state, reward,done,info=env.step(1)\n",
    "        env.render()       \n",
    "        #if done:\n",
    "         #   print(i)\n",
    "env.close()"
   ]
  },
  {
   "cell_type": "code",
   "execution_count": null,
   "metadata": {},
   "outputs": [],
   "source": []
  },
  {
   "cell_type": "code",
   "execution_count": null,
   "metadata": {},
   "outputs": [],
   "source": []
  },
  {
   "cell_type": "code",
   "execution_count": 111,
   "metadata": {},
   "outputs": [],
   "source": [
    "for episode in range(5):\n",
    "    orignal=env.reset()\n",
    "    env.unwrapped.gravity=10\n",
    "    for i in range(10):\n",
    "        orignal+=[0,0,0,0.1]\n",
    "        env.unwrapped.state=orignal\n",
    "        env.render()\n",
    "        \n",
    "env.close()"
   ]
  },
  {
   "cell_type": "code",
   "execution_count": null,
   "metadata": {},
   "outputs": [],
   "source": []
  },
  {
   "cell_type": "code",
   "execution_count": null,
   "metadata": {},
   "outputs": [],
   "source": []
  },
  {
   "cell_type": "code",
   "execution_count": 122,
   "metadata": {},
   "outputs": [],
   "source": [
    "ori=env.reset()"
   ]
  },
  {
   "cell_type": "code",
   "execution_count": 123,
   "metadata": {},
   "outputs": [
    {
     "data": {
      "text/plain": [
       "array([ 0.03374801, -0.00209515, -0.01887852, -0.02637247])"
      ]
     },
     "execution_count": 123,
     "metadata": {},
     "output_type": "execute_result"
    }
   ],
   "source": [
    "env.unwrapped.state"
   ]
  },
  {
   "cell_type": "code",
   "execution_count": 124,
   "metadata": {},
   "outputs": [],
   "source": [
    "env.unwrapped.state+=[1,0,0,0]"
   ]
  },
  {
   "cell_type": "code",
   "execution_count": 125,
   "metadata": {},
   "outputs": [
    {
     "data": {
      "text/plain": [
       "array([ 1.03374801, -0.00209515, -0.01887852, -0.02637247])"
      ]
     },
     "execution_count": 125,
     "metadata": {},
     "output_type": "execute_result"
    }
   ],
   "source": [
    "env.unwrapped.state"
   ]
  },
  {
   "cell_type": "code",
   "execution_count": null,
   "metadata": {},
   "outputs": [],
   "source": [
    "    "
   ]
  },
  {
   "cell_type": "code",
   "execution_count": null,
   "metadata": {},
   "outputs": [],
   "source": []
  },
  {
   "cell_type": "code",
   "execution_count": null,
   "metadata": {},
   "outputs": [],
   "source": []
  },
  {
   "cell_type": "code",
   "execution_count": 128,
   "metadata": {},
   "outputs": [
    {
     "name": "stdout",
     "output_type": "stream",
     "text": [
      "game episode :0/20 High score:22\n",
      "game episode :1/20 High score:12\n",
      "game episode :2/20 High score:29\n",
      "game episode :3/20 High score:32\n",
      "game episode :4/20 High score:24\n",
      "game episode :5/20 High score:33\n",
      "game episode :6/20 High score:17\n",
      "game episode :7/20 High score:11\n",
      "game episode :8/20 High score:20\n",
      "game episode :9/20 High score:31\n",
      "game episode :10/20 High score:17\n",
      "game episode :12/20 High score:31\n",
      "game episode :13/20 High score:16\n",
      "game episode :14/20 High score:15\n",
      "game episode :15/20 High score:9\n",
      "game episode :16/20 High score:13\n",
      "game episode :18/20 High score:23\n",
      "game episode :19/20 High score:23\n"
     ]
    }
   ],
   "source": [
    "for e in range(20):\n",
    "    observation=env.reset()\n",
    "    env.unwrapped.gravity=10\n",
    "    for i in range(50):\n",
    "        env.render()\n",
    "        action=env.action_space.sample()\n",
    "        observation,reward,done,info=env.step(action)\n",
    "        \n",
    "        if done:\n",
    "            print(\"game episode :{}/{} High score:{}\".format(e,20,i))\n",
    "            break\n",
    "env.close()"
   ]
  },
  {
   "cell_type": "code",
   "execution_count": null,
   "metadata": {},
   "outputs": [],
   "source": []
  }
 ],
 "metadata": {
  "kernelspec": {
   "display_name": "Python 3",
   "language": "python",
   "name": "python3"
  },
  "language_info": {
   "codemirror_mode": {
    "name": "ipython",
    "version": 3
   },
   "file_extension": ".py",
   "mimetype": "text/x-python",
   "name": "python",
   "nbconvert_exporter": "python",
   "pygments_lexer": "ipython3",
   "version": "3.6.10"
  }
 },
 "nbformat": 4,
 "nbformat_minor": 4
}
