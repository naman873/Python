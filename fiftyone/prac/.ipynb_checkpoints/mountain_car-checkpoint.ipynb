{
 "cells": [
  {
   "cell_type": "code",
   "execution_count": 1,
   "metadata": {},
   "outputs": [
    {
     "ename": "ModuleNotFoundError",
     "evalue": "No module named 'gym'",
     "output_type": "error",
     "traceback": [
      "\u001b[1;31m---------------------------------------------------------------------------\u001b[0m",
      "\u001b[1;31mModuleNotFoundError\u001b[0m                       Traceback (most recent call last)",
      "\u001b[1;32m<ipython-input-1-c727ea424a25>\u001b[0m in \u001b[0;36m<module>\u001b[1;34m\u001b[0m\n\u001b[1;32m----> 1\u001b[1;33m \u001b[1;32mimport\u001b[0m \u001b[0mgym\u001b[0m\u001b[1;33m\u001b[0m\u001b[1;33m\u001b[0m\u001b[0m\n\u001b[0m",
      "\u001b[1;31mModuleNotFoundError\u001b[0m: No module named 'gym'"
     ]
    }
   ],
   "source": [
    "import gym"
   ]
  },
  {
   "cell_type": "code",
   "execution_count": 2,
   "metadata": {},
   "outputs": [],
   "source": [
    "env=gym.make(\"MountainCar-v0\")"
   ]
  },
  {
   "cell_type": "code",
   "execution_count": 3,
   "metadata": {},
   "outputs": [
    {
     "data": {
      "text/plain": [
       "Discrete(3)"
      ]
     },
     "execution_count": 3,
     "metadata": {},
     "output_type": "execute_result"
    }
   ],
   "source": [
    "env.action_space"
   ]
  },
  {
   "cell_type": "code",
   "execution_count": 9,
   "metadata": {},
   "outputs": [
    {
     "data": {
      "text/plain": [
       "(array([-0.42737543,  0.0045075 ]), -1.0, False, {})"
      ]
     },
     "execution_count": 9,
     "metadata": {},
     "output_type": "execute_result"
    }
   ],
   "source": [
    "env.step(0)"
   ]
  },
  {
   "cell_type": "code",
   "execution_count": null,
   "metadata": {},
   "outputs": [],
   "source": []
  },
  {
   "cell_type": "code",
   "execution_count": 10,
   "metadata": {},
   "outputs": [],
   "source": [
    "for episode in range(20):\n",
    "    observation=env.reset()\n",
    "\n",
    "    for i in range(40):\n",
    "        env.render()\n",
    "        action=env.action_space.sample()\n",
    "        observation , reward , done , info=env.step(action)\n",
    "        if done:\n",
    "            print(\"env number is : {}/{} High score: {}\".format(episode,20,i))\n",
    "            \n",
    "env.close()"
   ]
  },
  {
   "cell_type": "code",
   "execution_count": null,
   "metadata": {},
   "outputs": [],
   "source": []
  },
  {
   "cell_type": "code",
   "execution_count": null,
   "metadata": {},
   "outputs": [],
   "source": []
  },
  {
   "cell_type": "code",
   "execution_count": 11,
   "metadata": {},
   "outputs": [],
   "source": [
    "for i in range(100):\n",
    "    ober=env.reset()\n",
    "    env.render()\n",
    "    \n",
    "    obervation,reward, done, info=env.step(0)\n",
    "    obervation,reward, done, info=env.step(2)\n",
    "    obervation,reward, done, info=env.step(2)\n",
    "    obervation,reward, done, info=env.step(2)\n",
    "    env.render()\n",
    "    obervation,reward, done, info=env.step(0)\n",
    "    obervation,reward, done, info=env.step(2)\n",
    "    obervation,reward, done, info=env.step(2)\n",
    "    obervation,reward, done, info=env.step(2)\n",
    "    env.render()\n",
    "    obervation,reward, done, info=env.step(0)\n",
    "    obervation,reward, done, info=env.step(2)\n",
    "    obervation,reward, done, info=env.step(2)\n",
    "    obervation,reward, done, info=env.step(2)\n",
    "    env.render()\n",
    "    obervation,reward, done, info=env.step(0)\n",
    "    obervation,reward, done, info=env.step(2)\n",
    "    obervation,reward, done, info=env.step(2)\n",
    "    obervation,reward, done, info=env.step(2)\n",
    "    env.render()\n",
    "    obervation,reward, done, info=env.step(0)\n",
    "    obervation,reward, done, info=env.step(2)\n",
    "    obervation,reward, done, info=env.step(2)\n",
    "    obervation,reward, done, info=env.step(2)\n",
    "env.close()"
   ]
  },
  {
   "cell_type": "code",
   "execution_count": null,
   "metadata": {},
   "outputs": [],
   "source": []
  },
  {
   "cell_type": "code",
   "execution_count": 20,
   "metadata": {},
   "outputs": [],
   "source": [
    "# 0 left push ,, 1 no push,, 2 right push"
   ]
  },
  {
   "cell_type": "code",
   "execution_count": null,
   "metadata": {},
   "outputs": [],
   "source": []
  }
 ],
 "metadata": {
  "kernelspec": {
   "display_name": "Python 3",
   "language": "python",
   "name": "python3"
  },
  "language_info": {
   "codemirror_mode": {
    "name": "ipython",
    "version": 3
   },
   "file_extension": ".py",
   "mimetype": "text/x-python",
   "name": "python",
   "nbconvert_exporter": "python",
   "pygments_lexer": "ipython3",
   "version": "3.7.6"
  }
 },
 "nbformat": 4,
 "nbformat_minor": 4
}
