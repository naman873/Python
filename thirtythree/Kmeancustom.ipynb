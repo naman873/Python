{
 "cells": [
  {
   "cell_type": "code",
   "execution_count": 1,
   "metadata": {},
   "outputs": [],
   "source": [
    "import numpy as np\n",
    "import matplotlib.pyplot as plt\n",
    "\n",
    "from sklearn.datasets import make_blobs\n",
    "import random"
   ]
  },
  {
   "cell_type": "code",
   "execution_count": 2,
   "metadata": {},
   "outputs": [],
   "source": [
    "x,_=make_blobs(centers=4,random_state=42)"
   ]
  },
  {
   "cell_type": "code",
   "execution_count": 3,
   "metadata": {},
   "outputs": [
    {
     "data": {
      "text/plain": [
       "<matplotlib.collections.PathCollection at 0x23bf0c39608>"
      ]
     },
     "execution_count": 3,
     "metadata": {},
     "output_type": "execute_result"
    },
    {
     "data": {
      "image/png": "[encoded data removed]",
      "text/plain": [
       "<Figure size 432x288 with 1 Axes>"
      ]
     },
     "metadata": {
      "needs_background": "light"
     },
     "output_type": "display_data"
    }
   ],
   "source": [
    "plt.scatter(x[:,0],x[:,1])"
   ]
  },
  {
   "cell_type": "code",
   "execution_count": 4,
   "metadata": {},
   "outputs": [],
   "source": [
    "class Cluster:\n",
    "    \n",
    "    def __init__(self,center,name):\n",
    "        self.name=name\n",
    "        self.center=center\n",
    "        self.points=[]\n",
    "        \n",
    "    def distance(self,point):\n",
    "        return np.sqrt(np.sum((self.center-point)**2))\n",
    "    \n",
    "    def relocate(self):\n",
    "        self.center=np.mean(self.points,axis=0)\n",
    "        self.points.clear()\n",
    "        \n",
    "class custom:\n",
    "    def __init__(self,max_iters=20,n_clusters=3):\n",
    "        self.max_iters=max_iters\n",
    "        self.n_clusters=n_clusters\n",
    "        \n",
    "    def fit(self,X):\n",
    "        clusters=[]\n",
    "        for i in range(self.n_clusters):\n",
    "            cluster=Cluster(center=random.choice(X),name=i)\n",
    "            clusters.append(cluster)\n",
    "        \n",
    "        errors=[]\n",
    "        for it in range(self.max_iters):\n",
    "            \n",
    "            labels=[]\n",
    "            \n",
    "            for point in X:\n",
    "                \n",
    "                distances=[]\n",
    "                \n",
    "                for cluster in clusters:\n",
    "                    distance=cluster.distance(point)\n",
    "                    distances.append((distance,cluster.name))\n",
    "                    \n",
    "                distance , cluster_name=sorted(distances)[0]\n",
    "                \n",
    "                labels.append(cluster_name)\n",
    "                \n",
    "                \n",
    "                cluster=clusters[cluster_name]\n",
    "                cluster.points.append(point)\n",
    "                \n",
    "            err=self.error(labels,clusters,X)\n",
    "            errors.append(err)\n",
    "        \n",
    "            for cluster in clusters:\n",
    "                cluster.relocate()\n",
    "            \n",
    "            self.labels_=labels\n",
    "            self.centers_=[cluster.center for cluster in clusters]\n",
    "        \n",
    "        return (errors) \n",
    "        \n",
    "    def error(self, labels, clusters, X):\n",
    "        \n",
    "        er = 0\n",
    "        for point, label in zip(X, labels):\n",
    "            cluster = clusters[label]\n",
    "            er += cluster.distance(point)\n",
    "        \n",
    "        return er / len(X)"
   ]
  },
  {
   "cell_type": "code",
   "execution_count": 5,
   "metadata": {},
   "outputs": [],
   "source": [
    "a=custom()"
   ]
  },
  {
   "cell_type": "code",
   "execution_count": 6,
   "metadata": {},
   "outputs": [],
   "source": [
    "err=a.fit(x)"
   ]
  },
  {
   "cell_type": "code",
   "execution_count": 7,
   "metadata": {},
   "outputs": [
    {
     "data": {
      "text/plain": [
       "[array([-5.77644235,  8.14575097]),\n",
       " array([-6.9749469 , -6.76471966]),\n",
       " array([4.44441765, 2.02122148])]"
      ]
     },
     "execution_count": 7,
     "metadata": {},
     "output_type": "execute_result"
    }
   ],
   "source": [
    "a.centers_"
   ]
  },
  {
   "cell_type": "code",
   "execution_count": 9,
   "metadata": {},
   "outputs": [],
   "source": [
    "#a.labels_"
   ]
  },
  {
   "cell_type": "code",
   "execution_count": 22,
   "metadata": {},
   "outputs": [
    {
     "data": {
      "image/png": "[encoded data removed]",
      "text/plain": [
       "<Figure size 432x288 with 1 Axes>"
      ]
     },
     "metadata": {
      "needs_background": "light"
     },
     "output_type": "display_data"
    }
   ],
   "source": [
    "plt.scatter(x[:, 0], x[:, 1], c=a.labels_)\n",
    "\n",
    "for center in a.centers_:\n",
    "    plt.scatter(center[0], center[1], s=120)"
   ]
  },
  {
   "cell_type": "code",
   "execution_count": 23,
   "metadata": {},
   "outputs": [],
   "source": [
    "#a.labels_"
   ]
  },
  {
   "cell_type": "code",
   "execution_count": 24,
   "metadata": {},
   "outputs": [
    {
     "data": {
      "text/plain": [
       "[<matplotlib.lines.Line2D at 0x22d5d954a88>]"
      ]
     },
     "execution_count": 24,
     "metadata": {},
     "output_type": "execute_result"
    },
    {
     "data": {
      "image/png": "[encoded data removed]",
      "text/plain": [
       "<Figure size 432x288 with 1 Axes>"
      ]
     },
     "metadata": {
      "needs_background": "light"
     },
     "output_type": "display_data"
    }
   ],
   "source": [
    "plt.plot(err)"
   ]
  },
  {
   "cell_type": "code",
   "execution_count": null,
   "metadata": {},
   "outputs": [],
   "source": []
  },
  {
   "cell_type": "code",
   "execution_count": null,
   "metadata": {},
   "outputs": [],
   "source": []
  }
 ],
 "metadata": {
  "kernelspec": {
   "display_name": "Python 3",
   "language": "python",
   "name": "python3"
  },
  "language_info": {
   "codemirror_mode": {
    "name": "ipython",
    "version": 3
   },
   "file_extension": ".py",
   "mimetype": "text/x-python",
   "name": "python",
   "nbconvert_exporter": "python",
   "pygments_lexer": "ipython3",
   "version": "3.7.4"
  }
 },
 "nbformat": 4,
 "nbformat_minor": 4
}
