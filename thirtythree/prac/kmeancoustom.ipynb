{
 "cells": [
  {
   "cell_type": "code",
   "execution_count": 6,
   "metadata": {},
   "outputs": [],
   "source": [
    "from sklearn.datasets import make_blobs\n",
    "from sklearn.cluster import KMeans\n",
    "import numpy as np\n",
    "import matplotlib.pyplot as plt\n",
    "import random"
   ]
  },
  {
   "cell_type": "code",
   "execution_count": 4,
   "metadata": {},
   "outputs": [],
   "source": [
    "X,y=make_blobs(centers=4,random_state=42)"
   ]
  },
  {
   "cell_type": "code",
   "execution_count": 5,
   "metadata": {},
   "outputs": [
    {
     "data": {
      "text/plain": [
       "<matplotlib.collections.PathCollection at 0x1fb5fd7a108>"
      ]
     },
     "execution_count": 5,
     "metadata": {},
     "output_type": "execute_result"
    },
    {
     "data": {
      "image/png": "[encoded data removed]",
      "text/plain": [
       "<Figure size 432x288 with 1 Axes>"
      ]
     },
     "metadata": {
      "needs_background": "light"
     },
     "output_type": "display_data"
    }
   ],
   "source": [
    "plt.scatter(X[:,0],X[:,1])"
   ]
  },
  {
   "cell_type": "code",
   "execution_count": 40,
   "metadata": {},
   "outputs": [],
   "source": [
    "class Cluster:\n",
    "    \n",
    "    def __init__(self,center,name):\n",
    "        self.name=name\n",
    "        self.center =center\n",
    "        self.points=[]\n",
    "        \n",
    "    def distance(self,point):\n",
    "        return np.sqrt(np.sum((self.center-point)**2))\n",
    "    \n",
    "    def relocate(self):\n",
    "        self.center=np.mean(self.points,axis=0)\n",
    "        self.points.clear()\n",
    "        \n",
    "class coustom:\n",
    "    \n",
    "    def __init__(self,maxiter=10,n_clusters=3):\n",
    "        self.maxiter=maxiter\n",
    "        self.n_clusters=n_clusters\n",
    "        \n",
    "    def fit(self,X):\n",
    "        clusters=[]\n",
    "        \n",
    "        for i in range(self.n_clusters):\n",
    "            cluster=Cluster(center=random.choice(X),name=i)\n",
    "            clusters.append(cluster)\n",
    "        errors=[]\n",
    "        \n",
    "        for it in range(self.maxiter):\n",
    "            \n",
    "            labels=[]\n",
    "            \n",
    "            for point in X:\n",
    "                \n",
    "                distances=[]\n",
    "                \n",
    "                for cluster in clusters:\n",
    "                    distance=cluster.distance(point)\n",
    "                    distances.append((distance,cluster.name))\n",
    "                \n",
    "                distance,cluster_name=sorted(distances)[0]\n",
    "                \n",
    "                labels.append(cluster_name)\n",
    "                \n",
    "                cluster=clusters[cluster_name]\n",
    "                cluster.points.append(point)\n",
    "                \n",
    "            err=self.error(X,clusters,labels)\n",
    "            errors.append(err)\n",
    "            \n",
    "            for cluster in clusters:\n",
    "                cluster.relocate()\n",
    "                \n",
    "                \n",
    "            self.labels=labels\n",
    "            self.center=[cluster.center for cluster in clusters]\n",
    "            \n",
    "        return errors\n",
    "    \n",
    "    \n",
    "    def error(self,X,clusters,labels):\n",
    "        err=0\n",
    "        for point,label in zip(X,labels):\n",
    "            cluster=clusters[label]\n",
    "            err+=cluster.distance(point)\n",
    "        return err/len(X)"
   ]
  },
  {
   "cell_type": "code",
   "execution_count": 41,
   "metadata": {},
   "outputs": [],
   "source": [
    "a=coustom()"
   ]
  },
  {
   "cell_type": "code",
   "execution_count": 42,
   "metadata": {},
   "outputs": [],
   "source": [
    "err=a.fit(X)"
   ]
  },
  {
   "cell_type": "code",
   "execution_count": 43,
   "metadata": {},
   "outputs": [],
   "source": [
    "#a.labels"
   ]
  },
  {
   "cell_type": "code",
   "execution_count": 44,
   "metadata": {},
   "outputs": [
    {
     "data": {
      "text/plain": [
       "[array([-5.77644235,  8.14575097]),\n",
       " array([4.44441765, 2.02122148]),\n",
       " array([-6.9749469 , -6.76471966])]"
      ]
     },
     "execution_count": 44,
     "metadata": {},
     "output_type": "execute_result"
    }
   ],
   "source": [
    "a.center"
   ]
  },
  {
   "cell_type": "code",
   "execution_count": 45,
   "metadata": {},
   "outputs": [
    {
     "data": {
      "image/png": "[encoded data removed]",
      "text/plain": [
       "<Figure size 432x288 with 1 Axes>"
      ]
     },
     "metadata": {
      "needs_background": "light"
     },
     "output_type": "display_data"
    }
   ],
   "source": [
    "plt.scatter(X[:,0],X[:,1])\n",
    "for center in a.center:\n",
    "    plt.scatter(center[0],center[1],s=120)"
   ]
  },
  {
   "cell_type": "code",
   "execution_count": 46,
   "metadata": {},
   "outputs": [
    {
     "data": {
      "text/plain": [
       "[<matplotlib.lines.Line2D at 0x1fb61979988>]"
      ]
     },
     "execution_count": 46,
     "metadata": {},
     "output_type": "execute_result"
    },
    {
     "data": {
      "image/png": "[encoded data removed]",
      "text/plain": [
       "<Figure size 432x288 with 1 Axes>"
      ]
     },
     "metadata": {
      "needs_background": "light"
     },
     "output_type": "display_data"
    }
   ],
   "source": [
    "plt.plot(err)"
   ]
  },
  {
   "cell_type": "code",
   "execution_count": null,
   "metadata": {},
   "outputs": [],
   "source": []
  },
  {
   "cell_type": "code",
   "execution_count": null,
   "metadata": {},
   "outputs": [],
   "source": []
  }
 ],
 "metadata": {
  "kernelspec": {
   "display_name": "Python 3",
   "language": "python",
   "name": "python3"
  },
  "language_info": {
   "codemirror_mode": {
    "name": "ipython",
    "version": 3
   },
   "file_extension": ".py",
   "mimetype": "text/x-python",
   "name": "python",
   "nbconvert_exporter": "python",
   "pygments_lexer": "ipython3",
   "version": "3.7.4"
  }
 },
 "nbformat": 4,
 "nbformat_minor": 4
}
