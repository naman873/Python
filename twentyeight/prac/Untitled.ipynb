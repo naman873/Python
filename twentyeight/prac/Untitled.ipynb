{
 "cells": [
  {
   "cell_type": "code",
   "execution_count": 1,
   "metadata": {},
   "outputs": [],
   "source": [
    "import matplotlib.pyplot as plt\n",
    "from sklearn.linear_model import LogisticRegression\n",
    "import numpy as np"
   ]
  },
  {
   "cell_type": "code",
   "execution_count": 2,
   "metadata": {},
   "outputs": [],
   "source": [
    "from sklearn.datasets import make_blobs"
   ]
  },
  {
   "cell_type": "code",
   "execution_count": 175,
   "metadata": {},
   "outputs": [],
   "source": [
    "X,y=make_blobs(random_state=42,centers=2)"
   ]
  },
  {
   "cell_type": "code",
   "execution_count": 176,
   "metadata": {},
   "outputs": [
    {
     "data": {
      "text/plain": [
       "<matplotlib.collections.PathCollection at 0x218f855cac8>"
      ]
     },
     "execution_count": 176,
     "metadata": {},
     "output_type": "execute_result"
    },
    {
     "data": {
      "image/png": "[encoded data removed]",
      "text/plain": [
       "<Figure size 432x288 with 1 Axes>"
      ]
     },
     "metadata": {
      "needs_background": "light"
     },
     "output_type": "display_data"
    }
   ],
   "source": [
    "plt.scatter(X[:,0],X[:,1],c=y)"
   ]
  },
  {
   "cell_type": "code",
   "execution_count": 177,
   "metadata": {},
   "outputs": [
    {
     "data": {
      "text/plain": [
       "(100, 2)"
      ]
     },
     "execution_count": 177,
     "metadata": {},
     "output_type": "execute_result"
    }
   ],
   "source": [
    "X.shape"
   ]
  },
  {
   "cell_type": "code",
   "execution_count": null,
   "metadata": {},
   "outputs": [],
   "source": []
  },
  {
   "cell_type": "code",
   "execution_count": null,
   "metadata": {},
   "outputs": [],
   "source": []
  },
  {
   "cell_type": "code",
   "execution_count": 178,
   "metadata": {},
   "outputs": [],
   "source": [
    "class coutom:\n",
    "    def __init__(self,maxiter=10,lr=0.1):\n",
    "        self.maxiter=maxiter\n",
    "        self.lr=lr\n",
    "        \n",
    "    def fit(self,X,y):\n",
    "        X=np.hstack([np.ones((X.shape[0],1)),X])\n",
    "        \n",
    "        self.theta=np.random.randn(X.shape[1],1)\n",
    "\n",
    "        \n",
    "        for i in range(self.maxiter):\n",
    "            self.gradientassend(X,y)\n",
    "            \n",
    "    def gradientassend(self,X,y):\n",
    "        delta_theta=self.gradient(X,y)\n",
    "        self.theta+=delta_theta\n",
    "        \n",
    "    def gradient(self,X,y):\n",
    "        y=y.reshape(-1,1)\n",
    "        yp=self.hypo(X)\n",
    "        diff=yp-y\n",
    "        dlltheta=np.dot(X.T,diff)/len(X)\n",
    "        #print(dlltheta)\n",
    "        return -self.lr*dlltheta\n",
    "    \n",
    "        \n",
    "    def hypo(self,X):\n",
    "        g=np.dot(X,self.theta)\n",
    "\n",
    "        hypo=1 /(1+np.exp(-g))\n",
    "        #print(hypo)\n",
    "        return hypo\n",
    "    \n",
    "    def predict(self,X):\n",
    "        X=np.hstack([np.ones((X.shape[0],1)),X])\n",
    "        result=self.hypo(X)\n",
    "        #print(result)\n",
    "        return (result>0.5).astype(int).flatten()\n",
    "    \n",
    "    def score(self,X,y):\n",
    "        yp=self.predict(X)\n",
    "        return (yp==y).mean()"
   ]
  },
  {
   "cell_type": "code",
   "execution_count": 179,
   "metadata": {},
   "outputs": [],
   "source": [
    "a=coutom()"
   ]
  },
  {
   "cell_type": "code",
   "execution_count": 180,
   "metadata": {},
   "outputs": [],
   "source": [
    "a.fit(X,y)"
   ]
  },
  {
   "cell_type": "code",
   "execution_count": 181,
   "metadata": {},
   "outputs": [
    {
     "data": {
      "text/plain": [
       "array([0, 1, 0, 1, 1, 0, 1, 1, 0, 0])"
      ]
     },
     "execution_count": 181,
     "metadata": {},
     "output_type": "execute_result"
    }
   ],
   "source": [
    "a.predict(X[:10])"
   ]
  },
  {
   "cell_type": "code",
   "execution_count": 182,
   "metadata": {},
   "outputs": [
    {
     "data": {
      "text/plain": [
       "array([0, 1, 0, 1, 1, 0, 1, 1, 0, 0])"
      ]
     },
     "execution_count": 182,
     "metadata": {},
     "output_type": "execute_result"
    }
   ],
   "source": [
    "y[:10]"
   ]
  },
  {
   "cell_type": "code",
   "execution_count": 183,
   "metadata": {},
   "outputs": [
    {
     "data": {
      "text/plain": [
       "1.0"
      ]
     },
     "execution_count": 183,
     "metadata": {},
     "output_type": "execute_result"
    }
   ],
   "source": [
    "a.score(X,y)"
   ]
  },
  {
   "cell_type": "code",
   "execution_count": 184,
   "metadata": {},
   "outputs": [
    {
     "data": {
      "text/plain": [
       "array([[-0.34171506],\n",
       "       [ 0.63096565],\n",
       "       [-0.15122375]])"
      ]
     },
     "execution_count": 184,
     "metadata": {},
     "output_type": "execute_result"
    }
   ],
   "source": [
    "a.theta"
   ]
  },
  {
   "cell_type": "code",
   "execution_count": null,
   "metadata": {},
   "outputs": [],
   "source": []
  },
  {
   "cell_type": "code",
   "execution_count": null,
   "metadata": {},
   "outputs": [],
   "source": []
  },
  {
   "cell_type": "code",
   "execution_count": 151,
   "metadata": {},
   "outputs": [],
   "source": [
    "X,y=make_blobs(random_state=42,centers=3)"
   ]
  },
  {
   "cell_type": "code",
   "execution_count": 152,
   "metadata": {},
   "outputs": [],
   "source": [
    "from sklearn.linear_model import LogisticRegression"
   ]
  },
  {
   "cell_type": "code",
   "execution_count": 153,
   "metadata": {},
   "outputs": [],
   "source": [
    "model=LogisticRegression()"
   ]
  },
  {
   "cell_type": "code",
   "execution_count": 154,
   "metadata": {},
   "outputs": [
    {
     "name": "stderr",
     "output_type": "stream",
     "text": [
      "C:\\Users\\Naman\\Anaconda3\\lib\\site-packages\\sklearn\\linear_model\\logistic.py:432: FutureWarning: Default solver will be changed to 'lbfgs' in 0.22. Specify a solver to silence this warning.\n",
      "  FutureWarning)\n",
      "C:\\Users\\Naman\\Anaconda3\\lib\\site-packages\\sklearn\\linear_model\\logistic.py:469: FutureWarning: Default multi_class will be changed to 'auto' in 0.22. Specify the multi_class option to silence this warning.\n",
      "  \"this warning.\", FutureWarning)\n"
     ]
    },
    {
     "data": {
      "text/plain": [
       "LogisticRegression(C=1.0, class_weight=None, dual=False, fit_intercept=True,\n",
       "                   intercept_scaling=1, l1_ratio=None, max_iter=100,\n",
       "                   multi_class='warn', n_jobs=None, penalty='l2',\n",
       "                   random_state=None, solver='warn', tol=0.0001, verbose=0,\n",
       "                   warm_start=False)"
      ]
     },
     "execution_count": 154,
     "metadata": {},
     "output_type": "execute_result"
    }
   ],
   "source": [
    "model.fit(X,y)"
   ]
  },
  {
   "cell_type": "code",
   "execution_count": 155,
   "metadata": {},
   "outputs": [
    {
     "data": {
      "text/plain": [
       "array([2, 1, 0, 1, 2, 1, 0, 1, 1, 0])"
      ]
     },
     "execution_count": 155,
     "metadata": {},
     "output_type": "execute_result"
    }
   ],
   "source": [
    "model.predict(X[:10])"
   ]
  },
  {
   "cell_type": "code",
   "execution_count": 156,
   "metadata": {},
   "outputs": [
    {
     "data": {
      "text/plain": [
       "array([2, 1, 0, 1, 2, 1, 0, 1, 1, 0])"
      ]
     },
     "execution_count": 156,
     "metadata": {},
     "output_type": "execute_result"
    }
   ],
   "source": [
    "y[:10]"
   ]
  },
  {
   "cell_type": "code",
   "execution_count": 157,
   "metadata": {},
   "outputs": [
    {
     "data": {
      "text/plain": [
       "1.0"
      ]
     },
     "execution_count": 157,
     "metadata": {},
     "output_type": "execute_result"
    }
   ],
   "source": [
    "model.score(X,y)"
   ]
  },
  {
   "cell_type": "code",
   "execution_count": 158,
   "metadata": {},
   "outputs": [
    {
     "data": {
      "text/plain": [
       "array([[-0.6048619 ,  0.87084832],\n",
       "       [ 1.36873029, -0.28733353],\n",
       "       [-0.72901307, -0.93425973]])"
      ]
     },
     "execution_count": 158,
     "metadata": {},
     "output_type": "execute_result"
    }
   ],
   "source": [
    "model.coef_"
   ]
  },
  {
   "cell_type": "code",
   "execution_count": 159,
   "metadata": {},
   "outputs": [
    {
     "data": {
      "text/plain": [
       "array([-2.41964146,  0.12026132, -0.30437013])"
      ]
     },
     "execution_count": 159,
     "metadata": {},
     "output_type": "execute_result"
    }
   ],
   "source": [
    "model.intercept_"
   ]
  },
  {
   "cell_type": "code",
   "execution_count": null,
   "metadata": {},
   "outputs": [],
   "source": []
  },
  {
   "cell_type": "code",
   "execution_count": 160,
   "metadata": {},
   "outputs": [
    {
     "data": {
      "image/png": "[encoded data removed]",
      "text/plain": [
       "<Figure size 432x288 with 1 Axes>"
      ]
     },
     "metadata": {
      "needs_background": "light"
     },
     "output_type": "display_data"
    }
   ],
   "source": [
    "plt.scatter(X[:,0],X[:,1],c=y)\n",
    "for (m1,m2),c in zip(model.coef_,model.intercept_):\n",
    "    #print(c)\n",
    "    x1=np.linspace(-10,10,100)\n",
    "    x2=(-x1*m1)/m2 - (c/m2)\n",
    "    plt.ylim(-10,10)\n",
    "    #print(\"hello\")\n",
    "    plt.plot(x1,x2)"
   ]
  },
  {
   "cell_type": "code",
   "execution_count": 161,
   "metadata": {},
   "outputs": [],
   "source": [
    "x2=(-x1/m1)/m2 - (c/m2)"
   ]
  },
  {
   "cell_type": "code",
   "execution_count": null,
   "metadata": {},
   "outputs": [],
   "source": []
  },
  {
   "cell_type": "code",
   "execution_count": 350,
   "metadata": {},
   "outputs": [],
   "source": [
    "X,y=make_blobs(random_state=42,centers=5)"
   ]
  },
  {
   "cell_type": "code",
   "execution_count": 351,
   "metadata": {},
   "outputs": [
    {
     "data": {
      "text/plain": [
       "<matplotlib.collections.PathCollection at 0x218fa9356c8>"
      ]
     },
     "execution_count": 351,
     "metadata": {},
     "output_type": "execute_result"
    },
    {
     "data": {
      "image/png": "[encoded data removed]",
      "text/plain": [
       "<Figure size 432x288 with 1 Axes>"
      ]
     },
     "metadata": {
      "needs_background": "light"
     },
     "output_type": "display_data"
    }
   ],
   "source": [
    "plt.scatter(X[:,0],X[:,1],c=y)"
   ]
  },
  {
   "cell_type": "code",
   "execution_count": 352,
   "metadata": {},
   "outputs": [],
   "source": [
    "import numpy as np"
   ]
  },
  {
   "cell_type": "code",
   "execution_count": 353,
   "metadata": {},
   "outputs": [],
   "source": [
    "class coutom1:\n",
    "    def __init__(self,lr=1,maxstep=100):\n",
    "        self.maxstep=maxstep\n",
    "        self.lr=lr\n",
    "        \n",
    "    def fit(self,X,y):\n",
    "        X=np.hstack([np.ones((X.shape[0],1)),X])\n",
    "        self.classes=np.unique(y)\n",
    "        \n",
    "        thetas=[]\n",
    "        for klas in self.classes:\n",
    "            y_mod=(y==klas).astype(int)\n",
    "            theta=np.random.randn(X.shape[1],1)\n",
    "            \n",
    "            for i in range(self.maxstep):\n",
    "                self.gradient_decent(X,y_mod,theta)\n",
    "            thetas.append(theta)    \n",
    "        print(thetas)\n",
    "        self.thetas=np.hstack(thetas)\n",
    "        print(self.thetas)\n",
    "    def gradient_decent(self,X,y,theta):\n",
    "        delta_theta=self.gradient(X,y,theta)\n",
    "        theta+=delta_theta\n",
    "        #print(theta)\n",
    "        return theta\n",
    "        \n",
    "        \n",
    "    def gradient(self,X,y,theta):\n",
    "        y=y.reshape(-1,1)\n",
    "        yp=self.hypo(X,theta)\n",
    "        diff=yp-y\n",
    "        #print(diff)\n",
    "        dlltheta=np.dot(X.T,diff)/len(X)\n",
    "        #print(dlltheta)\n",
    "        return -self.lr*dlltheta\n",
    "        \n",
    "    def hypo(self,X,theta):\n",
    "        g=np.dot(X,theta)\n",
    "        dist=1/(1+np.exp(-g))\n",
    "        #print(dist)\n",
    "        return dist\n",
    "    \n",
    "    def predict(self,x):\n",
    "        x=np.hstack([np.ones((x.shape[0],1)),x])\n",
    "        result=self.hypo(x,self.thetas)\n",
    "        return result.argmax(axis=1)\n",
    "    \n",
    "    def score(self,X,y):\n",
    "        yp=self.predict(X)\n",
    "        return (yp==y).mean()"
   ]
  },
  {
   "cell_type": "code",
   "execution_count": 354,
   "metadata": {},
   "outputs": [],
   "source": [
    "a=coutom1()"
   ]
  },
  {
   "cell_type": "code",
   "execution_count": 355,
   "metadata": {},
   "outputs": [
    {
     "name": "stdout",
     "output_type": "stream",
     "text": [
      "[array([[-8.59140234],\n",
      "       [ 0.11940123],\n",
      "       [ 1.75495091]]), array([[-1.59034834],\n",
      "       [ 2.63835269],\n",
      "       [-1.76053102]]), array([[ 0.08142491],\n",
      "       [-0.78156549],\n",
      "       [-3.16954807]]), array([[-10.46892157],\n",
      "       [ -1.26665421],\n",
      "       [  0.38978274]]), array([[-3.27649834],\n",
      "       [ 0.34139595],\n",
      "       [-0.09010064]])]\n",
      "[[ -8.59140234  -1.59034834   0.08142491 -10.46892157  -3.27649834]\n",
      " [  0.11940123   2.63835269  -0.78156549  -1.26665421   0.34139595]\n",
      " [  1.75495091  -1.76053102  -3.16954807   0.38978274  -0.09010064]]\n"
     ]
    }
   ],
   "source": [
    "a.fit(X,y)"
   ]
  },
  {
   "cell_type": "code",
   "execution_count": 356,
   "metadata": {},
   "outputs": [
    {
     "data": {
      "text/plain": [
       "array([[ -8.59140234,  -1.59034834,   0.08142491, -10.46892157,\n",
       "         -3.27649834],\n",
       "       [  0.11940123,   2.63835269,  -0.78156549,  -1.26665421,\n",
       "          0.34139595],\n",
       "       [  1.75495091,  -1.76053102,  -3.16954807,   0.38978274,\n",
       "         -0.09010064]])"
      ]
     },
     "execution_count": 356,
     "metadata": {},
     "output_type": "execute_result"
    }
   ],
   "source": [
    "a.thetas"
   ]
  },
  {
   "cell_type": "code",
   "execution_count": 357,
   "metadata": {},
   "outputs": [
    {
     "data": {
      "text/plain": [
       "array([2, 0, 0, 0, 3, 2, 1, 1, 1, 0], dtype=int64)"
      ]
     },
     "execution_count": 357,
     "metadata": {},
     "output_type": "execute_result"
    }
   ],
   "source": [
    "a.predict(X[:10])"
   ]
  },
  {
   "cell_type": "code",
   "execution_count": 358,
   "metadata": {},
   "outputs": [
    {
     "data": {
      "text/plain": [
       "array([2, 4, 0, 4, 3, 2, 1, 1, 1, 0])"
      ]
     },
     "execution_count": 358,
     "metadata": {},
     "output_type": "execute_result"
    }
   ],
   "source": [
    "y[:10]"
   ]
  },
  {
   "cell_type": "code",
   "execution_count": 359,
   "metadata": {},
   "outputs": [
    {
     "data": {
      "text/plain": [
       "0.72"
      ]
     },
     "execution_count": 359,
     "metadata": {},
     "output_type": "execute_result"
    }
   ],
   "source": [
    "a.score(X,y)"
   ]
  },
  {
   "cell_type": "code",
   "execution_count": 360,
   "metadata": {},
   "outputs": [
    {
     "data": {
      "text/plain": [
       "(3, 5)"
      ]
     },
     "execution_count": 360,
     "metadata": {},
     "output_type": "execute_result"
    }
   ],
   "source": [
    "a.thetas.shape"
   ]
  },
  {
   "cell_type": "code",
   "execution_count": null,
   "metadata": {},
   "outputs": [],
   "source": []
  },
  {
   "cell_type": "code",
   "execution_count": null,
   "metadata": {},
   "outputs": [],
   "source": []
  }
 ],
 "metadata": {
  "kernelspec": {
   "display_name": "Python 3",
   "language": "python",
   "name": "python3"
  },
  "language_info": {
   "codemirror_mode": {
    "name": "ipython",
    "version": 3
   },
   "file_extension": ".py",
   "mimetype": "text/x-python",
   "name": "python",
   "nbconvert_exporter": "python",
   "pygments_lexer": "ipython3",
   "version": "3.7.4"
  }
 },
 "nbformat": 4,
 "nbformat_minor": 4
}
