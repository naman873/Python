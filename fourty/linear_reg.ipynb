{
 "cells": [
  {
   "cell_type": "code",
   "execution_count": 62,
   "metadata": {},
   "outputs": [],
   "source": [
    "from sklearn.datasets import make_regression\n",
    "from sklearn.model_selection import train_test_split\n",
    "import tensorflow as tf\n",
    "import matplotlib.pyplot as plt"
   ]
  },
  {
   "cell_type": "code",
   "execution_count": 50,
   "metadata": {},
   "outputs": [],
   "source": [
    "import numpy as np"
   ]
  },
  {
   "cell_type": "code",
   "execution_count": 51,
   "metadata": {},
   "outputs": [],
   "source": [
    "x,y=make_regression(n_features=1,random_state=42,noise=10)"
   ]
  },
  {
   "cell_type": "code",
   "execution_count": 52,
   "metadata": {},
   "outputs": [],
   "source": [
    "x=tf.constant(x.flatten(),dtype=np.float64)\n",
    "y=tf.constant(y,dtype=np.float64)"
   ]
  },
  {
   "cell_type": "code",
   "execution_count": 84,
   "metadata": {},
   "outputs": [],
   "source": [
    "W=tf.Variable(0.0 , dtype=np.float64)\n",
    "b=tf.Variable(0.0,dtype=np.float64)"
   ]
  },
  {
   "cell_type": "code",
   "execution_count": 85,
   "metadata": {},
   "outputs": [
    {
     "data": {
      "text/plain": [
       "<matplotlib.collections.PathCollection at 0x223ea9015f8>"
      ]
     },
     "execution_count": 85,
     "metadata": {},
     "output_type": "execute_result"
    },
    {
     "data": {
      "image/png": "[encoded data removed]",
      "text/plain": [
       "<Figure size 432x288 with 1 Axes>"
      ]
     },
     "metadata": {
      "needs_background": "light"
     },
     "output_type": "display_data"
    }
   ],
   "source": [
    "plt.scatter(x,y)"
   ]
  },
  {
   "cell_type": "code",
   "execution_count": 86,
   "metadata": {},
   "outputs": [],
   "source": [
    "lr=0.1\n",
    "maxstep=30"
   ]
  },
  {
   "cell_type": "code",
   "execution_count": 87,
   "metadata": {},
   "outputs": [],
   "source": [
    "@tf.function\n",
    "def func(x,y):\n",
    "    with tf.GradientTape() as tape:\n",
    "        yp=W*x + b\n",
    "        error=yp-y\n",
    "        loss=tf.reduce_mean(error**2)\n",
    "        \n",
    "    dW ,db=tape.gradient(loss,[W,b])\n",
    "    W.assign_sub(dW*lr)\n",
    "    b.assign_sub(db*lr)\n",
    "\n",
    "    return(loss)"
   ]
  },
  {
   "cell_type": "code",
   "execution_count": 90,
   "metadata": {},
   "outputs": [
    {
     "name": "stdout",
     "output_type": "stream",
     "text": [
      "tf.Tensor(78.1046443441776, shape=(), dtype=float64)\n",
      "tf.Tensor(78.09015008681101, shape=(), dtype=float64)\n",
      "tf.Tensor(78.07982655307676, shape=(), dtype=float64)\n",
      "tf.Tensor(78.07247290545975, shape=(), dtype=float64)\n",
      "tf.Tensor(78.06723431901457, shape=(), dtype=float64)\n",
      "tf.Tensor(78.06350218050206, shape=(), dtype=float64)\n",
      "tf.Tensor(78.06084311059585, shape=(), dtype=float64)\n",
      "tf.Tensor(78.05894847091514, shape=(), dtype=float64)\n",
      "tf.Tensor(78.05759843503283, shape=(), dtype=float64)\n",
      "tf.Tensor(78.05663641721534, shape=(), dtype=float64)\n",
      "tf.Tensor(78.05595086950837, shape=(), dtype=float64)\n",
      "tf.Tensor(78.05546232184109, shape=(), dtype=float64)\n",
      "tf.Tensor(78.05511415365444, shape=(), dtype=float64)\n",
      "tf.Tensor(78.05486602180257, shape=(), dtype=float64)\n",
      "tf.Tensor(78.0546891796296, shape=(), dtype=float64)\n",
      "tf.Tensor(78.0545631426926, shape=(), dtype=float64)\n",
      "tf.Tensor(78.05447331351212, shape=(), dtype=float64)\n",
      "tf.Tensor(78.0544092893808, shape=(), dtype=float64)\n",
      "tf.Tensor(78.05436365672048, shape=(), dtype=float64)\n",
      "tf.Tensor(78.05433113204325, shape=(), dtype=float64)\n",
      "tf.Tensor(78.0543079498413, shape=(), dtype=float64)\n",
      "tf.Tensor(78.05429142640769, shape=(), dtype=float64)\n",
      "tf.Tensor(78.05427964900954, shape=(), dtype=float64)\n",
      "tf.Tensor(78.05427125438209, shape=(), dtype=float64)\n",
      "tf.Tensor(78.05426527087042, shape=(), dtype=float64)\n",
      "tf.Tensor(78.05426100592803, shape=(), dtype=float64)\n",
      "tf.Tensor(78.05425796593755, shape=(), dtype=float64)\n",
      "tf.Tensor(78.05425579906655, shape=(), dtype=float64)\n",
      "tf.Tensor(78.05425425453979, shape=(), dtype=float64)\n",
      "tf.Tensor(78.05425315361104, shape=(), dtype=float64)\n"
     ]
    }
   ],
   "source": [
    "for i in range(maxstep):\n",
    "    loss=func(x,y)\n",
    "    print(loss)"
   ]
  },
  {
   "cell_type": "code",
   "execution_count": 89,
   "metadata": {},
   "outputs": [
    {
     "data": {
      "text/plain": [
       "<tf.Tensor: shape=(), dtype=float64, numpy=78.12499654796954>"
      ]
     },
     "execution_count": 89,
     "metadata": {},
     "output_type": "execute_result"
    }
   ],
   "source": [
    "loss"
   ]
  },
  {
   "cell_type": "code",
   "execution_count": 102,
   "metadata": {},
   "outputs": [],
   "source": [
    "los=func(x,y)"
   ]
  },
  {
   "cell_type": "code",
   "execution_count": 106,
   "metadata": {},
   "outputs": [
    {
     "data": {
      "text/plain": [
       "<tf.Tensor: shape=(), dtype=float64, numpy=78.05425180951563>"
      ]
     },
     "execution_count": 106,
     "metadata": {},
     "output_type": "execute_result"
    }
   ],
   "source": [
    "los"
   ]
  },
  {
   "cell_type": "code",
   "execution_count": 99,
   "metadata": {},
   "outputs": [
    {
     "data": {
      "text/plain": [
       "[<matplotlib.lines.Line2D at 0x223ea908080>]"
      ]
     },
     "execution_count": 99,
     "metadata": {},
     "output_type": "execute_result"
    },
    {
     "data": {
      "image/png": "[encoded data removed]",
      "text/plain": [
       "<Figure size 432x288 with 1 Axes>"
      ]
     },
     "metadata": {
      "needs_background": "light"
     },
     "output_type": "display_data"
    }
   ],
   "source": [
    "plt.scatter(x,y)\n",
    "plt.plot(x,x*W+b,c=\"red\")"
   ]
  },
  {
   "cell_type": "code",
   "execution_count": null,
   "metadata": {},
   "outputs": [],
   "source": []
  },
  {
   "cell_type": "code",
   "execution_count": null,
   "metadata": {},
   "outputs": [],
   "source": []
  },
  {
   "cell_type": "code",
   "execution_count": null,
   "metadata": {},
   "outputs": [],
   "source": []
  },
  {
   "cell_type": "raw",
   "metadata": {},
   "source": [
    " My wrong\n",
    "\n",
    "\n",
    "\n",
    "class coutom:\n",
    "\n",
    "    def __init__(self,lr=1,maxstep=10):\n",
    "        self.lr=lr\n",
    "        self.maxstep=maxstep\n",
    "\n",
    "    def fit(self,x,y):\n",
    "        self.coef=tf.Variable(0.,dtype=np.float32)\n",
    "        self.bias=tf.Variable(0.,dtype=np.float32)\n",
    "\n",
    "        for i in range(10):\n",
    "            self.gradient_decent(x,y)\n",
    "\n",
    "    def gradient_decent(self,x,y):\n",
    "        yp=self.coef*x + self.bias\n",
    "        error=yp-y\n",
    "        loss=tf.reduce_mean(error**2)\n",
    "        with tf.GradientTape() as tape:\n",
    "            dW,db=tape.gradient(loss,[self.coef,self.bias])\n",
    "        self.coef.assign_sub(dW*self.lr)\n",
    "        self.bias.assign_sub(db*self.lr)\n",
    "\n",
    "        return  loss"
   ]
  },
  {
   "cell_type": "code",
   "execution_count": null,
   "metadata": {},
   "outputs": [],
   "source": []
  },
  {
   "cell_type": "code",
   "execution_count": null,
   "metadata": {},
   "outputs": [],
   "source": []
  },
  {
   "cell_type": "code",
   "execution_count": null,
   "metadata": {},
   "outputs": [],
   "source": []
  }
 ],
 "metadata": {
  "kernelspec": {
   "display_name": "Python 3",
   "language": "python",
   "name": "python3"
  },
  "language_info": {
   "codemirror_mode": {
    "name": "ipython",
    "version": 3
   },
   "file_extension": ".py",
   "mimetype": "text/x-python",
   "name": "python",
   "nbconvert_exporter": "python",
   "pygments_lexer": "ipython3",
   "version": "3.6.10"
  }
 },
 "nbformat": 4,
 "nbformat_minor": 4
}
