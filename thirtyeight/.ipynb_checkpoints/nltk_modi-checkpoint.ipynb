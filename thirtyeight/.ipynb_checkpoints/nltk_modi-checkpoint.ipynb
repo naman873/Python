{
 "cells": [
  {
   "cell_type": "code",
   "execution_count": 34,
   "metadata": {},
   "outputs": [],
   "source": [
    "import requests\n",
    "from nltk.corpus import stopwords\n",
    "from nltk.tokenize import word_tokenize,sent_tokenize\n",
    "import string"
   ]
  },
  {
   "cell_type": "code",
   "execution_count": 5,
   "metadata": {},
   "outputs": [],
   "source": [
    "import numpy as np\n",
    "import pandas as pd"
   ]
  },
  {
   "cell_type": "code",
   "execution_count": 18,
   "metadata": {},
   "outputs": [],
   "source": [
    "url=\"https://cb.lk/speech\""
   ]
  },
  {
   "cell_type": "code",
   "execution_count": 27,
   "metadata": {},
   "outputs": [],
   "source": [
    "speechh=requests.get(url)"
   ]
  },
  {
   "cell_type": "code",
   "execution_count": 24,
   "metadata": {},
   "outputs": [],
   "source": [
    "#with open(\"speech.text\",\"wt\",encoding=\"utf-8\") as f:\n",
    "#    f.write(speechh.text)\n",
    "\n",
    "#with open(\"speech.text\",\"rt\",encoding=\"utf-8\") as f:\n",
    "#    ff=f.read()"
   ]
  },
  {
   "cell_type": "code",
   "execution_count": 29,
   "metadata": {},
   "outputs": [],
   "source": [
    "speech=speechh.text"
   ]
  },
  {
   "cell_type": "code",
   "execution_count": 31,
   "metadata": {},
   "outputs": [],
   "source": [
    "s_words=stopwords.words(\"english\")"
   ]
  },
  {
   "cell_type": "code",
   "execution_count": 33,
   "metadata": {},
   "outputs": [],
   "source": [
    "#s_words"
   ]
  },
  {
   "cell_type": "code",
   "execution_count": 35,
   "metadata": {},
   "outputs": [],
   "source": [
    "puch=list(string.punctuation)"
   ]
  },
  {
   "cell_type": "code",
   "execution_count": 39,
   "metadata": {},
   "outputs": [],
   "source": [
    "#puch"
   ]
  },
  {
   "cell_type": "code",
   "execution_count": 43,
   "metadata": {},
   "outputs": [],
   "source": [
    "words=word_tokenize(speech.lower())"
   ]
  },
  {
   "cell_type": "code",
   "execution_count": 45,
   "metadata": {},
   "outputs": [
    {
     "data": {
      "text/plain": [
       "330091"
      ]
     },
     "execution_count": 45,
     "metadata": {},
     "output_type": "execute_result"
    }
   ],
   "source": [
    "len(words)"
   ]
  },
  {
   "cell_type": "code",
   "execution_count": 74,
   "metadata": {},
   "outputs": [],
   "source": [
    "#len(set(words))  "
   ]
  },
  {
   "cell_type": "code",
   "execution_count": 89,
   "metadata": {},
   "outputs": [],
   "source": [
    "bad=set(s_words + puch)"
   ]
  },
  {
   "cell_type": "code",
   "execution_count": 90,
   "metadata": {},
   "outputs": [
    {
     "data": {
      "text/plain": [
       "211"
      ]
     },
     "execution_count": 90,
     "metadata": {},
     "output_type": "execute_result"
    }
   ],
   "source": [
    "len(bad)"
   ]
  },
  {
   "cell_type": "code",
   "execution_count": 91,
   "metadata": {},
   "outputs": [],
   "source": [
    "pure=[word for word in words if word not in bad]"
   ]
  },
  {
   "cell_type": "code",
   "execution_count": 92,
   "metadata": {},
   "outputs": [
    {
     "data": {
      "text/plain": [
       "154573"
      ]
     },
     "execution_count": 92,
     "metadata": {},
     "output_type": "execute_result"
    }
   ],
   "source": [
    "len(pure)"
   ]
  },
  {
   "cell_type": "code",
   "execution_count": 93,
   "metadata": {},
   "outputs": [],
   "source": [
    "text , count = np.unique(pure ,return_counts=True)"
   ]
  },
  {
   "cell_type": "code",
   "execution_count": 94,
   "metadata": {},
   "outputs": [],
   "source": [
    "sorted_indicies=count.argsort()"
   ]
  },
  {
   "cell_type": "code",
   "execution_count": 136,
   "metadata": {},
   "outputs": [],
   "source": [
    "last_indicies=sorted_indicies[-100:]"
   ]
  },
  {
   "cell_type": "code",
   "execution_count": 137,
   "metadata": {},
   "outputs": [],
   "source": [
    "bag=text[last_indicies]"
   ]
  },
  {
   "cell_type": "code",
   "execution_count": 138,
   "metadata": {},
   "outputs": [
    {
     "data": {
      "text/plain": [
       "100"
      ]
     },
     "execution_count": 138,
     "metadata": {},
     "output_type": "execute_result"
    }
   ],
   "source": [
    "len(bag)"
   ]
  },
  {
   "cell_type": "code",
   "execution_count": 139,
   "metadata": {},
   "outputs": [],
   "source": [
    "vocab=dict(zip(bag,range(len(bag))))"
   ]
  },
  {
   "cell_type": "code",
   "execution_count": null,
   "metadata": {},
   "outputs": [],
   "source": []
  },
  {
   "cell_type": "code",
   "execution_count": 145,
   "metadata": {},
   "outputs": [],
   "source": [
    "sent=sent_tokenize(speech)[100]"
   ]
  },
  {
   "cell_type": "code",
   "execution_count": 146,
   "metadata": {},
   "outputs": [],
   "source": [
    "w=word_tokenize(sent.lower())"
   ]
  },
  {
   "cell_type": "code",
   "execution_count": 147,
   "metadata": {},
   "outputs": [],
   "source": [
    "vec=np.zeros(len(vocab))"
   ]
  },
  {
   "cell_type": "code",
   "execution_count": 148,
   "metadata": {},
   "outputs": [],
   "source": [
    "for word in w:\n",
    "    if word in vocab:\n",
    "        vec[vocab[word]]+=1"
   ]
  },
  {
   "cell_type": "code",
   "execution_count": 149,
   "metadata": {},
   "outputs": [
    {
     "data": {
      "text/plain": [
       "array([0., 0., 0., 0., 0., 0., 0., 0., 0., 0., 0., 0., 0., 0., 0., 0., 0.,\n",
       "       0., 0., 0., 0., 0., 0., 0., 1., 0., 0., 0., 0., 0., 0., 0., 0., 0.,\n",
       "       0., 0., 0., 0., 0., 0., 0., 0., 0., 0., 0., 0., 0., 0., 0., 0., 0.,\n",
       "       0., 0., 0., 0., 0., 1., 0., 0., 0., 0., 0., 0., 0., 0., 0., 0., 0.,\n",
       "       0., 0., 0., 0., 0., 0., 0., 0., 0., 0., 0., 0., 2., 0., 0., 0., 0.,\n",
       "       0., 0., 0., 0., 0., 0., 0., 0., 0., 0., 0., 0., 0., 0., 1.])"
      ]
     },
     "execution_count": 149,
     "metadata": {},
     "output_type": "execute_result"
    }
   ],
   "source": [
    "vec"
   ]
  },
  {
   "cell_type": "code",
   "execution_count": 151,
   "metadata": {},
   "outputs": [
    {
     "data": {
      "text/plain": [
       "{'investment': 0,\n",
       " 'human': 1,\n",
       " 'give': 2,\n",
       " 'peace': 3,\n",
       " 'lives': 4,\n",
       " 'place': 5,\n",
       " 'opportunity': 6,\n",
       " 'land': 7,\n",
       " 'believe': 8,\n",
       " 'relationship': 9,\n",
       " '–': 10,\n",
       " 'opportunities': 11,\n",
       " 'visit': 12,\n",
       " 'say': 13,\n",
       " 'power': 14,\n",
       " 'strong': 15,\n",
       " 'infrastructure': 16,\n",
       " 'sector': 17,\n",
       " 'much': 18,\n",
       " 'economy': 19,\n",
       " 'trade': 20,\n",
       " 'brothers': 21,\n",
       " 'state': 22,\n",
       " 'day': 23,\n",
       " 'support': 24,\n",
       " 'village': 25,\n",
       " 'well': 26,\n",
       " 'let': 27,\n",
       " 'international': 28,\n",
       " 'youth': 29,\n",
       " 'sisters': 30,\n",
       " 'growth': 31,\n",
       " 'way': 32,\n",
       " 'know': 33,\n",
       " 'technology': 34,\n",
       " 'good': 35,\n",
       " 'made': 36,\n",
       " 'nations': 37,\n",
       " '“': 38,\n",
       " 'become': 39,\n",
       " 'first': 40,\n",
       " 'forward': 41,\n",
       " 'get': 42,\n",
       " 'poor': 43,\n",
       " 'states': 44,\n",
       " 'last': 45,\n",
       " '”': 46,\n",
       " 'prime': 47,\n",
       " '•': 48,\n",
       " 'asia': 49,\n",
       " 'friends': 50,\n",
       " 'together': 51,\n",
       " 'change': 52,\n",
       " 'come': 53,\n",
       " 'thank': 54,\n",
       " 'even': 55,\n",
       " 'president': 56,\n",
       " 'energy': 57,\n",
       " 'future': 58,\n",
       " 'security': 59,\n",
       " 'partnership': 60,\n",
       " 'important': 61,\n",
       " 'take': 62,\n",
       " 'want': 63,\n",
       " 'year': 64,\n",
       " 'see': 65,\n",
       " 'life': 66,\n",
       " 'cooperation': 67,\n",
       " 'minister': 68,\n",
       " 'need': 69,\n",
       " 'nation': 70,\n",
       " 'two': 71,\n",
       " 'every': 72,\n",
       " 'years': 73,\n",
       " 'like': 74,\n",
       " 'global': 75,\n",
       " 'make': 76,\n",
       " 'region': 77,\n",
       " 'work': 78,\n",
       " 'great': 79,\n",
       " \"'s\": 80,\n",
       " 'economic': 81,\n",
       " 'countries': 82,\n",
       " 'indian': 83,\n",
       " 'time': 84,\n",
       " 'must': 85,\n",
       " 'many': 86,\n",
       " 'development': 87,\n",
       " 'would': 88,\n",
       " 'today': 89,\n",
       " 'us': 90,\n",
       " 'government': 91,\n",
       " 'new': 92,\n",
       " 'country': 93,\n",
       " 'one': 94,\n",
       " 'people': 95,\n",
       " 'world': 96,\n",
       " '’': 97,\n",
       " 'also': 98,\n",
       " 'india': 99}"
      ]
     },
     "execution_count": 151,
     "metadata": {},
     "output_type": "execute_result"
    }
   ],
   "source": [
    "vocab"
   ]
  },
  {
   "cell_type": "code",
   "execution_count": null,
   "metadata": {},
   "outputs": [],
   "source": []
  }
 ],
 "metadata": {
  "kernelspec": {
   "display_name": "Python 3",
   "language": "python",
   "name": "python3"
  },
  "language_info": {
   "codemirror_mode": {
    "name": "ipython",
    "version": 3
   },
   "file_extension": ".py",
   "mimetype": "text/x-python",
   "name": "python",
   "nbconvert_exporter": "python",
   "pygments_lexer": "ipython3",
   "version": "3.7.4"
  }
 },
 "nbformat": 4,
 "nbformat_minor": 4
}
