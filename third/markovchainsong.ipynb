{
 "cells": [
  {
   "cell_type": "code",
   "execution_count": 1,
   "metadata": {},
   "outputs": [],
   "source": [
    "import requests\n",
    "import random\n",
    "import numpy as np\n",
    "import pandas as pd"
   ]
  },
  {
   "cell_type": "code",
   "execution_count": null,
   "metadata": {},
   "outputs": [],
   "source": []
  },
  {
   "cell_type": "code",
   "execution_count": 2,
   "metadata": {},
   "outputs": [],
   "source": [
    "with open(\"song.txt\" , \"r\") as f:\n",
    "    song=f.read()"
   ]
  },
  {
   "cell_type": "code",
   "execution_count": 3,
   "metadata": {},
   "outputs": [],
   "source": [
    "#song"
   ]
  },
  {
   "cell_type": "code",
   "execution_count": 4,
   "metadata": {},
   "outputs": [],
   "source": [
    "k=5"
   ]
  },
  {
   "cell_type": "code",
   "execution_count": 5,
   "metadata": {},
   "outputs": [],
   "source": [
    "count={}\n",
    "for i in range(k,len(song)):\n",
    "    cut=song[i-k:i]\n",
    "    nxt=song[i]\n",
    "    \n",
    "    if cut not in count:\n",
    "        count[cut]={}\n",
    "        \n",
    "    if nxt not in count[cut]:\n",
    "        count[cut][nxt]=0\n",
    "        \n",
    "    count[cut][nxt]+=1"
   ]
  },
  {
   "cell_type": "code",
   "execution_count": 6,
   "metadata": {},
   "outputs": [],
   "source": [
    "#count"
   ]
  },
  {
   "cell_type": "code",
   "execution_count": 7,
   "metadata": {},
   "outputs": [],
   "source": [
    "greeting=song[:6]"
   ]
  },
  {
   "cell_type": "code",
   "execution_count": 8,
   "metadata": {},
   "outputs": [],
   "source": [
    "for i in range(500):\n",
    "    cut=greeting[-k:]\n",
    "    top3=sorted(count[cut].items() , key=lambda item:item[1],reverse=True)[:3]\n",
    "    sel=random.choice(top3)[0]\n",
    "    greeting=greeting+sel"
   ]
  },
  {
   "cell_type": "code",
   "execution_count": 9,
   "metadata": {},
   "outputs": [
    {
     "name": "stdout",
     "output_type": "stream",
     "text": [
      "Tu safar mera\n",
      "Banoon main tere qaabil\n",
      "Tere bina guzaara\n",
      "Ae Dil Hai Mushkil\n",
      "Yeh jism bhi mera\n",
      "Hai tu hi mera\n",
      "Banoon hai jo\n",
      "Woh dard hi sahi\n",
      "Tujhko maaloom hai\n",
      "Tujhse mila hai teri manzil ka toh nahi hai jo\n",
      "Woh dard hi sahi\n",
      "Tujhse mila hai mushkil\n",
      "Yeh jism bhi meri\n",
      "Yeh jism bhi mera nahi\n",
      "Jitna hua tera\n",
      "Tune diya hai manzil se bhi\n",
      "Meri har kami ko hai jo\n",
      "Woh dard hi sahi\n",
      "Toh aasmaan mein aa mil\n",
      "Tere bina guzara\n",
      "Ae Dil Hai Mushkil\n",
      "Maana ki teri kami\n",
      "Meri har kami ko hai mushkil\n",
      "Yeh jism bhi mera nahi hai \n"
     ]
    }
   ],
   "source": [
    "print(greeting)"
   ]
  },
  {
   "cell_type": "code",
   "execution_count": null,
   "metadata": {},
   "outputs": [],
   "source": []
  },
  {
   "cell_type": "code",
   "execution_count": null,
   "metadata": {},
   "outputs": [],
   "source": []
  }
 ],
 "metadata": {
  "kernelspec": {
   "display_name": "Python 3",
   "language": "python",
   "name": "python3"
  },
  "language_info": {
   "codemirror_mode": {
    "name": "ipython",
    "version": 3
   },
   "file_extension": ".py",
   "mimetype": "text/x-python",
   "name": "python",
   "nbconvert_exporter": "python",
   "pygments_lexer": "ipython3",
   "version": "3.7.4"
  }
 },
 "nbformat": 4,
 "nbformat_minor": 4
}
