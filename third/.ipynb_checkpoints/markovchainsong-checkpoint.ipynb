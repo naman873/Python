{
 "cells": [
  {
   "cell_type": "code",
   "execution_count": 4,
   "metadata": {},
   "outputs": [],
   "source": [
    "import requests\n",
    "import random\n",
    "import numpy as np\n",
    "import pandas as pd"
   ]
  },
  {
   "cell_type": "code",
   "execution_count": null,
   "metadata": {},
   "outputs": [],
   "source": []
  },
  {
   "cell_type": "code",
   "execution_count": 16,
   "metadata": {},
   "outputs": [],
   "source": [
    "with open(\"song.txt\" , \"r\") as f:\n",
    "    song=f.read()"
   ]
  },
  {
   "cell_type": "code",
   "execution_count": 19,
   "metadata": {},
   "outputs": [],
   "source": [
    "#song"
   ]
  },
  {
   "cell_type": "code",
   "execution_count": 20,
   "metadata": {},
   "outputs": [],
   "source": [
    "k=5"
   ]
  },
  {
   "cell_type": "code",
   "execution_count": 23,
   "metadata": {},
   "outputs": [],
   "source": [
    "count={}\n",
    "for i in range(k,len(song)):\n",
    "    cut=song[i-k:i]\n",
    "    nxt=song[i]\n",
    "    \n",
    "    if cut not in count:\n",
    "        count[cut]={}\n",
    "        \n",
    "    if nxt not in count[cut]:\n",
    "        count[cut][nxt]=0\n",
    "        \n",
    "        count[cut][nxt]+=1"
   ]
  },
  {
   "cell_type": "code",
   "execution_count": 25,
   "metadata": {},
   "outputs": [],
   "source": [
    "#count"
   ]
  },
  {
   "cell_type": "code",
   "execution_count": 27,
   "metadata": {},
   "outputs": [],
   "source": [
    "greeting=song[:6]"
   ]
  },
  {
   "cell_type": "code",
   "execution_count": 31,
   "metadata": {},
   "outputs": [],
   "source": [
    "for i in range(500):\n",
    "    cut=greeting[-k:]\n",
    "    top3=sorted(count[cut].items() , key=lambda item:item[1],reverse=True)[:3]\n",
    "    sel=random.choice(top3)[0]\n",
    "    greeting=greeting+sel"
   ]
  },
  {
   "cell_type": "code",
   "execution_count": 32,
   "metadata": {},
   "outputs": [
    {
     "name": "stdout",
     "output_type": "stream",
     "text": [
      "Tu safar\n",
      "Khoobsurat hai jo\n",
      "Woh dard hi sahi\n",
      "Tujhko main tere qaabil\n",
      "Tere bina guzaara\n",
      "Ae Dil Hai Mushkil\n",
      "Tu mera safar\n",
      "Khoobsurat hai jo\n",
      "Woh dard hi sahi\n",
      "Tujhse mila hai jo\n",
      "Woh dard hi sahi\n",
      "Tujhko maaloom hai\n",
      "Ye ek tarfa mera\n",
      "Banoon main tere qaabil\n",
      "Tere bina guzara\n",
      "Ae dil ko maaloom hai jo\n",
      "Woh dard hi sahi\n",
      "Toh aasmaan dhoondhe teri maujoodgi se\n",
      "Ye zindagani mehroom hai\n",
      "Ye ek tarfa mere dil ko main tere qaabil\n",
      "Tere bina guzara\n",
      "Ae Dil Hai Mushkil\n",
      "Yeh rooh bhi meri\n",
      "Yeh jism bhi mera\n",
      "Hai tu hi duaa mein aa mil\n",
      "Tere bina guzara\n",
      "Ae dil ko maaloom hai mushkil\n",
      "Tu mera\n",
      "Utna mera khuda\n",
      "Tu hi duaa mein shaamil\n",
      "Tere bina guzara\n",
      "Ae Dil Hai Mushkil\n",
      "Tu mera khuda\n",
      "Tu hi mera khuda\n",
      "Tu hi mera khuda\n",
      "Tu hi duaa mein shaamil\n",
      "Tere bina guzara\n",
      "Ae dil ko maaloom hai\n",
      "Ye ek tarfa mere dil ko maaloom hai\n",
      "Ye ek tarfa mere dil ko main tere qaabil\n",
      "Tere bina guzaara\n",
      "Ae dil hai jo\n",
      "Woh dard hi sahi\n",
      "Tujhko main kitni\n",
      "Shiddat se chaahun\n",
      "Chaahe toh rehna tu be-khabar\n",
      "Mohtaaj manzil ka toh nahi\n",
      "Jitna hua tera\n",
      "Tune diya hai mu\n"
     ]
    }
   ],
   "source": [
    "print(greeting)"
   ]
  },
  {
   "cell_type": "code",
   "execution_count": null,
   "metadata": {},
   "outputs": [],
   "source": []
  }
 ],
 "metadata": {
  "kernelspec": {
   "display_name": "Python 3",
   "language": "python",
   "name": "python3"
  },
  "language_info": {
   "codemirror_mode": {
    "name": "ipython",
    "version": 3
   },
   "file_extension": ".py",
   "mimetype": "text/x-python",
   "name": "python",
   "nbconvert_exporter": "python",
   "pygments_lexer": "ipython3",
   "version": "3.7.4"
  }
 },
 "nbformat": 4,
 "nbformat_minor": 4
}
