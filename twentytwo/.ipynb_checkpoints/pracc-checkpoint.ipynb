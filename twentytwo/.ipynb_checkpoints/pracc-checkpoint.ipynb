{
 "cells": [
  {
   "cell_type": "code",
   "execution_count": 35,
   "metadata": {},
   "outputs": [],
   "source": [
    "class vertix:\n",
    "    def __init__(self,value):\n",
    "        self.value=value\n",
    "        self.neighbour=[]\n",
    "        \n",
    "    def __repr__(self):\n",
    "        return str(self.value)"
   ]
  },
  {
   "cell_type": "code",
   "execution_count": 196,
   "metadata": {},
   "outputs": [],
   "source": [
    "class graph:\n",
    "    \n",
    "    def  __init__(self):\n",
    "        self.vertices=[]\n",
    "        \n",
    "    def isfind(self,value):\n",
    "        for ele in self.vertices:\n",
    "            if ele.value==value:\n",
    "                return ele\n",
    "        return None\n",
    "    \n",
    "    def add(self,value):\n",
    "        if not self.isfind(value):\n",
    "            self.vertices.append(vertix(value))\n",
    "            \n",
    "        else:\n",
    "            print(\"value already exist\")\n",
    "            \n",
    "    def neigh(self,source,target):\n",
    "        source_l=self.isfind(source)\n",
    "        target_l=self.isfind(target)\n",
    "        \n",
    "        if source_l and target_l:\n",
    "            source_l.neighbour.append(target_l)\n",
    "            target_l.neighbour.append(source_l)\n",
    "        else:\n",
    "            print(\"some of source and target are missing\")\n",
    "    \n",
    "    def display(self):\n",
    "        for ele in self.vertices:\n",
    "            print(ele.value,end=\":\")\n",
    "            print(\",\".join([str(e) for e in ele.neighbour]))\n",
    "            print(\"\")\n",
    "            \n",
    "    def dft(self,vert=None):\n",
    "        if not vert:\n",
    "            vertixx=self.vertices[0]\n",
    "        else:\n",
    "            vertixx=self.isfind(vert)\n",
    "            \n",
    "        stack=list()\n",
    "        visited=set()\n",
    "        \n",
    "        stack.append(vertixx)\n",
    "        visited.add(vertixx)\n",
    "        \n",
    "        while len(stack)>0:\n",
    "            verix=stack.pop()\n",
    "            print(verix)\n",
    "            \n",
    "            for neig in verix.neighbour:\n",
    "                if neig not in visited:\n",
    "                    stack.append(neig)\n",
    "                    visited.add(neig)\n",
    "    \n",
    "    def bft(self,vert=None):\n",
    "        if not vert:\n",
    "            vertixx=self.vertices[0]\n",
    "        else:\n",
    "            vertixx=self.isfind(vert)\n",
    "            \n",
    "        queue=list()\n",
    "        visited=set()\n",
    "        \n",
    "        queue.append(vertixx)\n",
    "        visited.add(vertixx)\n",
    "        \n",
    "        while len(queue)>0:\n",
    "            verix=queue.pop(0)\n",
    "            print(verix)\n",
    "            \n",
    "            for nei in verix.neighbour:\n",
    "                if nei not in visited:\n",
    "                    queue.append(nei)\n",
    "                    visited.add(nei)\n",
    "    \n",
    "    def bfs(self,source,target):\n",
    "        source_t=self.isfind(source)\n",
    "        \n",
    "        queue=list()\n",
    "        visited=set()\n",
    "        \n",
    "        queue.append(source_t)\n",
    "        visited.add(source_t)\n",
    "        \n",
    "        while len(queue)>0:\n",
    "            verix=queue.pop(0)\n",
    "            \n",
    "            if verix.value==target:\n",
    "                return True\n",
    "            \n",
    "            \n",
    "            for ele in verix.neighbour:\n",
    "                if ele not in visited:\n",
    "                    queue.append(ele)\n",
    "                    visited.add(ele)\n",
    "        return False\n",
    "    \n",
    "    \n",
    "    \n",
    "    \n",
    "    \n",
    "    \n",
    "    \n",
    "    def breadth_first_search_cost(self, source, target):\n",
    "        vertex = self.isfind(source)\n",
    "\n",
    "        level = 0\n",
    "\n",
    "        queue = list()\n",
    "        visited = set()\n",
    "\n",
    "        queue.append(vertex)\n",
    "        queue.append(None)\n",
    "        visited.add(vertex)\n",
    "\n",
    "        while len(queue) > 1:\n",
    "            vertex = queue.pop(0)\n",
    "\n",
    "            if vertex is None:\n",
    "                level += 1\n",
    "                queue.append(None)\n",
    "                continue\n",
    "\n",
    "            if vertex.value == target:\n",
    "                return level\n",
    "\n",
    "            for neighbour in vertex.neighbour:\n",
    "                if neighbour not in visited:\n",
    "                    visited.add(neighbour)\n",
    "                    queue.append(neighbour)\n",
    "\n",
    "        return -1\n",
    "    \n",
    "    \n",
    "    def breadth_first_search_level(self, source):\n",
    "        vertex = self.isfind(source)\n",
    "\n",
    "        level = 0\n",
    "\n",
    "        queue = list()\n",
    "        visited = set()\n",
    "\n",
    "        queue.append(vertex)\n",
    "        queue.append(None)\n",
    "        visited.add(vertex)\n",
    "\n",
    "        while len(queue) > 1:\n",
    "            vertex = queue.pop(0)\n",
    "\n",
    "            if vertex is None:\n",
    "                level += 1\n",
    "                queue.append(None)\n",
    "                continue\n",
    "\n",
    "            print(vertex, level)\n",
    "\n",
    "            for neighbour in vertex.neighbour:\n",
    "                if neighbour not in visited:\n",
    "                    visited.add(neighbour)\n",
    "                    queue.append(neighbour)  \n",
    "    \n",
    "    \n",
    "    \n",
    "    \n",
    "    \n",
    "    \n",
    "    def dfs(self,source,target):\n",
    "        source_t=self.isfind(source)\n",
    "        \n",
    "        stack=list()\n",
    "        visited=set()\n",
    "        \n",
    "        stack.append(source_t)\n",
    "        visited.add(source_t)\n",
    "        \n",
    "        while len(stack)>0:\n",
    "            vert=stack.pop()\n",
    "            \n",
    "            if vert.value==target:\n",
    "                return True\n",
    "            \n",
    "            for ele in vert.neighbour:\n",
    "                if ele not in visited:\n",
    "                    visited.add(ele)\n",
    "                    stack.append(ele)\n",
    "                    \n",
    "        return False"
   ]
  },
  {
   "cell_type": "code",
   "execution_count": 197,
   "metadata": {},
   "outputs": [],
   "source": [
    "a=graph()"
   ]
  },
  {
   "cell_type": "code",
   "execution_count": 198,
   "metadata": {},
   "outputs": [],
   "source": [
    "a.add(\"a\")\n",
    "a.add(\"b\")\n",
    "a.add(\"c\")\n",
    "a.add(\"d\")\n",
    "a.add(\"e\")\n",
    "a.add(\"f\")"
   ]
  },
  {
   "cell_type": "code",
   "execution_count": 199,
   "metadata": {},
   "outputs": [
    {
     "name": "stdout",
     "output_type": "stream",
     "text": [
      "some of source and target are missing\n"
     ]
    }
   ],
   "source": [
    "a.neigh(\"a\",\"b\")\n",
    "a.neigh(\"a\",\"c\")\n",
    "a.neigh(\"c\",\"d\")\n",
    "a.neigh(\"c\",\"e\")\n",
    "a.neigh(\"e\",\"f\")\n",
    "a.neigh(\"z\",\"x\")"
   ]
  },
  {
   "cell_type": "code",
   "execution_count": 200,
   "metadata": {},
   "outputs": [
    {
     "name": "stdout",
     "output_type": "stream",
     "text": [
      "a:b,c\n",
      "\n",
      "b:a\n",
      "\n",
      "c:a,d,e\n",
      "\n",
      "d:c\n",
      "\n",
      "e:c,f\n",
      "\n",
      "f:e\n",
      "\n"
     ]
    }
   ],
   "source": [
    "a.display()"
   ]
  },
  {
   "cell_type": "code",
   "execution_count": 201,
   "metadata": {},
   "outputs": [
    {
     "name": "stdout",
     "output_type": "stream",
     "text": [
      "a\n",
      "c\n",
      "e\n",
      "f\n",
      "d\n",
      "b\n"
     ]
    }
   ],
   "source": [
    "a.dft()"
   ]
  },
  {
   "cell_type": "code",
   "execution_count": 202,
   "metadata": {},
   "outputs": [
    {
     "name": "stdout",
     "output_type": "stream",
     "text": [
      "a\n",
      "b\n",
      "c\n",
      "d\n",
      "e\n",
      "f\n"
     ]
    }
   ],
   "source": [
    "a.bft()"
   ]
  },
  {
   "cell_type": "code",
   "execution_count": 203,
   "metadata": {},
   "outputs": [
    {
     "data": {
      "text/plain": [
       "True"
      ]
     },
     "execution_count": 203,
     "metadata": {},
     "output_type": "execute_result"
    }
   ],
   "source": [
    "a.bfs(\"a\",\"c\")"
   ]
  },
  {
   "cell_type": "code",
   "execution_count": 204,
   "metadata": {},
   "outputs": [
    {
     "data": {
      "text/plain": [
       "True"
      ]
     },
     "execution_count": 204,
     "metadata": {},
     "output_type": "execute_result"
    }
   ],
   "source": [
    "a.dfs(\"a\",\"c\")"
   ]
  },
  {
   "cell_type": "code",
   "execution_count": 205,
   "metadata": {},
   "outputs": [
    {
     "data": {
      "text/plain": [
       "1"
      ]
     },
     "execution_count": 205,
     "metadata": {},
     "output_type": "execute_result"
    }
   ],
   "source": [
    "a.breadth_first_search_cost(\"a\",\"c\")"
   ]
  },
  {
   "cell_type": "code",
   "execution_count": 208,
   "metadata": {},
   "outputs": [
    {
     "name": "stdout",
     "output_type": "stream",
     "text": [
      "a 0\n",
      "b 1\n",
      "c 1\n",
      "d 2\n",
      "e 2\n",
      "f 3\n"
     ]
    }
   ],
   "source": [
    "a.breadth_first_search_level(\"a\")"
   ]
  },
  {
   "cell_type": "code",
   "execution_count": null,
   "metadata": {},
   "outputs": [],
   "source": []
  }
 ],
 "metadata": {
  "kernelspec": {
   "display_name": "Python 3",
   "language": "python",
   "name": "python3"
  },
  "language_info": {
   "codemirror_mode": {
    "name": "ipython",
    "version": 3
   },
   "file_extension": ".py",
   "mimetype": "text/x-python",
   "name": "python",
   "nbconvert_exporter": "python",
   "pygments_lexer": "ipython3",
   "version": "3.7.4"
  }
 },
 "nbformat": 4,
 "nbformat_minor": 4
}
