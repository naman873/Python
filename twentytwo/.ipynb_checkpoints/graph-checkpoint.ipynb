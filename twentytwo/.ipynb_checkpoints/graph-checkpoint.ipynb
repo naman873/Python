{
 "cells": [
  {
   "cell_type": "code",
   "execution_count": 36,
   "metadata": {},
   "outputs": [],
   "source": [
    "class Vertex:\n",
    "    def __init__(self,value):\n",
    "        self.value=value\n",
    "        self.neighbour=[]\n",
    "        \n",
    "    def __repr__(self):\n",
    "        return str(self.value)"
   ]
  },
  {
   "cell_type": "code",
   "execution_count": 109,
   "metadata": {},
   "outputs": [],
   "source": [
    "class Graph:\n",
    "    def __init__(self):\n",
    "        self.vertices=[]\n",
    "        \n",
    "    def find(self,value):\n",
    "        for ele in self.vertices:\n",
    "            if ele.value==value:\n",
    "                return ele\n",
    "        \n",
    "        return None\n",
    "      \n",
    "        \n",
    "    def add(self,value):\n",
    "        if not self.find(value):\n",
    "            self.vertices.append(Vertex(value))\n",
    "        else:\n",
    "            print(\"value already exist\")\n",
    "            \n",
    "    def edge(self,source,target):\n",
    "        source_v=self.find(source)\n",
    "        target_v=self.find(target)\n",
    "        \n",
    "        if source_v and target_v:\n",
    "            source_v.neighbour.append(target_v)\n",
    "            target_v.neighbour.append(source_v)\n",
    "        else:\n",
    "            print(\"Some of\",source , target,\"are missing\")\n",
    "    \n",
    "    def display(self):\n",
    "        for vertex in self.vertices:\n",
    "            print(vertex,end=\" : \")\n",
    "            print(\" ,\".join([str(neig) for neig in vertex.neighbour]))\n",
    "            print()\n",
    "            \n",
    "    def depth_first_trev(self,source=None):\n",
    "        if not source:\n",
    "            vertex=self.vertices[]\n",
    "        else:\n",
    "            vertex=self.find(source)\n",
    "            \n",
    "        stack=list()\n",
    "        visited=set()\n",
    "        \n",
    "        stack.append(vertex)\n",
    "        visited.add(vertex)\n",
    "        \n",
    "        while len(stack)>0:\n",
    "            vertex=stack.pop()\n",
    "            print(vertex)\n",
    "            \n",
    "            for neigh in vertex.neighbour:\n",
    "                if neigh not  in visited:\n",
    "                    visited.add(neigh)\n",
    "                    stack.append(neigh)\n",
    "                    \n",
    "    def breadth_first_trev(self,source=None):\n",
    "        if not source:\n",
    "            vertex=self.vertices[0]\n",
    "        else:\n",
    "            vertex=self.find(source)\n",
    "            \n",
    "        stack=list()\n",
    "        visited=set()\n",
    "        \n",
    "        stack.append(vertex)\n",
    "        visited.add(vertex)\n",
    "        \n",
    "        while len(stack)>0:\n",
    "            vertex=stack.pop(0)\n",
    "            print(vertex)\n",
    "            \n",
    "            for neigh in vertex.neighbour:\n",
    "                if neigh not  in visited:\n",
    "                    visited.add(neigh)\n",
    "                    stack.append(neigh)\n",
    "                    \n",
    "    def breadth_first_search(self,source,target):\n",
    "        vertex=self.find(source)\n",
    "            \n",
    "        stack=list()\n",
    "        visited=set()\n",
    "        \n",
    "        stack.append(vertex)\n",
    "        visited.add(vertex)\n",
    "        \n",
    "        while len(stack)>0:\n",
    "            vertex=stack.pop(0)\n",
    "            if vertex.value==target:\n",
    "                return True\n",
    "            \n",
    "            for neigh in vertex.neighbour:\n",
    "                if neigh not  in visited:\n",
    "                    visited.add(neigh)\n",
    "                    stack.append(neigh) \n",
    "        return False\n",
    "    \n",
    "    def depth_first_search(self,source,target):\n",
    "        vertex=self.find(source)\n",
    "            \n",
    "        stack=list()\n",
    "        visited=set()\n",
    "        \n",
    "        stack.append(vertex)\n",
    "        visited.add(vertex)\n",
    "        \n",
    "        while len(stack)>0:\n",
    "            vertex=stack.pop()\n",
    "            \n",
    "            if vertex.value==target:\n",
    "                return True\n",
    "            \n",
    "            for neigh in vertex.neighbour:\n",
    "                if neigh not  in visited:\n",
    "                    visited.add(neigh)\n",
    "                    stack.append(neigh)\n",
    "        return False"
   ]
  },
  {
   "cell_type": "code",
   "execution_count": 110,
   "metadata": {},
   "outputs": [],
   "source": [
    "a=Graph()"
   ]
  },
  {
   "cell_type": "code",
   "execution_count": 111,
   "metadata": {},
   "outputs": [],
   "source": [
    "a.add(\"naman\")"
   ]
  },
  {
   "cell_type": "code",
   "execution_count": 112,
   "metadata": {},
   "outputs": [],
   "source": [
    "a.add(\"top\")"
   ]
  },
  {
   "cell_type": "code",
   "execution_count": 113,
   "metadata": {},
   "outputs": [],
   "source": [
    "a.add(\"bat\")"
   ]
  },
  {
   "cell_type": "code",
   "execution_count": 114,
   "metadata": {},
   "outputs": [],
   "source": [
    "a.edge(\"naman\",\"top\")\n",
    "#a.edge(\"naman\",\"bat\")\n",
    "a.edge(\"bat\",\"top\")"
   ]
  },
  {
   "cell_type": "code",
   "execution_count": 115,
   "metadata": {},
   "outputs": [
    {
     "name": "stdout",
     "output_type": "stream",
     "text": [
      "naman : top\n",
      "\n",
      "top : naman ,bat\n",
      "\n",
      "bat : top\n",
      "\n"
     ]
    }
   ],
   "source": [
    "a.display()"
   ]
  },
  {
   "cell_type": "code",
   "execution_count": 116,
   "metadata": {},
   "outputs": [
    {
     "name": "stdout",
     "output_type": "stream",
     "text": [
      "naman\n",
      "top\n",
      "bat\n"
     ]
    }
   ],
   "source": [
    "a.depth_first_trev()"
   ]
  },
  {
   "cell_type": "code",
   "execution_count": 117,
   "metadata": {},
   "outputs": [
    {
     "data": {
      "text/plain": [
       "True"
      ]
     },
     "execution_count": 117,
     "metadata": {},
     "output_type": "execute_result"
    }
   ],
   "source": [
    "a.depth_first_search(\"naman\",\"naman\")"
   ]
  },
  {
   "cell_type": "code",
   "execution_count": 118,
   "metadata": {},
   "outputs": [
    {
     "name": "stdout",
     "output_type": "stream",
     "text": [
      "naman\n",
      "top\n",
      "bat\n"
     ]
    }
   ],
   "source": [
    "a.breadth_first_trev()"
   ]
  },
  {
   "cell_type": "code",
   "execution_count": 119,
   "metadata": {},
   "outputs": [
    {
     "data": {
      "text/plain": [
       "True"
      ]
     },
     "execution_count": 119,
     "metadata": {},
     "output_type": "execute_result"
    }
   ],
   "source": [
    "a.breadth_first_search(\"naman\",\"naman\")"
   ]
  },
  {
   "cell_type": "code",
   "execution_count": null,
   "metadata": {},
   "outputs": [],
   "source": []
  }
 ],
 "metadata": {
  "kernelspec": {
   "display_name": "Python 3",
   "language": "python",
   "name": "python3"
  },
  "language_info": {
   "codemirror_mode": {
    "name": "ipython",
    "version": 3
   },
   "file_extension": ".py",
   "mimetype": "text/x-python",
   "name": "python",
   "nbconvert_exporter": "python",
   "pygments_lexer": "ipython3",
   "version": "3.7.4"
  }
 },
 "nbformat": 4,
 "nbformat_minor": 4
}
