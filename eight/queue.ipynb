{
 "cells": [
  {
   "cell_type": "code",
   "execution_count": 6,
   "metadata": {},
   "outputs": [],
   "source": [
    "import numpy as np"
   ]
  },
  {
   "cell_type": "code",
   "execution_count": 7,
   "metadata": {},
   "outputs": [],
   "source": [
    "class Queue:\n",
    "    def __init__(self):\n",
    "        self.__end=-1\n",
    "        self.__size=0\n",
    "        self.__data=np.zeros((10,),dtype=int)\n",
    "        \n",
    "    def isFull(self):\n",
    "        return self.__size==len(self.__data)\n",
    "    \n",
    "    def isEmpty(self):\n",
    "        return self.__size==0\n",
    "    \n",
    "    def size(self):\n",
    "        return self.__size\n",
    "    \n",
    "    def add(self,val):\n",
    "        if self.isFull():\n",
    "            print(\"Queue is full\")\n",
    "        else:\n",
    "            self.__end+=1\n",
    "            self.__data[self.__end]=val\n",
    "            self.__size+=1\n",
    "            \n",
    "    def remove(self):\n",
    "        if self.isEmpty():\n",
    "            print(\"Queue is empty\")\n",
    "        else:\n",
    "            removed=self.__data[0]\n",
    "            for i in range(self.__size):\n",
    "                self.__data[i]=self.__data[i+1]\n",
    "            self.__end-=1\n",
    "            self.__size-=1\n",
    "            return removed       \n",
    "        \n",
    "    def __repr__(self):                          ### __repr__ magic method\n",
    "            return str(self.__data[:self.__end+1])\n",
    "    "
   ]
  },
  {
   "cell_type": "code",
   "execution_count": 39,
   "metadata": {},
   "outputs": [],
   "source": [
    "q=Queue()"
   ]
  },
  {
   "cell_type": "code",
   "execution_count": 7,
   "metadata": {},
   "outputs": [],
   "source": [
    "q.add(5)"
   ]
  },
  {
   "cell_type": "code",
   "execution_count": 8,
   "metadata": {},
   "outputs": [],
   "source": [
    "q.add(3)"
   ]
  },
  {
   "cell_type": "code",
   "execution_count": 9,
   "metadata": {},
   "outputs": [
    {
     "data": {
      "text/plain": [
       "5"
      ]
     },
     "execution_count": 9,
     "metadata": {},
     "output_type": "execute_result"
    }
   ],
   "source": [
    "q.remove()"
   ]
  },
  {
   "cell_type": "code",
   "execution_count": 10,
   "metadata": {},
   "outputs": [
    {
     "name": "stdout",
     "output_type": "stream",
     "text": [
      "[3]\n"
     ]
    }
   ],
   "source": [
    "print(q)"
   ]
  },
  {
   "cell_type": "code",
   "execution_count": null,
   "metadata": {},
   "outputs": [],
   "source": []
  },
  {
   "cell_type": "markdown",
   "metadata": {},
   "source": [
    "Circular Queue"
   ]
  },
  {
   "cell_type": "code",
   "execution_count": 24,
   "metadata": {},
   "outputs": [],
   "source": [
    "class CircularQueue:\n",
    "    def __init__(self):\n",
    "        self.__front=0\n",
    "        self.__end=0\n",
    "        self.__size=0\n",
    "        self.__data=np.zeros((10,),dtype=int)\n",
    "        \n",
    "        \n",
    "    def isFull(self):\n",
    "        return self.__size==len(self.__data)\n",
    "    \n",
    "    def isEmpty(self):\n",
    "        return self.__size==0  \n",
    "    \n",
    "    def add(self,val):\n",
    "        if self.isFull():\n",
    "            print(\"Queue is full\")\n",
    "        else:\n",
    "            self.__data[self.__end]=val\n",
    "            self.__end+=1\n",
    "            self.__end=self.__end % len(self.__data)\n",
    "            self.__size+=1\n",
    "    \n",
    "    def __repr__(self):\n",
    "            if self.__front< self.__end:\n",
    "                cut=(self.__data[self.__front:self.__end])\n",
    "            else:\n",
    "                cut1=self.__data[self.__front:]\n",
    "                cut2=self.__data[0:self.__end]\n",
    "                cut= np.concatenate((cut1,cut2))\n",
    "            return f'[{\",\".join(map(str,cut))}]'\n",
    "    \n",
    "    def remove(self):\n",
    "        if self.isEmpty():        \n",
    "             print(\"Queue is empty\")\n",
    "        else:\n",
    "            removed=self.__data[self.__front]\n",
    "            self.__front+=1\n",
    "            self.__front=self.__front % len(self.__data)\n",
    "            self.__size-=1\n",
    "            return removed"
   ]
  },
  {
   "cell_type": "code",
   "execution_count": 25,
   "metadata": {},
   "outputs": [],
   "source": [
    "cq=CircularQueue()  "
   ]
  },
  {
   "cell_type": "code",
   "execution_count": 26,
   "metadata": {},
   "outputs": [],
   "source": [
    "for i in range(10):\n",
    "    cq.add(i)"
   ]
  },
  {
   "cell_type": "code",
   "execution_count": 27,
   "metadata": {},
   "outputs": [
    {
     "data": {
      "text/plain": [
       "[0,1,2,3,4,5,6,7,8,9]"
      ]
     },
     "execution_count": 27,
     "metadata": {},
     "output_type": "execute_result"
    }
   ],
   "source": [
    "cq"
   ]
  },
  {
   "cell_type": "code",
   "execution_count": 30,
   "metadata": {},
   "outputs": [
    {
     "data": {
      "text/plain": [
       "2"
      ]
     },
     "execution_count": 30,
     "metadata": {},
     "output_type": "execute_result"
    }
   ],
   "source": [
    "cq.remove()"
   ]
  },
  {
   "cell_type": "code",
   "execution_count": 16,
   "metadata": {},
   "outputs": [],
   "source": [
    "######Stack as Queue        ##### kunal classs"
   ]
  },
  {
   "cell_type": "code",
   "execution_count": 17,
   "metadata": {},
   "outputs": [],
   "source": [
    "##add efficent\n",
    "class SUQ:\n",
    "    def __init__(self):\n",
    "        self.q1=Queue()\n",
    "        self.q2=Queue()\n",
    "        \n",
    "    def add(self,value):\n",
    "        self.q1.add(value)\n",
    "        \n",
    "    def pop(self):\n",
    "        while self.q1.size() !=1:\n",
    "             self.q2.add(self.q1.remove())\n",
    "        temp=self.q1.remove()\n",
    "        self.q1,self.q2=self.q2,self.q1\n",
    "        return temp\n",
    "    \n",
    "    def dis(self):\n",
    "        print(self.q1)"
   ]
  },
  {
   "cell_type": "code",
   "execution_count": 18,
   "metadata": {},
   "outputs": [],
   "source": [
    "sq=SUQ()"
   ]
  },
  {
   "cell_type": "code",
   "execution_count": 19,
   "metadata": {},
   "outputs": [],
   "source": [
    "sq.add(2)\n",
    "sq.add(4)\n",
    "sq.add(3)"
   ]
  },
  {
   "cell_type": "code",
   "execution_count": 20,
   "metadata": {},
   "outputs": [
    {
     "data": {
      "text/plain": [
       "3"
      ]
     },
     "execution_count": 20,
     "metadata": {},
     "output_type": "execute_result"
    }
   ],
   "source": [
    "sq.pop()"
   ]
  },
  {
   "cell_type": "code",
   "execution_count": 21,
   "metadata": {},
   "outputs": [
    {
     "name": "stdout",
     "output_type": "stream",
     "text": [
      "[2 4]\n"
     ]
    }
   ],
   "source": [
    "sq.dis()"
   ]
  },
  {
   "cell_type": "code",
   "execution_count": 22,
   "metadata": {},
   "outputs": [
    {
     "data": {
      "text/plain": [
       "[]"
      ]
     },
     "execution_count": 22,
     "metadata": {},
     "output_type": "execute_result"
    }
   ],
   "source": [
    "sq.q2"
   ]
  },
  {
   "cell_type": "code",
   "execution_count": null,
   "metadata": {},
   "outputs": [],
   "source": []
  },
  {
   "cell_type": "code",
   "execution_count": null,
   "metadata": {},
   "outputs": [],
   "source": [
    "class SUQ1:\n",
    "    def __init__(self):\n",
    "        self.q1=Queue()\n",
    "        self.q1=Queue()\n",
    "        \n",
    "    def add(self,value):\n",
    "        self.q2.add(value)\n",
    "        while not self.q1.isEmpty():\n",
    "            self q2\n",
    "        \n",
    "    def pop(self):\n",
    "        self.q2=self.\n",
    "        while self.q1.size() !=1:\n",
    "             self.q1.add(self.q1.remove())\n",
    "        temp=self.q1.remove()\n",
    "        self.q1,self.q2=self.q2,self.q1\n",
    "        return temp\n",
    "    \n",
    "    def dis(self):\n",
    "        print(self.q1)"
   ]
  }
 ],
 "metadata": {
  "kernelspec": {
   "display_name": "Python 3",
   "language": "python",
   "name": "python3"
  },
  "language_info": {
   "codemirror_mode": {
    "name": "ipython",
    "version": 3
   },
   "file_extension": ".py",
   "mimetype": "text/x-python",
   "name": "python",
   "nbconvert_exporter": "python",
   "pygments_lexer": "ipython3",
   "version": "3.7.4"
  }
 },
 "nbformat": 4,
 "nbformat_minor": 4
}
