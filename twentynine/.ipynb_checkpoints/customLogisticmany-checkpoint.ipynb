{
 "cells": [
  {
   "cell_type": "code",
   "execution_count": 146,
   "metadata": {},
   "outputs": [],
   "source": [
    "import numpy as np\n",
    "import matplotlib.pyplot as plt\n",
    "from sklearn.linear_model import LogisticRegression\n",
    "from sklearn.datasets import make_blobs"
   ]
  },
  {
   "cell_type": "code",
   "execution_count": 147,
   "metadata": {},
   "outputs": [],
   "source": [
    "x,y=make_blobs(centers=6,random_state=42)"
   ]
  },
  {
   "cell_type": "code",
   "execution_count": 148,
   "metadata": {},
   "outputs": [],
   "source": [
    "class customLogistic :\n",
    "    \n",
    "    def __init__(self,lr=1,maxstep=10):\n",
    "        self.lr=lr\n",
    "        self.maxstep=maxstep\n",
    "    \n",
    "    def fit(self,x,y):\n",
    "        x=np.hstack([np.ones((x.shape[0],1)),x])\n",
    "        self.classes=np.unique(y)\n",
    "        \n",
    "        thetas=[]\n",
    "        \n",
    "        for klass in self.classes:\n",
    "            theta = np.random.randn(x.shape[1], 1)\n",
    "            y_mod= (klass==y).astype(int)\n",
    "            for i in range(self.maxstep):\n",
    "                self.gradient_ascend(x,y_mod,theta)\n",
    "            thetas.append(theta)\n",
    "            \n",
    "        self.thetas=np.hstack(thetas)\n",
    "        \n",
    "    def gradient_ascend(self,x,y,theta):\n",
    "        delta_theta=self.ascend(x,y,theta)\n",
    "        #print(theta)\n",
    "        theta+=delta_theta\n",
    "        return theta\n",
    "    \n",
    "    def ascend(self,x,y,theta):\n",
    "        ya=y.reshape(-1,1)\n",
    "        yp=self.hypo(x,theta)\n",
    "        diff=yp-ya\n",
    "        dlltheta=np.dot(x.T,diff)/len(x)\n",
    "        \n",
    "        return -dlltheta*self.lr \n",
    "        \n",
    "    def hypo(self,x,theta):\n",
    "        g=np.dot(x,theta)\n",
    "        return 1 / (1+np.exp(-g))\n",
    "    \n",
    "    def predict(self,x):\n",
    "        x=np.hstack([np.ones((x.shape[0],1)),x])\n",
    "        result = self.hypo(x,self.thetas)\n",
    "        return result.argmax(axis=1)\n",
    "    \n",
    "    def predict_prob(self,x):\n",
    "        x=np.hstack([np.ones((x.shape[0],1)),x])\n",
    "        result=self.hypo(x,self.thetas)\n",
    "        return result\n",
    "    \n",
    "    def score(self,x,y):\n",
    "        yp=self.predict(x)\n",
    "        return (yp==y).mean()"
   ]
  },
  {
   "cell_type": "code",
   "execution_count": 149,
   "metadata": {},
   "outputs": [],
   "source": [
    "a=customLogistic()"
   ]
  },
  {
   "cell_type": "code",
   "execution_count": 150,
   "metadata": {},
   "outputs": [],
   "source": [
    "a.fit(x,y)"
   ]
  },
  {
   "cell_type": "code",
   "execution_count": 151,
   "metadata": {},
   "outputs": [
    {
     "data": {
      "text/plain": [
       "array([5, 5, 5, 5, 5, 2, 1, 1, 1, 5], dtype=int64)"
      ]
     },
     "execution_count": 151,
     "metadata": {},
     "output_type": "execute_result"
    }
   ],
   "source": [
    "a.predict(x[:10])"
   ]
  },
  {
   "cell_type": "code",
   "execution_count": 152,
   "metadata": {},
   "outputs": [
    {
     "data": {
      "text/plain": [
       "array([[-1.31071012, -0.21129809, -0.20560838, -1.89102351, -1.89600248,\n",
       "        -1.2081044 ],\n",
       "       [ 2.2264476 ,  1.64987889, -0.33122427, -0.42195045,  0.32611352,\n",
       "        -0.75853818],\n",
       "       [-2.95854683, -1.16402796, -1.26331381, -0.3732521 ,  0.01066776,\n",
       "         0.17578648]])"
      ]
     },
     "execution_count": 152,
     "metadata": {},
     "output_type": "execute_result"
    }
   ],
   "source": [
    "a.thetas"
   ]
  },
  {
   "cell_type": "code",
   "execution_count": 153,
   "metadata": {},
   "outputs": [
    {
     "data": {
      "text/plain": [
       "array([3, 5, 0, 5, 3, 2, 1, 1, 1, 0])"
      ]
     },
     "execution_count": 153,
     "metadata": {},
     "output_type": "execute_result"
    }
   ],
   "source": [
    "y[:10]"
   ]
  },
  {
   "cell_type": "code",
   "execution_count": 154,
   "metadata": {},
   "outputs": [
    {
     "data": {
      "text/plain": [
       "0.56"
      ]
     },
     "execution_count": 154,
     "metadata": {},
     "output_type": "execute_result"
    }
   ],
   "source": [
    "a.score(x,y)"
   ]
  },
  {
   "cell_type": "code",
   "execution_count": 155,
   "metadata": {},
   "outputs": [],
   "source": [
    "model=LogisticRegression()"
   ]
  },
  {
   "cell_type": "code",
   "execution_count": 156,
   "metadata": {},
   "outputs": [
    {
     "name": "stderr",
     "output_type": "stream",
     "text": [
      "C:\\Users\\Naman\\Anaconda3\\lib\\site-packages\\sklearn\\linear_model\\logistic.py:432: FutureWarning: Default solver will be changed to 'lbfgs' in 0.22. Specify a solver to silence this warning.\n",
      "  FutureWarning)\n",
      "C:\\Users\\Naman\\Anaconda3\\lib\\site-packages\\sklearn\\linear_model\\logistic.py:469: FutureWarning: Default multi_class will be changed to 'auto' in 0.22. Specify the multi_class option to silence this warning.\n",
      "  \"this warning.\", FutureWarning)\n"
     ]
    },
    {
     "data": {
      "text/plain": [
       "LogisticRegression(C=1.0, class_weight=None, dual=False, fit_intercept=True,\n",
       "                   intercept_scaling=1, l1_ratio=None, max_iter=100,\n",
       "                   multi_class='warn', n_jobs=None, penalty='l2',\n",
       "                   random_state=None, solver='warn', tol=0.0001, verbose=0,\n",
       "                   warm_start=False)"
      ]
     },
     "execution_count": 156,
     "metadata": {},
     "output_type": "execute_result"
    }
   ],
   "source": [
    "model.fit(x,y)"
   ]
  },
  {
   "cell_type": "code",
   "execution_count": 157,
   "metadata": {},
   "outputs": [
    {
     "data": {
      "text/plain": [
       "array([5, 5, 0, 5, 3, 2, 1, 1, 1, 0])"
      ]
     },
     "execution_count": 157,
     "metadata": {},
     "output_type": "execute_result"
    }
   ],
   "source": [
    "model.predict(x[:10])"
   ]
  },
  {
   "cell_type": "code",
   "execution_count": 158,
   "metadata": {},
   "outputs": [
    {
     "data": {
      "text/plain": [
       "array([5, 5, 5, 5, 5, 2, 1, 1, 1, 5], dtype=int64)"
      ]
     },
     "execution_count": 158,
     "metadata": {},
     "output_type": "execute_result"
    }
   ],
   "source": [
    "a.predict(x[:10])"
   ]
  },
  {
   "cell_type": "code",
   "execution_count": 159,
   "metadata": {},
   "outputs": [
    {
     "data": {
      "text/plain": [
       "<matplotlib.collections.PathCollection at 0x17d2eb6be88>"
      ]
     },
     "execution_count": 159,
     "metadata": {},
     "output_type": "execute_result"
    },
    {
     "data": {
      "image/png": "[encoded data removed]",
      "text/plain": [
       "<Figure size 432x288 with 1 Axes>"
      ]
     },
     "metadata": {
      "needs_background": "light"
     },
     "output_type": "display_data"
    }
   ],
   "source": [
    "plt.scatter(x[:,0],x[:,1],c=y)"
   ]
  },
  {
   "cell_type": "code",
   "execution_count": null,
   "metadata": {},
   "outputs": [],
   "source": []
  },
  {
   "cell_type": "code",
   "execution_count": null,
   "metadata": {},
   "outputs": [],
   "source": []
  }
 ],
 "metadata": {
  "kernelspec": {
   "display_name": "Python 3",
   "language": "python",
   "name": "python3"
  },
  "language_info": {
   "codemirror_mode": {
    "name": "ipython",
    "version": 3
   },
   "file_extension": ".py",
   "mimetype": "text/x-python",
   "name": "python",
   "nbconvert_exporter": "python",
   "pygments_lexer": "ipython3",
   "version": "3.7.4"
  }
 },
 "nbformat": 4,
 "nbformat_minor": 4
}
