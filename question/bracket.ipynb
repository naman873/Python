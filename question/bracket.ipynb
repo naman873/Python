{
 "cells": [
  {
   "cell_type": "code",
   "execution_count": null,
   "metadata": {},
   "outputs": [],
   "source": []
  },
  {
   "cell_type": "code",
   "execution_count": 7,
   "metadata": {},
   "outputs": [],
   "source": [
    "def sample(opening,closing,n,s):\n",
    "    \n",
    "    if closing==n:\n",
    "        print(''.join(s))\n",
    "        return\n",
    "    \n",
    "    else:\n",
    "        if(opening>closing):\n",
    "            s.append(\")\")\n",
    "            sample(opening,closing+1,n,s)\n",
    "            s.pop()\n",
    "        \n",
    "        if(opening<n): \n",
    "            s.append(\"(\")\n",
    "            sample(opening+1,closing,n,s)\n",
    "            s.pop()\n",
    "    \n",
    "    return"
   ]
  },
  {
   "cell_type": "code",
   "execution_count": 9,
   "metadata": {},
   "outputs": [
    {
     "name": "stdout",
     "output_type": "stream",
     "text": [
      "()()\n",
      "(())\n"
     ]
    }
   ],
   "source": [
    "sample(0,0,2,s=[])"
   ]
  },
  {
   "cell_type": "code",
   "execution_count": null,
   "metadata": {},
   "outputs": [],
   "source": []
  }
 ],
 "metadata": {
  "kernelspec": {
   "display_name": "Python 3",
   "language": "python",
   "name": "python3"
  },
  "language_info": {
   "codemirror_mode": {
    "name": "ipython",
    "version": 3
   },
   "file_extension": ".py",
   "mimetype": "text/x-python",
   "name": "python",
   "nbconvert_exporter": "python",
   "pygments_lexer": "ipython3",
   "version": "3.6.10"
  }
 },
 "nbformat": 4,
 "nbformat_minor": 4
}
