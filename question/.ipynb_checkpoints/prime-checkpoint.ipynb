{
 "cells": [
  {
   "cell_type": "code",
   "execution_count": 37,
   "metadata": {},
   "outputs": [],
   "source": [
    "a=7"
   ]
  },
  {
   "cell_type": "code",
   "execution_count": 38,
   "metadata": {},
   "outputs": [
    {
     "name": "stdout",
     "output_type": "stream",
     "text": [
      "prime\n"
     ]
    }
   ],
   "source": [
    "for i in range(3,a+1):\n",
    "    if i==a:\n",
    "        print(\"prime\")\n",
    "        break\n",
    "    if a % i ==0:\n",
    "        print(\"not prime\",i)\n",
    "        break"
   ]
  },
  {
   "cell_type": "code",
   "execution_count": null,
   "metadata": {},
   "outputs": [],
   "source": []
  },
  {
   "cell_type": "code",
   "execution_count": 59,
   "metadata": {},
   "outputs": [],
   "source": [
    "a=100"
   ]
  },
  {
   "cell_type": "code",
   "execution_count": 60,
   "metadata": {},
   "outputs": [
    {
     "name": "stdout",
     "output_type": "stream",
     "text": [
      "prime 2\n",
      "prime 3\n",
      "prime 5\n",
      "prime 7\n",
      "prime 11\n",
      "prime 13\n",
      "prime 17\n",
      "prime 19\n",
      "prime 23\n",
      "prime 29\n",
      "prime 31\n",
      "prime 37\n",
      "prime 41\n",
      "prime 43\n",
      "prime 47\n",
      "prime 53\n",
      "prime 59\n",
      "prime 61\n",
      "prime 67\n",
      "prime 71\n",
      "prime 73\n",
      "prime 79\n",
      "prime 83\n",
      "prime 89\n",
      "prime 97\n"
     ]
    }
   ],
   "source": [
    "for i in range(2,a+1): \n",
    "    for j in range(2,i+1):\n",
    "        if i==j:\n",
    "            print(\"prime\",i)\n",
    "            break\n",
    "        \n",
    "        if i % j ==0:\n",
    "            #print(\"not prime\",i)\n",
    "            break\n",
    "         "
   ]
  },
  {
   "cell_type": "code",
   "execution_count": null,
   "metadata": {},
   "outputs": [],
   "source": []
  },
  {
   "cell_type": "code",
   "execution_count": null,
   "metadata": {},
   "outputs": [],
   "source": []
  }
 ],
 "metadata": {
  "kernelspec": {
   "display_name": "Python 3",
   "language": "python",
   "name": "python3"
  },
  "language_info": {
   "codemirror_mode": {
    "name": "ipython",
    "version": 3
   },
   "file_extension": ".py",
   "mimetype": "text/x-python",
   "name": "python",
   "nbconvert_exporter": "python",
   "pygments_lexer": "ipython3",
   "version": "3.6.10"
  }
 },
 "nbformat": 4,
 "nbformat_minor": 4
}
