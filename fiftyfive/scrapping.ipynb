{
 "cells": [
  {
   "cell_type": "code",
   "execution_count": 1,
   "metadata": {},
   "outputs": [],
   "source": [
    "from bs4 import BeautifulSoup"
   ]
  },
  {
   "cell_type": "code",
   "execution_count": 2,
   "metadata": {},
   "outputs": [],
   "source": [
    "import requests"
   ]
  },
  {
   "cell_type": "code",
   "execution_count": 3,
   "metadata": {},
   "outputs": [],
   "source": [
    "url=\"https://www.goodreads.com/quotes\""
   ]
  },
  {
   "cell_type": "code",
   "execution_count": 4,
   "metadata": {},
   "outputs": [],
   "source": [
    "response=requests.get(url)"
   ]
  },
  {
   "cell_type": "code",
   "execution_count": 5,
   "metadata": {},
   "outputs": [],
   "source": [
    "text=response.text"
   ]
  },
  {
   "cell_type": "code",
   "execution_count": 6,
   "metadata": {},
   "outputs": [],
   "source": [
    "soup=BeautifulSoup(text)"
   ]
  },
  {
   "cell_type": "code",
   "execution_count": 39,
   "metadata": {},
   "outputs": [],
   "source": [
    "first_quote=soup.find_all(\"div\" ,attrs={\"class\":\"quoteText\"})[2]"
   ]
  },
  {
   "cell_type": "code",
   "execution_count": null,
   "metadata": {},
   "outputs": [],
   "source": []
  },
  {
   "cell_type": "code",
   "execution_count": 40,
   "metadata": {},
   "outputs": [],
   "source": [
    "text=first_quote.text"
   ]
  },
  {
   "cell_type": "code",
   "execution_count": 41,
   "metadata": {},
   "outputs": [
    {
     "data": {
      "text/plain": [
       "\"\\n      “Two things are infinite: the universe and human stupidity; and I'm not sure about the universe.”\\n    ―\\n  \\n    Albert Einstein\\n  \\n\""
      ]
     },
     "execution_count": 41,
     "metadata": {},
     "output_type": "execute_result"
    }
   ],
   "source": [
    "text"
   ]
  },
  {
   "cell_type": "code",
   "execution_count": 17,
   "metadata": {},
   "outputs": [],
   "source": [
    "author=first_quote.find(\"span\").text.strip()"
   ]
  },
  {
   "cell_type": "code",
   "execution_count": 18,
   "metadata": {},
   "outputs": [
    {
     "data": {
      "text/plain": [
       "'Robert Frost'"
      ]
     },
     "execution_count": 18,
     "metadata": {},
     "output_type": "execute_result"
    }
   ],
   "source": [
    "author"
   ]
  },
  {
   "cell_type": "code",
   "execution_count": 19,
   "metadata": {},
   "outputs": [],
   "source": [
    "quote=text.strip().split(\"\\n\")[0].strip()"
   ]
  },
  {
   "cell_type": "code",
   "execution_count": 20,
   "metadata": {},
   "outputs": [
    {
     "data": {
      "text/plain": [
       "\"“In three words I can sum up everything I've learned about life: it goes on.”\""
      ]
     },
     "execution_count": 20,
     "metadata": {},
     "output_type": "execute_result"
    }
   ],
   "source": [
    "quote"
   ]
  },
  {
   "cell_type": "code",
   "execution_count": 65,
   "metadata": {},
   "outputs": [],
   "source": [
    "####  2 ways to do"
   ]
  },
  {
   "cell_type": "code",
   "execution_count": 66,
   "metadata": {},
   "outputs": [],
   "source": [
    "content=[]\n",
    "for i in range(30):\n",
    "    total=soup.find_all(\"div\" ,attrs={\"class\":\"quoteText\"})[i]\n",
    "    text=total.text\n",
    "    #print(text)\n",
    "    quote=text.strip().split(\"\\n\")[0]\n",
    "    author=total.find(\"span\").text.strip()\n",
    "    content.append([quote,author])"
   ]
  },
  {
   "cell_type": "code",
   "execution_count": 67,
   "metadata": {},
   "outputs": [],
   "source": [
    "quotess=soup.find_all(\"div\",attrs={\"class\":\"quote\"})\n",
    "\n",
    "cont=[]\n",
    "\n",
    "for quo in quotess:\n",
    "    total=quo.find(\"div\",attrs={\"class\":\"quoteText\"})\n",
    "    text=total.text\n",
    "    #print(text)\n",
    "    quote=text.strip().split(\"\\n\")[0]\n",
    "    author=total.find(\"span\").text.strip()\n",
    "    cont.append([quote,author])"
   ]
  },
  {
   "cell_type": "code",
   "execution_count": 62,
   "metadata": {},
   "outputs": [],
   "source": [
    "#content"
   ]
  },
  {
   "cell_type": "code",
   "execution_count": 63,
   "metadata": {},
   "outputs": [],
   "source": [
    "import pandas as pd"
   ]
  },
  {
   "cell_type": "code",
   "execution_count": 64,
   "metadata": {},
   "outputs": [
    {
     "data": {
      "text/html": [
       "<div>\n",
       "<style scoped>\n",
       "    .dataframe tbody tr th:only-of-type {\n",
       "        vertical-align: middle;\n",
       "    }\n",
       "\n",
       "    .dataframe tbody tr th {\n",
       "        vertical-align: top;\n",
       "    }\n",
       "\n",
       "    .dataframe thead th {\n",
       "        text-align: right;\n",
       "    }\n",
       "</style>\n",
       "<table border=\"1\" class=\"dataframe\">\n",
       "  <thead>\n",
       "    <tr style=\"text-align: right;\">\n",
       "      <th></th>\n",
       "      <th>quote</th>\n",
       "      <th>author</th>\n",
       "    </tr>\n",
       "  </thead>\n",
       "  <tbody>\n",
       "    <tr>\n",
       "      <th>0</th>\n",
       "      <td>“I'm selfish, impatient and a little insecure....</td>\n",
       "      <td>Marilyn Monroe</td>\n",
       "    </tr>\n",
       "    <tr>\n",
       "      <th>1</th>\n",
       "      <td>“Be yourself; everyone else is already taken.”</td>\n",
       "      <td>Oscar Wilde</td>\n",
       "    </tr>\n",
       "    <tr>\n",
       "      <th>2</th>\n",
       "      <td>“Two things are infinite: the universe and hum...</td>\n",
       "      <td>Albert Einstein</td>\n",
       "    </tr>\n",
       "    <tr>\n",
       "      <th>3</th>\n",
       "      <td>“So many books, so little time.”</td>\n",
       "      <td>Frank Zappa</td>\n",
       "    </tr>\n",
       "    <tr>\n",
       "      <th>4</th>\n",
       "      <td>“Be who you are and say what you feel, because...</td>\n",
       "      <td>Bernard M. Baruch</td>\n",
       "    </tr>\n",
       "    <tr>\n",
       "      <th>5</th>\n",
       "      <td>“A room without books is like a body without a...</td>\n",
       "      <td>Marcus Tullius Cicero</td>\n",
       "    </tr>\n",
       "    <tr>\n",
       "      <th>6</th>\n",
       "      <td>“You've gotta dance like there's nobody watchi...</td>\n",
       "      <td>William W. Purkey</td>\n",
       "    </tr>\n",
       "    <tr>\n",
       "      <th>7</th>\n",
       "      <td>“You know you're in love when you can't fall a...</td>\n",
       "      <td>Dr. Seuss</td>\n",
       "    </tr>\n",
       "    <tr>\n",
       "      <th>8</th>\n",
       "      <td>“You only live once, but if you do it right, o...</td>\n",
       "      <td>Mae West</td>\n",
       "    </tr>\n",
       "    <tr>\n",
       "      <th>9</th>\n",
       "      <td>“Be the change that you wish to see in the wor...</td>\n",
       "      <td>Mahatma Gandhi</td>\n",
       "    </tr>\n",
       "    <tr>\n",
       "      <th>10</th>\n",
       "      <td>“In three words I can sum up everything I've l...</td>\n",
       "      <td>Robert Frost</td>\n",
       "    </tr>\n",
       "    <tr>\n",
       "      <th>11</th>\n",
       "      <td>“If you want to know what a man's like, take a...</td>\n",
       "      <td>J.K. Rowling,</td>\n",
       "    </tr>\n",
       "    <tr>\n",
       "      <th>12</th>\n",
       "      <td>“Don’t walk in front of me… I may not followDo...</td>\n",
       "      <td>Albert Camus</td>\n",
       "    </tr>\n",
       "    <tr>\n",
       "      <th>13</th>\n",
       "      <td>“No one can make you feel inferior without you...</td>\n",
       "      <td>Eleanor Roosevelt,</td>\n",
       "    </tr>\n",
       "    <tr>\n",
       "      <th>14</th>\n",
       "      <td>“Friendship ... is born at the moment when one...</td>\n",
       "      <td>C.S. Lewis,</td>\n",
       "    </tr>\n",
       "    <tr>\n",
       "      <th>15</th>\n",
       "      <td>“If you tell the truth, you don't have to reme...</td>\n",
       "      <td>Mark Twain</td>\n",
       "    </tr>\n",
       "    <tr>\n",
       "      <th>16</th>\n",
       "      <td>“I've learned that people will forget what you...</td>\n",
       "      <td>Maya Angelou</td>\n",
       "    </tr>\n",
       "    <tr>\n",
       "      <th>17</th>\n",
       "      <td>“A friend is someone who knows all about you a...</td>\n",
       "      <td>Elbert Hubbard</td>\n",
       "    </tr>\n",
       "    <tr>\n",
       "      <th>18</th>\n",
       "      <td>“Always forgive your enemies; nothing annoys t...</td>\n",
       "      <td>Oscar Wilde</td>\n",
       "    </tr>\n",
       "    <tr>\n",
       "      <th>19</th>\n",
       "      <td>“To live is the rarest thing in the world. Mos...</td>\n",
       "      <td>Oscar Wilde</td>\n",
       "    </tr>\n",
       "    <tr>\n",
       "      <th>20</th>\n",
       "      <td>“Live as if you were to die tomorrow. Learn as...</td>\n",
       "      <td>Mahatma Gandhi</td>\n",
       "    </tr>\n",
       "    <tr>\n",
       "      <th>21</th>\n",
       "      <td>“Darkness cannot drive out darkness: only ligh...</td>\n",
       "      <td>Martin Luther King Jr.,</td>\n",
       "    </tr>\n",
       "    <tr>\n",
       "      <th>22</th>\n",
       "      <td>“I am so clever that sometimes I don't underst...</td>\n",
       "      <td>Oscar Wilde,</td>\n",
       "    </tr>\n",
       "    <tr>\n",
       "      <th>23</th>\n",
       "      <td>“Without music, life would be a mistake.”</td>\n",
       "      <td>Friedrich Nietzsche,</td>\n",
       "    </tr>\n",
       "    <tr>\n",
       "      <th>24</th>\n",
       "      <td>“We accept the love we think we deserve.”</td>\n",
       "      <td>Stephen Chbosky,</td>\n",
       "    </tr>\n",
       "    <tr>\n",
       "      <th>25</th>\n",
       "      <td>“To be yourself in a world that is constantly ...</td>\n",
       "      <td>Ralph Waldo Emerson</td>\n",
       "    </tr>\n",
       "    <tr>\n",
       "      <th>26</th>\n",
       "      <td>“Here's to the crazy ones. The misfits. The re...</td>\n",
       "      <td>Rob Siltanen</td>\n",
       "    </tr>\n",
       "    <tr>\n",
       "      <th>27</th>\n",
       "      <td>“Insanity is doing the same thing, over and ov...</td>\n",
       "      <td>Narcotics Anonymous</td>\n",
       "    </tr>\n",
       "    <tr>\n",
       "      <th>28</th>\n",
       "      <td>“I believe that everything happens for a reaso...</td>\n",
       "      <td>Marilyn Monroe</td>\n",
       "    </tr>\n",
       "    <tr>\n",
       "      <th>29</th>\n",
       "      <td>“Twenty years from now you will be more disapp...</td>\n",
       "      <td>H. Jackson Brown Jr.,</td>\n",
       "    </tr>\n",
       "  </tbody>\n",
       "</table>\n",
       "</div>"
      ],
      "text/plain": [
       "                                                quote                   author\n",
       "0   “I'm selfish, impatient and a little insecure....           Marilyn Monroe\n",
       "1      “Be yourself; everyone else is already taken.”              Oscar Wilde\n",
       "2   “Two things are infinite: the universe and hum...          Albert Einstein\n",
       "3                    “So many books, so little time.”              Frank Zappa\n",
       "4   “Be who you are and say what you feel, because...        Bernard M. Baruch\n",
       "5   “A room without books is like a body without a...    Marcus Tullius Cicero\n",
       "6   “You've gotta dance like there's nobody watchi...        William W. Purkey\n",
       "7   “You know you're in love when you can't fall a...                Dr. Seuss\n",
       "8   “You only live once, but if you do it right, o...                 Mae West\n",
       "9   “Be the change that you wish to see in the wor...           Mahatma Gandhi\n",
       "10  “In three words I can sum up everything I've l...             Robert Frost\n",
       "11  “If you want to know what a man's like, take a...            J.K. Rowling,\n",
       "12  “Don’t walk in front of me… I may not followDo...             Albert Camus\n",
       "13  “No one can make you feel inferior without you...       Eleanor Roosevelt,\n",
       "14  “Friendship ... is born at the moment when one...              C.S. Lewis,\n",
       "15  “If you tell the truth, you don't have to reme...               Mark Twain\n",
       "16  “I've learned that people will forget what you...             Maya Angelou\n",
       "17  “A friend is someone who knows all about you a...           Elbert Hubbard\n",
       "18  “Always forgive your enemies; nothing annoys t...              Oscar Wilde\n",
       "19  “To live is the rarest thing in the world. Mos...              Oscar Wilde\n",
       "20  “Live as if you were to die tomorrow. Learn as...           Mahatma Gandhi\n",
       "21  “Darkness cannot drive out darkness: only ligh...  Martin Luther King Jr.,\n",
       "22  “I am so clever that sometimes I don't underst...             Oscar Wilde,\n",
       "23          “Without music, life would be a mistake.”     Friedrich Nietzsche,\n",
       "24          “We accept the love we think we deserve.”         Stephen Chbosky,\n",
       "25  “To be yourself in a world that is constantly ...      Ralph Waldo Emerson\n",
       "26  “Here's to the crazy ones. The misfits. The re...             Rob Siltanen\n",
       "27  “Insanity is doing the same thing, over and ov...      Narcotics Anonymous\n",
       "28  “I believe that everything happens for a reaso...           Marilyn Monroe\n",
       "29  “Twenty years from now you will be more disapp...    H. Jackson Brown Jr.,"
      ]
     },
     "execution_count": 64,
     "metadata": {},
     "output_type": "execute_result"
    }
   ],
   "source": [
    "pd.DataFrame(cont,columns=[\"quote\",\"author\"])"
   ]
  },
  {
   "cell_type": "code",
   "execution_count": null,
   "metadata": {},
   "outputs": [],
   "source": []
  }
 ],
 "metadata": {
  "kernelspec": {
   "display_name": "Python 3",
   "language": "python",
   "name": "python3"
  },
  "language_info": {
   "codemirror_mode": {
    "name": "ipython",
    "version": 3
   },
   "file_extension": ".py",
   "mimetype": "text/x-python",
   "name": "python",
   "nbconvert_exporter": "python",
   "pygments_lexer": "ipython3",
   "version": "3.6.10"
  }
 },
 "nbformat": 4,
 "nbformat_minor": 4
}
