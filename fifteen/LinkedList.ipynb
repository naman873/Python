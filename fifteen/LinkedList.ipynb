{
 "cells": [
  {
   "cell_type": "code",
   "execution_count": 1,
   "metadata": {},
   "outputs": [],
   "source": [
    "class Node:\n",
    "    def  __init__(self,value,nxt=None):\n",
    "        self.value=value\n",
    "        self.next=nxt"
   ]
  },
  {
   "cell_type": "code",
   "execution_count": 2,
   "metadata": {},
   "outputs": [],
   "source": [
    "class LinkedList:\n",
    "    def __init__(self):\n",
    "        self.head=None\n",
    "        self.tail=None\n",
    "        self.size=0\n",
    "        \n",
    "    def insertFirst(self,value):\n",
    "        node=Node(value,self.head)\n",
    "        self.head=node\n",
    "        \n",
    "        if self.tail==None:\n",
    "            self.tail=self.head\n",
    "            \n",
    "        self.size+=1\n",
    "        \n",
    "    def insertLast(self,value):\n",
    "        if self.size==0:\n",
    "            self.insertFirst(value)\n",
    "            return\n",
    "        \n",
    "        node=Node(value)\n",
    "        self.tail.next=node\n",
    "        self.tail=node\n",
    "        \n",
    "        self.size+=1\n",
    "        \n",
    "    def deleteFirst(self):\n",
    "        if self.size ==0:\n",
    "            print(\"list is empty\")\n",
    "            return \n",
    "\n",
    "        temp=self.head\n",
    "        self.head=temp.next\n",
    "        \n",
    "        if self.head==None:\n",
    "            self.tail=None\n",
    "        \n",
    "        self.size-=1\n",
    "        return temp.value\n",
    "      \n",
    "        \n",
    "        \n",
    "    def deleteLast(self):\n",
    "        if self.size <=1:\n",
    "              return self.deleteFirst()\n",
    "         \n",
    "        second_last=self.head\n",
    "        while second_last.next.next!=None:\n",
    "            second_last=second_last.next\n",
    "            \n",
    "        value=self.tail.value\n",
    "        self.tail=second_last\n",
    "        self.tail.next=None\n",
    "        \n",
    "        self.size-=1\n",
    "        return value\n",
    "    \n",
    "    def index(self,index,value):\n",
    "        \n",
    "        if index==0:\n",
    "            self.insertFirst(value)\n",
    "            return\n",
    "       \n",
    "        if index ==self.size:\n",
    "            self.insertLast(value)\n",
    "        \n",
    "        \n",
    "        prev=self.__seek(index-1)\n",
    "        \n",
    "        node=Node(value)\n",
    "        node.next=prev.next\n",
    "        prev.next=node\n",
    "        self.size+=1\n",
    "        \n",
    "    def __seek(self,index):       \n",
    "        node=self.head\n",
    "        for i in range(index-1):\n",
    "            node=node.next\n",
    "        return node\n",
    "    \n",
    "    def delete(self,index):\n",
    "        if index==0:\n",
    "            self.deleteFirst()\n",
    "            return\n",
    "        \n",
    "        if index==self.size:\n",
    "            self.deleteLast()\n",
    "            return\n",
    "        \n",
    "        prev=self.__seek(index-2)\n",
    "        temp=prev.next.value\n",
    "        prev.next=prev.next.next\n",
    "        self.size-=1\n",
    "        return temp\n",
    "        \n",
    "    def reverse_list(self):\n",
    "        temp=self.tail\n",
    "        \n",
    "        \n",
    "        \n",
    "    def __repr__(self):\n",
    "        temp=self.head\n",
    "        \n",
    "        anw=\"\"\n",
    "        while temp!=None:\n",
    "            anw=anw+str(temp.value)+\"->\"\n",
    "            temp=temp.next\n",
    "        return anw    "
   ]
  },
  {
   "cell_type": "code",
   "execution_count": 3,
   "metadata": {},
   "outputs": [],
   "source": [
    "ll=LinkedList()\n",
    "\n",
    "ll.insertFirst(\"mohini\")\n",
    "\n",
    "ll.insertLast(\"last\")\n",
    "\n",
    "ll.insertFirst(\"mohan\")"
   ]
  },
  {
   "cell_type": "code",
   "execution_count": 4,
   "metadata": {},
   "outputs": [
    {
     "data": {
      "text/plain": [
       "mohan->mohini->last->"
      ]
     },
     "execution_count": 4,
     "metadata": {},
     "output_type": "execute_result"
    }
   ],
   "source": [
    "ll"
   ]
  },
  {
   "cell_type": "code",
   "execution_count": 5,
   "metadata": {},
   "outputs": [
    {
     "data": {
      "text/plain": [
       "mohan->mohini->last->"
      ]
     },
     "execution_count": 5,
     "metadata": {},
     "output_type": "execute_result"
    }
   ],
   "source": [
    "ll"
   ]
  },
  {
   "cell_type": "code",
   "execution_count": 6,
   "metadata": {},
   "outputs": [],
   "source": [
    "ll.index(2,\"naman\")"
   ]
  },
  {
   "cell_type": "code",
   "execution_count": 7,
   "metadata": {},
   "outputs": [
    {
     "data": {
      "text/plain": [
       "mohan->naman->mohini->last->"
      ]
     },
     "execution_count": 7,
     "metadata": {},
     "output_type": "execute_result"
    }
   ],
   "source": [
    "ll"
   ]
  },
  {
   "cell_type": "code",
   "execution_count": 8,
   "metadata": {},
   "outputs": [
    {
     "data": {
      "text/plain": [
       "'naman'"
      ]
     },
     "execution_count": 8,
     "metadata": {},
     "output_type": "execute_result"
    }
   ],
   "source": [
    "ll.delete(1)"
   ]
  },
  {
   "cell_type": "code",
   "execution_count": 9,
   "metadata": {},
   "outputs": [
    {
     "data": {
      "text/plain": [
       "mohan->mohini->last->"
      ]
     },
     "execution_count": 9,
     "metadata": {},
     "output_type": "execute_result"
    }
   ],
   "source": [
    "ll"
   ]
  },
  {
   "cell_type": "code",
   "execution_count": 10,
   "metadata": {},
   "outputs": [
    {
     "data": {
      "text/plain": [
       "'mohini'"
      ]
     },
     "execution_count": 10,
     "metadata": {},
     "output_type": "execute_result"
    }
   ],
   "source": [
    "ll.delete(1)"
   ]
  },
  {
   "cell_type": "code",
   "execution_count": null,
   "metadata": {},
   "outputs": [],
   "source": []
  }
 ],
 "metadata": {
  "kernelspec": {
   "display_name": "Python 3",
   "language": "python",
   "name": "python3"
  },
  "language_info": {
   "codemirror_mode": {
    "name": "ipython",
    "version": 3
   },
   "file_extension": ".py",
   "mimetype": "text/x-python",
   "name": "python",
   "nbconvert_exporter": "python",
   "pygments_lexer": "ipython3",
   "version": "3.6.10"
  }
 },
 "nbformat": 4,
 "nbformat_minor": 4
}
