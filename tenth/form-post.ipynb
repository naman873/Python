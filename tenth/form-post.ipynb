{
 "cells": [
  {
   "cell_type": "code",
   "execution_count": null,
   "metadata": {},
   "outputs": [
    {
     "name": "stdout",
     "output_type": "stream",
     "text": [
      " * Serving Flask app \"this-is-a-name\" (lazy loading)\n",
      " * Environment: production\n",
      "   WARNING: This is a development server. Do not use it in a production deployment.\n",
      "   Use a production WSGI server instead.\n",
      " * Debug mode: off\n"
     ]
    },
    {
     "name": "stderr",
     "output_type": "stream",
     "text": [
      " * Running on http://127.0.0.1:5000/ (Press CTRL+C to quit)\n",
      "127.0.0.1 - - [10/May/2020 15:39:21] \"\u001b[37mGET /form/ HTTP/1.1\u001b[0m\" 200 -\n",
      "127.0.0.1 - - [10/May/2020 15:39:25] \"\u001b[32mPOST /submit HTTP/1.1\u001b[0m\" 301 -\n",
      "127.0.0.1 - - [10/May/2020 15:39:25] \"\u001b[37mGET /submit/ HTTP/1.1\u001b[0m\" 200 -\n"
     ]
    }
   ],
   "source": [
    "\n",
    "\n",
    "from flask import Flask,request,templating\n",
    "\n",
    "\n",
    "app=Flask(\"this-is-a-name\")\n",
    "\n",
    "@app.route(\"/submit/\", methods=[\"POST\",\"GET\",])\n",
    "def submit():\n",
    "    \n",
    "    fname=request.args.get(\"firstname\")\n",
    "    lname=request.args.get(\"lastname\")\n",
    "    \n",
    "    return \"first name is {} last name is {} \".format(fname,lname)\n",
    "\n",
    "@app.route(\"/form/\")\n",
    "def form():\n",
    "    return templating.render_template(\"sample_post.template\")\n",
    "\n",
    "app.run()\n"
   ]
  },
  {
   "cell_type": "code",
   "execution_count": null,
   "metadata": {},
   "outputs": [],
   "source": []
  },
  {
   "cell_type": "code",
   "execution_count": null,
   "metadata": {},
   "outputs": [],
   "source": []
  },
  {
   "cell_type": "code",
   "execution_count": null,
   "metadata": {},
   "outputs": [],
   "source": []
  },
  {
   "cell_type": "code",
   "execution_count": null,
   "metadata": {},
   "outputs": [],
   "source": [
    "## form"
   ]
  },
  {
   "cell_type": "code",
   "execution_count": null,
   "metadata": {},
   "outputs": [],
   "source": []
  },
  {
   "cell_type": "code",
   "execution_count": null,
   "metadata": {},
   "outputs": [],
   "source": []
  }
 ],
 "metadata": {
  "kernelspec": {
   "display_name": "Python 3",
   "language": "python",
   "name": "python3"
  },
  "language_info": {
   "codemirror_mode": {
    "name": "ipython",
    "version": 3
   },
   "file_extension": ".py",
   "mimetype": "text/x-python",
   "name": "python",
   "nbconvert_exporter": "python",
   "pygments_lexer": "ipython3",
   "version": "3.6.10"
  }
 },
 "nbformat": 4,
 "nbformat_minor": 4
}
