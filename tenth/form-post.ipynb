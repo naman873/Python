{
 "cells": [
  {
   "cell_type": "code",
   "execution_count": null,
   "metadata": {},
   "outputs": [
    {
     "name": "stdout",
     "output_type": "stream",
     "text": [
      " * Serving Flask app \"this-is-a-name\" (lazy loading)\n",
      " * Environment: production\n",
      "   WARNING: This is a development server. Do not use it in a production deployment.\n",
      "   Use a production WSGI server instead.\n",
      " * Debug mode: off\n"
     ]
    },
    {
     "name": "stderr",
     "output_type": "stream",
     "text": [
      " * Running on http://127.0.0.1:5000/ (Press CTRL+C to quit)\n",
      "127.0.0.1 - - [06/Feb/2020 13:16:39] \"GET /form/ HTTP/1.1\" 200 -\n",
      "127.0.0.1 - - [06/Feb/2020 13:16:39] \"GET /form/ HTTP/1.1\" 200 -\n",
      "127.0.0.1 - - [06/Feb/2020 13:16:40] \"POST /submit HTTP/1.1\" 308 -\n",
      "127.0.0.1 - - [06/Feb/2020 13:16:40] \"POST /submit/ HTTP/1.1\" 200 -\n"
     ]
    }
   ],
   "source": [
    "\n",
    "\n",
    "from flask import Flask,request,templating\n",
    "\n",
    "\n",
    "app=Flask(\"this-is-a-name\")\n",
    "\n",
    "@app.route(\"/submit/\" , methods=[\"post\", \"get\"])\n",
    "def submit():\n",
    "        fname=request.form.get(\"firstname\")\n",
    "        lname=request.form.get(\"lastname\")\n",
    "        fullname=fname+lname\n",
    "        return \"My firstname is {} and lastname is {}  and full name is {} \".format(fname,lname,fullname)\n",
    "@app.route(\"/form/\")\n",
    "def form():\n",
    "    return templating.render_template(\"sample1.template\")\n",
    "\n",
    "app.run()\n"
   ]
  },
  {
   "cell_type": "code",
   "execution_count": null,
   "metadata": {},
   "outputs": [],
   "source": []
  },
  {
   "cell_type": "code",
   "execution_count": null,
   "metadata": {},
   "outputs": [],
   "source": []
  },
  {
   "cell_type": "code",
   "execution_count": null,
   "metadata": {},
   "outputs": [],
   "source": []
  },
  {
   "cell_type": "code",
   "execution_count": null,
   "metadata": {},
   "outputs": [],
   "source": [
    "## form"
   ]
  },
  {
   "cell_type": "code",
   "execution_count": null,
   "metadata": {},
   "outputs": [],
   "source": []
  },
  {
   "cell_type": "code",
   "execution_count": null,
   "metadata": {},
   "outputs": [],
   "source": []
  }
 ],
 "metadata": {
  "kernelspec": {
   "display_name": "Python 3",
   "language": "python",
   "name": "python3"
  },
  "language_info": {
   "codemirror_mode": {
    "name": "ipython",
    "version": 3
   },
   "file_extension": ".py",
   "mimetype": "text/x-python",
   "name": "python",
   "nbconvert_exporter": "python",
   "pygments_lexer": "ipython3",
   "version": "3.7.4"
  }
 },
 "nbformat": 4,
 "nbformat_minor": 4
}
