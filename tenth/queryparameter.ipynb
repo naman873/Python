{
 "cells": [
  {
   "cell_type": "code",
   "execution_count": 1,
   "metadata": {},
   "outputs": [],
   "source": [
    "\n",
    "      #  from flask import Flask,request\n",
    "\n",
    "      #  app=Flask(\"this-is-a-name\")\n",
    "\n",
    "       # @app.route(\"/\")\n",
    "      #  def something():\n",
    "        #    return \"yes it is something\"\n",
    "\n",
    "\n",
    "      #  @app.route(\"/bro/\")\n",
    "       # def search():\n",
    "        #    return \"yes are searching for  \" + request.args.get('q')\n",
    "\n",
    "        #app.run()\n"
   ]
  },
  {
   "cell_type": "code",
   "execution_count": 2,
   "metadata": {},
   "outputs": [],
   "source": [
    "#### Query parameter and Path parameter"
   ]
  },
  {
   "cell_type": "markdown",
   "metadata": {},
   "source": [
    "google.com/?q={}     ######query parameter   eg-->http://127.0.0.1:5000/bro/?q={naman}\n",
    "\n",
    "\n",
    "google.com/jason   ###path parameter"
   ]
  },
  {
   "cell_type": "code",
   "execution_count": null,
   "metadata": {},
   "outputs": [
    {
     "name": "stdout",
     "output_type": "stream",
     "text": [
      " * Serving Flask app \"this-is-a-name\" (lazy loading)\n",
      " * Environment: production\n",
      "   WARNING: This is a development server. Do not use it in a production deployment.\n",
      "   Use a production WSGI server instead.\n",
      " * Debug mode: off\n"
     ]
    },
    {
     "name": "stderr",
     "output_type": "stream",
     "text": [
      " * Running on http://127.0.0.1:5000/ (Press CTRL+C to quit)\n",
      "127.0.0.1 - - [10/May/2020 14:34:05] \"\u001b[33mGET / HTTP/1.1\u001b[0m\" 404 -\n",
      "127.0.0.1 - - [10/May/2020 14:34:07] \"\u001b[33mGET /favicon.ico HTTP/1.1\u001b[0m\" 404 -\n",
      "127.0.0.1 - - [10/May/2020 14:34:20] \"\u001b[33mGET /bro/ HTTP/1.1\u001b[0m\" 404 -\n",
      "127.0.0.1 - - [10/May/2020 14:34:41] \"\u001b[37mGET /bro HTTP/1.1\u001b[0m\" 200 -\n",
      "127.0.0.1 - - [10/May/2020 14:34:53] \"\u001b[32mGET /search HTTP/1.1\u001b[0m\" 301 -\n",
      "[2020-05-10 14:34:53,384] ERROR in app: Exception on /search/ [GET]\n",
      "Traceback (most recent call last):\n",
      "  File \"C:\\Users\\Naman\\Anaconda3\\envs\\tensor\\lib\\site-packages\\flask\\app.py\", line 2311, in wsgi_app\n",
      "    response = self.full_dispatch_request()\n",
      "  File \"C:\\Users\\Naman\\Anaconda3\\envs\\tensor\\lib\\site-packages\\flask\\app.py\", line 1834, in full_dispatch_request\n",
      "    rv = self.handle_user_exception(e)\n",
      "  File \"C:\\Users\\Naman\\Anaconda3\\envs\\tensor\\lib\\site-packages\\flask\\app.py\", line 1737, in handle_user_exception\n",
      "    reraise(exc_type, exc_value, tb)\n",
      "  File \"C:\\Users\\Naman\\Anaconda3\\envs\\tensor\\lib\\site-packages\\flask\\_compat.py\", line 36, in reraise\n",
      "    raise value\n",
      "  File \"C:\\Users\\Naman\\Anaconda3\\envs\\tensor\\lib\\site-packages\\flask\\app.py\", line 1832, in full_dispatch_request\n",
      "    rv = self.dispatch_request()\n",
      "  File \"C:\\Users\\Naman\\Anaconda3\\envs\\tensor\\lib\\site-packages\\flask\\app.py\", line 1818, in dispatch_request\n",
      "    return self.view_functions[rule.endpoint](**req.view_args)\n",
      "  File \"<ipython-input-3-2cc0560d9b6f>\", line 15, in search\n",
      "    return \"yes are searching for {} {} \".format(name,d[name])\n",
      "KeyError: None\n",
      "127.0.0.1 - - [10/May/2020 14:34:53] \"\u001b[1m\u001b[35mGET /search/ HTTP/1.1\u001b[0m\" 500 -\n",
      "127.0.0.1 - - [10/May/2020 14:35:10] \"\u001b[33mGET /search/jason HTTP/1.1\u001b[0m\" 404 -\n",
      "127.0.0.1 - - [10/May/2020 14:35:19] \"\u001b[33mGET /search/jason/name=%7Bnaman%7D HTTP/1.1\u001b[0m\" 404 -\n"
     ]
    }
   ],
   "source": [
    "from flask import Flask,request\n",
    "\n",
    "app=Flask(\"this-is-a-name\")\n",
    "\n",
    "d={\"naman\":\"my name is naman\"\n",
    "  }\n",
    "@app.route(\"/bro\")\n",
    "def something():\n",
    "    return \"yes it is something\"\n",
    "\n",
    "\n",
    "@app.route(\"/search/\")\n",
    "def search():\n",
    "    name=request.args.get(\"name\")\n",
    "    return \"yes are searching for {} {} \".format(name,d[name])\n",
    "\n",
    "app.run()\n"
   ]
  },
  {
   "cell_type": "code",
   "execution_count": null,
   "metadata": {},
   "outputs": [],
   "source": []
  },
  {
   "cell_type": "code",
   "execution_count": null,
   "metadata": {},
   "outputs": [],
   "source": []
  },
  {
   "cell_type": "code",
   "execution_count": null,
   "metadata": {},
   "outputs": [],
   "source": []
  },
  {
   "cell_type": "code",
   "execution_count": null,
   "metadata": {},
   "outputs": [],
   "source": [
    "## form"
   ]
  },
  {
   "cell_type": "code",
   "execution_count": null,
   "metadata": {},
   "outputs": [],
   "source": []
  },
  {
   "cell_type": "code",
   "execution_count": null,
   "metadata": {},
   "outputs": [],
   "source": []
  }
 ],
 "metadata": {
  "kernelspec": {
   "display_name": "Python 3",
   "language": "python",
   "name": "python3"
  },
  "language_info": {
   "codemirror_mode": {
    "name": "ipython",
    "version": 3
   },
   "file_extension": ".py",
   "mimetype": "text/x-python",
   "name": "python",
   "nbconvert_exporter": "python",
   "pygments_lexer": "ipython3",
   "version": "3.6.10"
  }
 },
 "nbformat": 4,
 "nbformat_minor": 4
}
