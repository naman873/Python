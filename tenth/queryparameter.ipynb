{
 "cells": [
  {
   "cell_type": "code",
   "execution_count": 1,
   "metadata": {},
   "outputs": [],
   "source": [
    "\n",
    "      #  from flask import Flask,request\n",
    "\n",
    "      #  app=Flask(\"this-is-a-name\")\n",
    "\n",
    "       # @app.route(\"/bro\")\n",
    "      #  def something():\n",
    "        #    return \"yes it is something\"\n",
    "\n",
    "\n",
    "      #  @app.route(\"/search/\")\n",
    "       # def search():\n",
    "        #    return \"yes are searching for  \" + request.args.get('q')\n",
    "\n",
    "        #app.run()\n"
   ]
  },
  {
   "cell_type": "code",
   "execution_count": 2,
   "metadata": {},
   "outputs": [],
   "source": [
    "#### Query parameter and Path parameter"
   ]
  },
  {
   "cell_type": "markdown",
   "metadata": {},
   "source": [
    "google.com/?a={}  ######query parameter\n",
    "\n",
    "\n",
    "google.com/jason   ###path parameter"
   ]
  },
  {
   "cell_type": "code",
   "execution_count": null,
   "metadata": {},
   "outputs": [
    {
     "name": "stdout",
     "output_type": "stream",
     "text": [
      " * Serving Flask app \"this-is-a-name\" (lazy loading)\n",
      " * Environment: production\n",
      "   WARNING: This is a development server. Do not use it in a production deployment.\n",
      "   Use a production WSGI server instead.\n",
      " * Debug mode: off\n"
     ]
    },
    {
     "name": "stderr",
     "output_type": "stream",
     "text": [
      " * Running on http://127.0.0.1:5000/ (Press CTRL+C to quit)\n",
      "127.0.0.1 - - [06/Feb/2020 12:22:28] \"GET /search/?name=naman HTTP/1.1\" 200 -\n",
      "[2020-02-06 12:22:46,389] ERROR in app: Exception on /search/ [GET]\n",
      "Traceback (most recent call last):\n",
      "  File \"C:\\Users\\Naman\\Anaconda3\\lib\\site-packages\\flask\\app.py\", line 2446, in wsgi_app\n",
      "    response = self.full_dispatch_request()\n",
      "  File \"C:\\Users\\Naman\\Anaconda3\\lib\\site-packages\\flask\\app.py\", line 1951, in full_dispatch_request\n",
      "    rv = self.handle_user_exception(e)\n",
      "  File \"C:\\Users\\Naman\\Anaconda3\\lib\\site-packages\\flask\\app.py\", line 1820, in handle_user_exception\n",
      "    reraise(exc_type, exc_value, tb)\n",
      "  File \"C:\\Users\\Naman\\Anaconda3\\lib\\site-packages\\flask\\_compat.py\", line 39, in reraise\n",
      "    raise value\n",
      "  File \"C:\\Users\\Naman\\Anaconda3\\lib\\site-packages\\flask\\app.py\", line 1949, in full_dispatch_request\n",
      "    rv = self.dispatch_request()\n",
      "  File \"C:\\Users\\Naman\\Anaconda3\\lib\\site-packages\\flask\\app.py\", line 1935, in dispatch_request\n",
      "    return self.view_functions[rule.endpoint](**req.view_args)\n",
      "  File \"<ipython-input-3-2cc0560d9b6f>\", line 15, in search\n",
      "    return \"yes are searching for {} {} \".format(name,d[name])\n",
      "KeyError: None\n",
      "127.0.0.1 - - [06/Feb/2020 12:22:46] \"GET /search/?Name=naman HTTP/1.1\" 500 -\n",
      "127.0.0.1 - - [06/Feb/2020 12:22:53] \"GET /search/?name=naman HTTP/1.1\" 200 -\n"
     ]
    }
   ],
   "source": [
    "from flask import Flask,request\n",
    "\n",
    "app=Flask(\"this-is-a-name\")\n",
    "\n",
    "d={\"naman\":\"my name is naman\"\n",
    "  }\n",
    "@app.route(\"/bro\")\n",
    "def something():\n",
    "    return \"yes it is something\"\n",
    "\n",
    "\n",
    "@app.route(\"/search/\")\n",
    "def search():\n",
    "    name=request.args.get(\"name\")\n",
    "    return \"yes are searching for {} {} \".format(name,d[name])\n",
    "\n",
    "app.run()\n"
   ]
  },
  {
   "cell_type": "code",
   "execution_count": null,
   "metadata": {},
   "outputs": [],
   "source": []
  },
  {
   "cell_type": "code",
   "execution_count": null,
   "metadata": {},
   "outputs": [],
   "source": []
  },
  {
   "cell_type": "code",
   "execution_count": null,
   "metadata": {},
   "outputs": [],
   "source": []
  },
  {
   "cell_type": "code",
   "execution_count": null,
   "metadata": {},
   "outputs": [],
   "source": [
    "## form"
   ]
  },
  {
   "cell_type": "code",
   "execution_count": null,
   "metadata": {},
   "outputs": [],
   "source": []
  },
  {
   "cell_type": "code",
   "execution_count": null,
   "metadata": {},
   "outputs": [],
   "source": []
  }
 ],
 "metadata": {
  "kernelspec": {
   "display_name": "Python 3",
   "language": "python",
   "name": "python3"
  },
  "language_info": {
   "codemirror_mode": {
    "name": "ipython",
    "version": 3
   },
   "file_extension": ".py",
   "mimetype": "text/x-python",
   "name": "python",
   "nbconvert_exporter": "python",
   "pygments_lexer": "ipython3",
   "version": "3.7.4"
  }
 },
 "nbformat": 4,
 "nbformat_minor": 4
}
