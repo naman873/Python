{
 "cells": [
  {
   "cell_type": "code",
   "execution_count": 1,
   "metadata": {},
   "outputs": [],
   "source": [
    "import numpy as np"
   ]
  },
  {
   "cell_type": "code",
   "execution_count": null,
   "metadata": {},
   "outputs": [],
   "source": []
  },
  {
   "cell_type": "code",
   "execution_count": 78,
   "metadata": {},
   "outputs": [],
   "source": [
    "class coutom:\n",
    "    \n",
    "    def __init__(self):\n",
    "        self.end=0\n",
    "        self.data=np.zeros((10,),dtype=np.int)\n",
    "        \n",
    "    def isFull(self):\n",
    "        return len(self.data)-1==self.end\n",
    "    \n",
    "    def isempty(self):\n",
    "        return self.end==0\n",
    "        \n",
    "    def push(self,val):\n",
    "        if not self.isFull():\n",
    "            self.data[self.end]=val\n",
    "            self.end+=1\n",
    "        else:\n",
    "            print(\"Queue is full\")\n",
    "            \n",
    "    def pop(self):\n",
    "        if not self.isempty():\n",
    "            temp=self.data[0]\n",
    "            for i in range(len(self.data)-1):\n",
    "                self.data[i]=self.data[i+1]\n",
    "            self.end-=1\n",
    "            return temp\n",
    "        \n",
    "        else:\n",
    "            print(\"Queue is empty\")\n",
    "    \n",
    "    def __repr__(self):\n",
    "        return  \"\".join(str(self.data[:self.end]))"
   ]
  },
  {
   "cell_type": "code",
   "execution_count": 79,
   "metadata": {},
   "outputs": [],
   "source": [
    "a=coutom()"
   ]
  },
  {
   "cell_type": "code",
   "execution_count": 80,
   "metadata": {},
   "outputs": [],
   "source": [
    "for i in range(9):\n",
    "    a.push(i)"
   ]
  },
  {
   "cell_type": "code",
   "execution_count": 81,
   "metadata": {},
   "outputs": [
    {
     "data": {
      "text/plain": [
       "[0 1 2 3 4 5 6 7 8]"
      ]
     },
     "execution_count": 81,
     "metadata": {},
     "output_type": "execute_result"
    }
   ],
   "source": [
    "a"
   ]
  },
  {
   "cell_type": "code",
   "execution_count": 94,
   "metadata": {},
   "outputs": [
    {
     "name": "stdout",
     "output_type": "stream",
     "text": [
      "Queue is empty\n"
     ]
    }
   ],
   "source": [
    "a.pop()"
   ]
  },
  {
   "cell_type": "code",
   "execution_count": 83,
   "metadata": {},
   "outputs": [],
   "source": [
    "a.push(99)"
   ]
  },
  {
   "cell_type": "code",
   "execution_count": 84,
   "metadata": {},
   "outputs": [
    {
     "data": {
      "text/plain": [
       "[ 1  2  3  4  5  6  7  8 99]"
      ]
     },
     "execution_count": 84,
     "metadata": {},
     "output_type": "execute_result"
    }
   ],
   "source": [
    "a"
   ]
  },
  {
   "cell_type": "code",
   "execution_count": null,
   "metadata": {},
   "outputs": [],
   "source": []
  },
  {
   "cell_type": "code",
   "execution_count": 208,
   "metadata": {},
   "outputs": [],
   "source": [
    "class CiruclarQueue:\n",
    "    def __init__(self):\n",
    "        self.data=np.zeros((10,),dtype=np.int)\n",
    "        self.top=0\n",
    "        self.end=0\n",
    "        self.size=0\n",
    "        \n",
    "    def isFull(self):\n",
    "        return len(self.data)==self.size\n",
    "    \n",
    "    def isempty(self):\n",
    "        return self.size==0\n",
    "        \n",
    "    def push(self,val):\n",
    "        if not self.isFull():\n",
    "            self.data[self.end]=val\n",
    "            self.end+=1\n",
    "            self.end=self.end % len(self.data)\n",
    "            self.size+=1\n",
    "        \n",
    "        else:\n",
    "            print(\"Queue is full\")\n",
    "      \n",
    "    \n",
    "    def pop(self):\n",
    "        if not self.isempty():\n",
    "            removed=self.data[self.top]\n",
    "            self.top+=1\n",
    "            self.top=self.top % len(self.data)\n",
    "            self.size-=1\n",
    "            return removed\n",
    "            \n",
    "        else:\n",
    "            print(\"Queue is empty\")\n",
    "            \n",
    "    def __repr__(self):\n",
    "            if self.top< self.end:\n",
    "                cut=(self.data[self.top:self.end])\n",
    "            else:\n",
    "                cut1=self.data[self.top:]\n",
    "                cut2=self.data[0:self.end]\n",
    "                cut= np.concatenate((cut1,cut2))\n",
    "            return f'[{\",\".join(map(str,cut))}]'"
   ]
  },
  {
   "cell_type": "code",
   "execution_count": 209,
   "metadata": {},
   "outputs": [],
   "source": [
    "a=CiruclarQueue()"
   ]
  },
  {
   "cell_type": "code",
   "execution_count": 210,
   "metadata": {},
   "outputs": [],
   "source": [
    "for i in range(9):\n",
    "    a.push(i)"
   ]
  },
  {
   "cell_type": "code",
   "execution_count": 218,
   "metadata": {},
   "outputs": [
    {
     "data": {
      "text/plain": [
       "[2,3,4,5,6,7,8,99,99,99]"
      ]
     },
     "execution_count": 218,
     "metadata": {},
     "output_type": "execute_result"
    }
   ],
   "source": [
    "a"
   ]
  },
  {
   "cell_type": "code",
   "execution_count": 215,
   "metadata": {},
   "outputs": [
    {
     "data": {
      "text/plain": [
       "1"
      ]
     },
     "execution_count": 215,
     "metadata": {},
     "output_type": "execute_result"
    }
   ],
   "source": [
    "a.pop()"
   ]
  },
  {
   "cell_type": "code",
   "execution_count": 217,
   "metadata": {},
   "outputs": [
    {
     "name": "stdout",
     "output_type": "stream",
     "text": [
      "Queue is full\n"
     ]
    }
   ],
   "source": [
    "a.push(99)"
   ]
  },
  {
   "cell_type": "code",
   "execution_count": null,
   "metadata": {},
   "outputs": [],
   "source": []
  },
  {
   "cell_type": "code",
   "execution_count": null,
   "metadata": {},
   "outputs": [],
   "source": []
  }
 ],
 "metadata": {
  "kernelspec": {
   "display_name": "Python 3",
   "language": "python",
   "name": "python3"
  },
  "language_info": {
   "codemirror_mode": {
    "name": "ipython",
    "version": 3
   },
   "file_extension": ".py",
   "mimetype": "text/x-python",
   "name": "python",
   "nbconvert_exporter": "python",
   "pygments_lexer": "ipython3",
   "version": "3.7.6"
  }
 },
 "nbformat": 4,
 "nbformat_minor": 4
}
