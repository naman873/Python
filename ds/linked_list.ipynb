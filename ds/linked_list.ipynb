{
 "cells": [
  {
   "cell_type": "code",
   "execution_count": 2,
   "metadata": {},
   "outputs": [],
   "source": [
    "import numpy as np"
   ]
  },
  {
   "cell_type": "code",
   "execution_count": null,
   "metadata": {},
   "outputs": [],
   "source": []
  },
  {
   "cell_type": "code",
   "execution_count": 6,
   "metadata": {},
   "outputs": [],
   "source": [
    "class Node:\n",
    "    \n",
    "    def __init__(self,value,nxt=None):\n",
    "        self.value=value\n",
    "        self.nxt=nxt"
   ]
  },
  {
   "cell_type": "code",
   "execution_count": 133,
   "metadata": {},
   "outputs": [],
   "source": [
    "class coustom:\n",
    "    \n",
    "    def __init__(self):\n",
    "        self.head=None\n",
    "        self.tail=None\n",
    "        self.size=0\n",
    "        \n",
    "    def add_first(self,value):\n",
    "  \n",
    "        node=Node(value,self.head)\n",
    "        self.head=node\n",
    "                 \n",
    "        if self.tail==None:\n",
    "            self.tail=self.head\n",
    "            \n",
    "        self.size+=1\n",
    "    \n",
    "    #def del_last(self):\n",
    "    def add_last(self,value):\n",
    "        if self.size==0:\n",
    "            self.add_first(value)\n",
    "            return\n",
    "    \n",
    "        node=Node(value)\n",
    "        self.tail.nxt=node\n",
    "        self.tail=node\n",
    "        self.size+=1\n",
    "            \n",
    "    def delete_first(self):\n",
    "        if self.size ==0:\n",
    "            print(\"list is empty\")\n",
    "            return\n",
    "        \n",
    "        temp=self.head.value\n",
    "        self.head=self.head.nxt\n",
    "        \n",
    "        if self.head==None:\n",
    "            self.tail=None\n",
    "        \n",
    "        self.size-=1\n",
    "        return temp\n",
    "    \n",
    "    def delete_last(self):\n",
    "        if self.size<=1:\n",
    "            return self.delete_first()\n",
    "            \n",
    "        \n",
    "        second_last=self.head\n",
    "        while second_last.nxt.nxt!=None:\n",
    "            second_last=second_last.nxt\n",
    "       \n",
    "        temp=self.tail.value\n",
    "        tail=second_last\n",
    "        tail.nxt=None\n",
    "        self.size-=1\n",
    "        \n",
    "        return temp\n",
    "    def __repr__(self):\n",
    "        temp=self.head\n",
    "        \n",
    "        ans=\"\"\n",
    "        while temp!=None:\n",
    "            ans=ans+ str(temp.value) +\"-->\"\n",
    "            temp=temp.nxt\n",
    "        return ans\n",
    "    \n",
    "    def index_add(self,value,index):\n",
    "        if index==0:\n",
    "            return self.add_first(value)\n",
    "        \n",
    "        if index==self.size:\n",
    "            return self.add_last(value)\n",
    "        \n",
    "        second_last=self.seek(index-1)\n",
    "        \n",
    "        node=Node(value)\n",
    "        node.nxt=second_last.nxt\n",
    "        second_last.nxt=node\n",
    "        \n",
    "        self.size+=1\n",
    "        \n",
    "        \n",
    "    def delete_ind(self,index):\n",
    "        if index==0:\n",
    "            self.deleteFirst()\n",
    "            return\n",
    "        \n",
    "        if index==self.size:\n",
    "            self.deleteLast()\n",
    "            return\n",
    "        \n",
    "        second_last=self.seek(index-1)\n",
    "        temp=second_last.nxt.value\n",
    "        second_last.nxt=second_last.nxt.nxt\n",
    "        self.size-=1\n",
    "        return temp\n",
    "        \n",
    "        \n",
    "    def seek(self,index):\n",
    "        temp=self.head\n",
    "        for i in range(index-1):\n",
    "            temp=temp.nxt\n",
    "        return temp"
   ]
  },
  {
   "cell_type": "code",
   "execution_count": 134,
   "metadata": {},
   "outputs": [],
   "source": [
    "ll=coustom()"
   ]
  },
  {
   "cell_type": "code",
   "execution_count": 135,
   "metadata": {},
   "outputs": [],
   "source": [
    "ll.add_first(\"mohini\")\n",
    "\n",
    "ll.add_last(\"last\")\n",
    "\n",
    "ll.add_first(\"mohan\")"
   ]
  },
  {
   "cell_type": "code",
   "execution_count": 136,
   "metadata": {},
   "outputs": [
    {
     "data": {
      "text/plain": [
       "mohan-->mohini-->last-->"
      ]
     },
     "execution_count": 136,
     "metadata": {},
     "output_type": "execute_result"
    }
   ],
   "source": [
    "ll"
   ]
  },
  {
   "cell_type": "code",
   "execution_count": 137,
   "metadata": {},
   "outputs": [
    {
     "data": {
      "text/plain": [
       "'mohan'"
      ]
     },
     "execution_count": 137,
     "metadata": {},
     "output_type": "execute_result"
    }
   ],
   "source": [
    "ll.delete_first()"
   ]
  },
  {
   "cell_type": "code",
   "execution_count": 138,
   "metadata": {},
   "outputs": [
    {
     "data": {
      "text/plain": [
       "'last'"
      ]
     },
     "execution_count": 138,
     "metadata": {},
     "output_type": "execute_result"
    }
   ],
   "source": [
    "ll.delete_last()"
   ]
  },
  {
   "cell_type": "code",
   "execution_count": 139,
   "metadata": {},
   "outputs": [
    {
     "data": {
      "text/plain": [
       "mohini-->"
      ]
     },
     "execution_count": 139,
     "metadata": {},
     "output_type": "execute_result"
    }
   ],
   "source": [
    "ll"
   ]
  },
  {
   "cell_type": "code",
   "execution_count": 142,
   "metadata": {},
   "outputs": [],
   "source": [
    "ll.index_add(99,1)"
   ]
  },
  {
   "cell_type": "code",
   "execution_count": 143,
   "metadata": {},
   "outputs": [
    {
     "data": {
      "text/plain": [
       "mohini-->99-->"
      ]
     },
     "execution_count": 143,
     "metadata": {},
     "output_type": "execute_result"
    }
   ],
   "source": [
    "ll"
   ]
  },
  {
   "cell_type": "code",
   "execution_count": 144,
   "metadata": {},
   "outputs": [
    {
     "data": {
      "text/plain": [
       "99"
      ]
     },
     "execution_count": 144,
     "metadata": {},
     "output_type": "execute_result"
    }
   ],
   "source": [
    "ll.delete_ind(1)"
   ]
  },
  {
   "cell_type": "code",
   "execution_count": 145,
   "metadata": {},
   "outputs": [
    {
     "data": {
      "text/plain": [
       "mohini-->"
      ]
     },
     "execution_count": 145,
     "metadata": {},
     "output_type": "execute_result"
    }
   ],
   "source": [
    "ll"
   ]
  },
  {
   "cell_type": "code",
   "execution_count": null,
   "metadata": {},
   "outputs": [],
   "source": []
  }
 ],
 "metadata": {
  "kernelspec": {
   "display_name": "Python 3",
   "language": "python",
   "name": "python3"
  },
  "language_info": {
   "codemirror_mode": {
    "name": "ipython",
    "version": 3
   },
   "file_extension": ".py",
   "mimetype": "text/x-python",
   "name": "python",
   "nbconvert_exporter": "python",
   "pygments_lexer": "ipython3",
   "version": "3.7.6"
  }
 },
 "nbformat": 4,
 "nbformat_minor": 4
}
