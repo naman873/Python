{
 "cells": [
  {
   "cell_type": "code",
   "execution_count": 1,
   "metadata": {},
   "outputs": [],
   "source": [
    "import numpy as np"
   ]
  },
  {
   "cell_type": "code",
   "execution_count": null,
   "metadata": {},
   "outputs": [],
   "source": []
  },
  {
   "cell_type": "code",
   "execution_count": 162,
   "metadata": {},
   "outputs": [],
   "source": [
    "class coumtom:\n",
    "    \n",
    "    def __init__(self):\n",
    "        self.top=0\n",
    "        self.data=np.zeros((10,),dtype=np.int)\n",
    "        \n",
    "    def add(self,value):\n",
    "        if self.top==len(self.data):\n",
    "            print(\"stacck is full\")\n",
    "        else:\n",
    "            self.data[self.top]=value\n",
    "            self.top+=1\n",
    "\n",
    "    def pop(self):\n",
    "        self.top-=1\n",
    "        temp=self.data[self.top]\n",
    "        return temp\n",
    "        \n",
    "    def __repr__(self):\n",
    "        return \"\".join(str(self.data[:self.top]))\n",
    "        #return \" \".join(map(str,self.data[:self.top]))"
   ]
  },
  {
   "cell_type": "code",
   "execution_count": 163,
   "metadata": {},
   "outputs": [],
   "source": [
    "a=coumtom()"
   ]
  },
  {
   "cell_type": "code",
   "execution_count": 164,
   "metadata": {},
   "outputs": [
    {
     "name": "stdout",
     "output_type": "stream",
     "text": [
      "stacck is full\n"
     ]
    }
   ],
   "source": [
    "for i in range(11):\n",
    "    a.add(i)"
   ]
  },
  {
   "cell_type": "code",
   "execution_count": 165,
   "metadata": {},
   "outputs": [
    {
     "data": {
      "text/plain": [
       "[0 1 2 3 4 5 6 7 8 9]"
      ]
     },
     "execution_count": 165,
     "metadata": {},
     "output_type": "execute_result"
    }
   ],
   "source": [
    "a"
   ]
  },
  {
   "cell_type": "code",
   "execution_count": 166,
   "metadata": {},
   "outputs": [
    {
     "data": {
      "text/plain": [
       "9"
      ]
     },
     "execution_count": 166,
     "metadata": {},
     "output_type": "execute_result"
    }
   ],
   "source": [
    "a.pop()"
   ]
  },
  {
   "cell_type": "code",
   "execution_count": null,
   "metadata": {},
   "outputs": [],
   "source": []
  },
  {
   "cell_type": "code",
   "execution_count": 177,
   "metadata": {},
   "outputs": [],
   "source": [
    "class dyanmic(coumtom):\n",
    "    \n",
    "    def push(self,value):\n",
    "        bigger=np.zeros(2*len(self.data),dtype=np.int)\n",
    "        for i in range(len(self.data)):\n",
    "            bigger[i]=self.data[i]\n",
    "        \n",
    "        self.data=bigger\n",
    "        \n",
    "        super().add(value)"
   ]
  },
  {
   "cell_type": "code",
   "execution_count": 178,
   "metadata": {},
   "outputs": [],
   "source": [
    "b=dyanmic()\n",
    "for i in range(15):\n",
    "    b.push(i)"
   ]
  },
  {
   "cell_type": "code",
   "execution_count": 180,
   "metadata": {},
   "outputs": [
    {
     "data": {
      "text/plain": [
       "[ 0  1  2  3  4  5  6  7  8  9 10 11 12 13 14]"
      ]
     },
     "execution_count": 180,
     "metadata": {},
     "output_type": "execute_result"
    }
   ],
   "source": [
    "b"
   ]
  },
  {
   "cell_type": "code",
   "execution_count": null,
   "metadata": {},
   "outputs": [],
   "source": []
  }
 ],
 "metadata": {
  "kernelspec": {
   "display_name": "Python 3",
   "language": "python",
   "name": "python3"
  },
  "language_info": {
   "codemirror_mode": {
    "name": "ipython",
    "version": 3
   },
   "file_extension": ".py",
   "mimetype": "text/x-python",
   "name": "python",
   "nbconvert_exporter": "python",
   "pygments_lexer": "ipython3",
   "version": "3.7.6"
  }
 },
 "nbformat": 4,
 "nbformat_minor": 4
}
