{
 "cells": [
  {
   "cell_type": "code",
   "execution_count": 33,
   "metadata": {},
   "outputs": [],
   "source": [
    "class Engine:\n",
    "    \n",
    "    def __init__(self):\n",
    "        self.__cycle=5\n",
    "        self.__active=False\n",
    "        \n",
    "    def start(self):\n",
    "        \n",
    "        if self.__active:\n",
    "        print(\"Start like generic engine\")\n",
    "    \n",
    "    def stop(self):\n",
    "        print(\"Stop like generic engine\")"
   ]
  },
  {
   "cell_type": "code",
   "execution_count": 34,
   "metadata": {},
   "outputs": [],
   "source": [
    "class Steering:\n",
    "    \n",
    "    def left(self):\n",
    "        print(\"Turn left like generic steering\")\n",
    "     \n",
    "    def right(self):\n",
    "        print(\"Turn right like generic steering\")"
   ]
  },
  {
   "cell_type": "code",
   "execution_count": 57,
   "metadata": {},
   "outputs": [],
   "source": [
    "class MusicPlayer:\n",
    "    \n",
    "    def start(self):\n",
    "        print(\"mp3 start\")\n",
    "    \n",
    "    def stop(self):\n",
    "        print(\"mp3 stop\")"
   ]
  },
  {
   "cell_type": "code",
   "execution_count": 59,
   "metadata": {},
   "outputs": [],
   "source": [
    "class Car:\n",
    "    \n",
    "    def __init__(self):\n",
    "        self.__engine=Engine()\n",
    "        self.__steering=Steering()\n",
    "        self.__mp3=MusicPlayer()\n",
    "        \n",
    "    def start(self):\n",
    "        self.__engine.start()\n",
    "        self.__mp3.start()\n",
    "    def stop(self):\n",
    "        self.__engine.stop()\n",
    "        self.__mp3.stop()"
   ]
  },
  {
   "cell_type": "code",
   "execution_count": 60,
   "metadata": {},
   "outputs": [],
   "source": [
    "first=Car()"
   ]
  },
  {
   "cell_type": "code",
   "execution_count": 61,
   "metadata": {},
   "outputs": [
    {
     "name": "stdout",
     "output_type": "stream",
     "text": [
      "Start like generic engine\n",
      "mp3 start\n"
     ]
    }
   ],
   "source": [
    "first.start()"
   ]
  },
  {
   "cell_type": "code",
   "execution_count": 62,
   "metadata": {},
   "outputs": [
    {
     "name": "stdout",
     "output_type": "stream",
     "text": [
      "Stop like generic engine\n",
      "mp3 stop\n"
     ]
    }
   ],
   "source": [
    "first.stop()"
   ]
  },
  {
   "cell_type": "code",
   "execution_count": null,
   "metadata": {},
   "outputs": [],
   "source": []
  },
  {
   "cell_type": "code",
   "execution_count": null,
   "metadata": {},
   "outputs": [],
   "source": []
  }
 ],
 "metadata": {
  "kernelspec": {
   "display_name": "Python 3",
   "language": "python",
   "name": "python3"
  },
  "language_info": {
   "codemirror_mode": {
    "name": "ipython",
    "version": 3
   },
   "file_extension": ".py",
   "mimetype": "text/x-python",
   "name": "python",
   "nbconvert_exporter": "python",
   "pygments_lexer": "ipython3",
   "version": "3.6.10"
  }
 },
 "nbformat": 4,
 "nbformat_minor": 4
}
