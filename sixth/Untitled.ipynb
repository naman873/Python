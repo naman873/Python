{
 "cells": [
  {
   "cell_type": "code",
   "execution_count": 33,
   "metadata": {},
   "outputs": [],
   "source": [
    "class engine:\n",
    "    def __init__(self):\n",
    "        self.cycle=5\n",
    "    \n",
    "    def start(self):\n",
    "        if self.cycle>0:\n",
    "            print(\"engine start\")\n",
    "            self.cycle-=1\n",
    "        else:\n",
    "            print(\"engine start too many times\")"
   ]
  },
  {
   "cell_type": "code",
   "execution_count": 44,
   "metadata": {},
   "outputs": [],
   "source": [
    "class nitro:\n",
    "    def __init__(self):\n",
    "        self.cycle=5\n",
    "    \n",
    "    def start(self):\n",
    "        if self.cycle>0:\n",
    "            print(\"nitro engine start\")\n",
    "            self.cycle-=1\n",
    "        else:\n",
    "            print(\" nitro engine start too many times\")"
   ]
  },
  {
   "cell_type": "code",
   "execution_count": 34,
   "metadata": {},
   "outputs": [],
   "source": [
    "class deck:\n",
    "    def start(self):\n",
    "        print(\"deck start\")\n",
    "    def close(self):\n",
    "        print(\"declk close\")"
   ]
  },
  {
   "cell_type": "code",
   "execution_count": 35,
   "metadata": {},
   "outputs": [],
   "source": [
    "class movement:\n",
    "    def left(self):\n",
    "        print(\"car left movement\")\n",
    "    def right(self):\n",
    "        print(\"car right movemnt\")"
   ]
  },
  {
   "cell_type": "code",
   "execution_count": 45,
   "metadata": {},
   "outputs": [],
   "source": [
    "class car:\n",
    "    \n",
    "    def __init__(self):\n",
    "        self.__engine=engine()\n",
    "        self.__deck=deck()\n",
    "        self.__movement=movement()\n",
    "        \n",
    "    def start(self):\n",
    "        self.__engine.start()\n",
    "        self.__deck.start()\n",
    "        self.__movement.left()\n",
    "    def change_engine(self):\n",
    "        self.__engine=nitro()"
   ]
  },
  {
   "cell_type": "code",
   "execution_count": 46,
   "metadata": {},
   "outputs": [],
   "source": [
    "a=car()"
   ]
  },
  {
   "cell_type": "code",
   "execution_count": 48,
   "metadata": {},
   "outputs": [],
   "source": [
    "a.change_engine()"
   ]
  },
  {
   "cell_type": "code",
   "execution_count": 55,
   "metadata": {},
   "outputs": [
    {
     "name": "stdout",
     "output_type": "stream",
     "text": [
      " nitro engine start too many times\n",
      "deck start\n",
      "car left movement\n"
     ]
    }
   ],
   "source": [
    "a.start()"
   ]
  },
  {
   "cell_type": "code",
   "execution_count": null,
   "metadata": {},
   "outputs": [],
   "source": []
  }
 ],
 "metadata": {
  "kernelspec": {
   "display_name": "Python 3",
   "language": "python",
   "name": "python3"
  },
  "language_info": {
   "codemirror_mode": {
    "name": "ipython",
    "version": 3
   },
   "file_extension": ".py",
   "mimetype": "text/x-python",
   "name": "python",
   "nbconvert_exporter": "python",
   "pygments_lexer": "ipython3",
   "version": "3.7.4"
  }
 },
 "nbformat": 4,
 "nbformat_minor": 4
}
