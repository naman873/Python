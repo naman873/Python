{
 "cells": [
  {
   "cell_type": "code",
   "execution_count": 1,
   "metadata": {},
   "outputs": [],
   "source": [
    "from sklearn.linear_model import LinearRegression\n",
    "import numpy as np\n",
    "import matplotlib.pyplot as plt"
   ]
  },
  {
   "cell_type": "code",
   "execution_count": 2,
   "metadata": {},
   "outputs": [],
   "source": [
    "from sklearn.datasets import make_regression"
   ]
  },
  {
   "cell_type": "code",
   "execution_count": 25,
   "metadata": {},
   "outputs": [],
   "source": [
    "bias=10\n",
    "X,y,coeff=make_regression(n_features=1,coef=True,random_state=42,noise=10)"
   ]
  },
  {
   "cell_type": "code",
   "execution_count": null,
   "metadata": {},
   "outputs": [],
   "source": []
  },
  {
   "cell_type": "code",
   "execution_count": 26,
   "metadata": {},
   "outputs": [
    {
     "data": {
      "text/plain": [
       "<matplotlib.collections.PathCollection at 0x15345f80548>"
      ]
     },
     "execution_count": 26,
     "metadata": {},
     "output_type": "execute_result"
    },
    {
     "data": {
      "image/png": "[encoded data removed]",
      "text/plain": [
       "<Figure size 432x288 with 1 Axes>"
      ]
     },
     "metadata": {
      "needs_background": "light"
     },
     "output_type": "display_data"
    }
   ],
   "source": [
    "plt.scatter(X,y)"
   ]
  },
  {
   "cell_type": "code",
   "execution_count": 27,
   "metadata": {},
   "outputs": [],
   "source": [
    "class coustom():\n",
    "    \n",
    "    def __init__(self):\n",
    "        self.maxiter=100\n",
    "        self.lr=0.1\n",
    "        \n",
    "    def fit(self,X,y):\n",
    "        \n",
    "        self.coeff=np.random.random()\n",
    "        #print(self.coeff)\n",
    "        self.intercept=np.random.random()\n",
    "        error=[]\n",
    "        for i in range(self.maxiter):\n",
    "            e=self.gradient_decent(X,y)\n",
    "            error.append(e)\n",
    "        return error\n",
    "        \n",
    "    def gradient_decent(self,X,y):\n",
    "        delta_coeff,delta_intercept,e=self.gradient(X,y)\n",
    "        #print(\"sdf\",delta_intercept)\n",
    "        self.coeff+=delta_coeff\n",
    "        self.intercept+=delta_intercept\n",
    "        return e\n",
    "        \n",
    "    def gradient(self,X,y):\n",
    "        yp=self.predict(X)\n",
    "        ya=y.reshape(-1,1)\n",
    "        diff=yp-ya\n",
    "        \n",
    "        d2em=np.mean((diff)*X)\n",
    "        d2ec=np.mean(diff)\n",
    "        #print(d2em.shape)\n",
    "        #print(d2ec)\n",
    "        \n",
    "        \n",
    "        return -self.lr*d2em ,-self.lr*d2ec,np.mean(diff)**2\n",
    "    \n",
    "    def predict(self,x):\n",
    "        a=x*self.coeff + self.intercept\n",
    "        #print(a.shape)\n",
    "        return x*self.coeff + self.intercept"
   ]
  },
  {
   "cell_type": "code",
   "execution_count": 28,
   "metadata": {},
   "outputs": [],
   "source": [
    "a=coustom()"
   ]
  },
  {
   "cell_type": "code",
   "execution_count": 29,
   "metadata": {},
   "outputs": [],
   "source": [
    "error=a.fit(X,y)"
   ]
  },
  {
   "cell_type": "code",
   "execution_count": 30,
   "metadata": {},
   "outputs": [
    {
     "data": {
      "text/plain": [
       "1.160240679115198"
      ]
     },
     "execution_count": 30,
     "metadata": {},
     "output_type": "execute_result"
    }
   ],
   "source": [
    "a.intercept"
   ]
  },
  {
   "cell_type": "code",
   "execution_count": 31,
   "metadata": {},
   "outputs": [],
   "source": [
    "yp=a.predict(X)"
   ]
  },
  {
   "cell_type": "markdown",
   "metadata": {},
   "source": [
    "####   for scoring in liner reg we use R2(R squared)"
   ]
  },
  {
   "cell_type": "code",
   "execution_count": 40,
   "metadata": {},
   "outputs": [],
   "source": [
    "def r2(y,yp):\n",
    "    num=np.sum((y-yp)**2)\n",
    "    dem=np.sum((y-y.mean())**2)\n",
    "    \n",
    "    score=1- (num/dem)\n",
    "    return score"
   ]
  },
  {
   "cell_type": "code",
   "execution_count": 41,
   "metadata": {},
   "outputs": [],
   "source": [
    "y=y.reshape(-1,1)"
   ]
  },
  {
   "cell_type": "code",
   "execution_count": 42,
   "metadata": {},
   "outputs": [
    {
     "data": {
      "text/plain": [
       "0.9538251785744034"
      ]
     },
     "execution_count": 42,
     "metadata": {},
     "output_type": "execute_result"
    }
   ],
   "source": [
    "r2(y,yp)"
   ]
  },
  {
   "cell_type": "code",
   "execution_count": null,
   "metadata": {},
   "outputs": [],
   "source": []
  },
  {
   "cell_type": "code",
   "execution_count": null,
   "metadata": {},
   "outputs": [],
   "source": []
  },
  {
   "cell_type": "code",
   "execution_count": null,
   "metadata": {},
   "outputs": [],
   "source": []
  },
  {
   "cell_type": "code",
   "execution_count": 20,
   "metadata": {},
   "outputs": [
    {
     "data": {
      "image/png": "[encoded data removed]",
      "text/plain": [
       "<Figure size 432x288 with 1 Axes>"
      ]
     },
     "metadata": {
      "needs_background": "light"
     },
     "output_type": "display_data"
    },
    {
     "data": {
      "image/png": "[encoded data removed]",
      "text/plain": [
       "<Figure size 432x288 with 1 Axes>"
      ]
     },
     "metadata": {
      "needs_background": "light"
     },
     "output_type": "display_data"
    }
   ],
   "source": [
    "yp=a.predict(X)\n",
    "plt.scatter(X,y)\n",
    "plt.scatter(X,yp)\n",
    "plt.figure()\n",
    "plt.plot(error)\n",
    "plt.show()"
   ]
  },
  {
   "cell_type": "code",
   "execution_count": 21,
   "metadata": {},
   "outputs": [
    {
     "data": {
      "text/plain": [
       "44.4260865414238"
      ]
     },
     "execution_count": 21,
     "metadata": {},
     "output_type": "execute_result"
    }
   ],
   "source": [
    "a.coeff"
   ]
  },
  {
   "cell_type": "code",
   "execution_count": null,
   "metadata": {},
   "outputs": [],
   "source": []
  },
  {
   "cell_type": "code",
   "execution_count": null,
   "metadata": {},
   "outputs": [],
   "source": []
  },
  {
   "cell_type": "code",
   "execution_count": 3,
   "metadata": {},
   "outputs": [],
   "source": [
    "X,y,coeff=make_regression(n_features=5,noise=10,random_state=42,coef=True)"
   ]
  },
  {
   "cell_type": "code",
   "execution_count": null,
   "metadata": {},
   "outputs": [],
   "source": []
  },
  {
   "cell_type": "code",
   "execution_count": 14,
   "metadata": {},
   "outputs": [],
   "source": [
    "class coustom():\n",
    "    \n",
    "    def __init__(self):\n",
    "        self.maxiter=100\n",
    "        self.lr=0.1\n",
    "        \n",
    "    def fit(self,X,y):\n",
    "        \n",
    "        self.coeff=np.random.randn(X.shape[1])\n",
    "        #print(self.coeff)\n",
    "        self.intercept=np.random.random()\n",
    "        error=[]\n",
    "        for i in range(self.maxiter):\n",
    "            e=self.gradient_decent(X,y)\n",
    "            error.append(e)\n",
    "        return error\n",
    "        \n",
    "    def gradient_decent(self,X,y):\n",
    "        delta_coeff,delta_intercept,e=self.gradient(X,y)\n",
    "        #print(\"sdf\",delta_intercept)\n",
    "        self.coeff+=delta_coeff\n",
    "        self.intercept+=delta_intercept\n",
    "        return e\n",
    "        \n",
    "    def gradient(self,X,y):\n",
    "        yp=self.predict(X)\n",
    "        ya=y.reshape(-1,1)\n",
    "        diff=yp-ya\n",
    "        \n",
    "        d2em=np.dot(diff.T,X).flatten()/len(X)\n",
    "        d2ec=np.mean(diff,axis=0)\n",
    "        #print(d2em.shape)\n",
    "        #print(d2ec)\n",
    "        \n",
    "        \n",
    "        return -self.lr*d2em ,-self.lr*d2ec,np.mean(diff)**2\n",
    "    \n",
    "    def predict(self,x):\n",
    "        #a=np.sum(x*self.coeff,axis=1,keepdims=True)+    self.intercept\n",
    "        #print(a.shape)\n",
    "        return np.sum(x*self.coeff,keepdims=True,axis=1) + self.intercept"
   ]
  },
  {
   "cell_type": "code",
   "execution_count": 15,
   "metadata": {},
   "outputs": [],
   "source": [
    "a=coustom()"
   ]
  },
  {
   "cell_type": "code",
   "execution_count": 16,
   "metadata": {},
   "outputs": [],
   "source": [
    "e=a.fit(X,y)"
   ]
  },
  {
   "cell_type": "code",
   "execution_count": 17,
   "metadata": {},
   "outputs": [
    {
     "data": {
      "text/plain": [
       "[<matplotlib.lines.Line2D at 0x1451f3efa08>]"
      ]
     },
     "execution_count": 17,
     "metadata": {},
     "output_type": "execute_result"
    },
    {
     "data": {
      "image/png": "[encoded data removed]",
      "text/plain": [
       "<Figure size 432x288 with 1 Axes>"
      ]
     },
     "metadata": {
      "needs_background": "light"
     },
     "output_type": "display_data"
    }
   ],
   "source": [
    "plt.plot(e)"
   ]
  },
  {
   "cell_type": "code",
   "execution_count": null,
   "metadata": {},
   "outputs": [],
   "source": []
  },
  {
   "cell_type": "code",
   "execution_count": null,
   "metadata": {},
   "outputs": [],
   "source": []
  },
  {
   "cell_type": "code",
   "execution_count": null,
   "metadata": {},
   "outputs": [],
   "source": []
  }
 ],
 "metadata": {
  "kernelspec": {
   "display_name": "Python 3",
   "language": "python",
   "name": "python3"
  },
  "language_info": {
   "codemirror_mode": {
    "name": "ipython",
    "version": 3
   },
   "file_extension": ".py",
   "mimetype": "text/x-python",
   "name": "python",
   "nbconvert_exporter": "python",
   "pygments_lexer": "ipython3",
   "version": "3.7.4"
  }
 },
 "nbformat": 4,
 "nbformat_minor": 4
}
