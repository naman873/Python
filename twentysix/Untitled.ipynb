{
 "cells": [
  {
   "cell_type": "code",
   "execution_count": 157,
   "metadata": {},
   "outputs": [],
   "source": [
    "import numpy as np\n",
    "import matplotlib.pyplot as plt\n",
    "from sklearn.linear_model import LinearRegression"
   ]
  },
  {
   "cell_type": "code",
   "execution_count": 158,
   "metadata": {},
   "outputs": [],
   "source": [
    "x=np.linspace(-100,100,100)\n",
    "noise=np.random.randn(100)*1000\n",
    "y=(x**2)+noise\n",
    "x_mod=(x-np.mean(x))/np.std(x)\n",
    "y_mod=-(y-np.mean(y))/(np.std(y))"
   ]
  },
  {
   "cell_type": "code",
   "execution_count": 159,
   "metadata": {},
   "outputs": [
    {
     "data": {
      "text/plain": [
       "<matplotlib.collections.PathCollection at 0x235df3d2d08>"
      ]
     },
     "execution_count": 159,
     "metadata": {},
     "output_type": "execute_result"
    },
    {
     "data": {
      "image/png": "[encoded data removed]",
      "text/plain": [
       "<Figure size 432x288 with 1 Axes>"
      ]
     },
     "metadata": {
      "needs_background": "light"
     },
     "output_type": "display_data"
    }
   ],
   "source": [
    "plt.scatter(x_mod,y_mod)"
   ]
  },
  {
   "cell_type": "code",
   "execution_count": 143,
   "metadata": {},
   "outputs": [],
   "source": [
    "class Linee:\n",
    "    \n",
    "    def __init__(self,lr=0.01,maxstep=1000):\n",
    "        self.lr=lr\n",
    "        self.maxstep=maxstep\n",
    "    \n",
    "    def fit(self,x,y):\n",
    "        self.a=np.random.random()\n",
    "        self.b=np.random.random()\n",
    "        self.c=np.random.random()\n",
    "        \n",
    "        for i in range(self.maxstep):\n",
    "            self.gradient_decent(x,y)\n",
    "    \n",
    "    def gradient_decent(self,x,y):\n",
    "        delta_a , delta_b ,delta_c=self.gradient(x,y)\n",
    "        \n",
    "        self.a+=delta_a\n",
    "        self.b+=delta_b\n",
    "        self.c+=delta_c\n",
    "        \n",
    "    def gradient(self,x,y):\n",
    "        yp=self.predicted(x)\n",
    "        \n",
    "        de2a=np.mean((yp-y)*(x**2))\n",
    "        de2b=np.mean(yp-y*(x))\n",
    "        de2c=np.mean(yp-y)\n",
    "        \n",
    "        return -de2a*self.lr,-de2b*self.lr,-de2c*self.lr\n",
    "        \n",
    "    def predicted(self,x):\n",
    "        return self.a*(x**2) + self.b*x + self.c\n",
    "                "
   ]
  },
  {
   "cell_type": "code",
   "execution_count": 144,
   "metadata": {},
   "outputs": [],
   "source": [
    "a=Linee()"
   ]
  },
  {
   "cell_type": "code",
   "execution_count": 145,
   "metadata": {},
   "outputs": [],
   "source": [
    "a.fit(x_mod,y_mod)"
   ]
  },
  {
   "cell_type": "code",
   "execution_count": null,
   "metadata": {},
   "outputs": [],
   "source": []
  },
  {
   "cell_type": "code",
   "execution_count": null,
   "metadata": {},
   "outputs": [],
   "source": []
  }
 ],
 "metadata": {
  "kernelspec": {
   "display_name": "Python 3",
   "language": "python",
   "name": "python3"
  },
  "language_info": {
   "codemirror_mode": {
    "name": "ipython",
    "version": 3
   },
   "file_extension": ".py",
   "mimetype": "text/x-python",
   "name": "python",
   "nbconvert_exporter": "python",
   "pygments_lexer": "ipython3",
   "version": "3.7.4"
  }
 },
 "nbformat": 4,
 "nbformat_minor": 4
}
